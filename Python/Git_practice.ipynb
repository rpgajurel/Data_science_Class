{
 "cells": [
  {
   "cell_type": "code",
   "execution_count": 1,
   "id": "110ce109-d062-4c57-8fea-7b740baf1925",
   "metadata": {},
   "outputs": [
    {
     "name": "stdout",
     "output_type": "stream",
     "text": [
      "0 is an even number \n",
      "1 is an odd number \n",
      "2 is an even number \n",
      "3 is an odd number \n",
      "4 is an even number \n",
      "5 is an odd number \n",
      "6 is an even number \n",
      "7 is an odd number \n",
      "8 is an even number \n",
      "9 is an odd number \n",
      "10 is an even number \n",
      "11 is an odd number \n",
      "12 is an even number \n",
      "13 is an odd number \n",
      "14 is an even number \n"
     ]
    }
   ],
   "source": [
    "#% is for divide\n",
    "a = 0\n",
    "while a<15:\n",
    "    if a%2==0:\n",
    "        print(f'{a} is an even number ')\n",
    "        a+=1\n",
    "    else: \n",
    "        print(f'{a} is an odd number ')\n",
    "        a+=1\n",
    "    "
   ]
  },
  {
   "cell_type": "code",
   "execution_count": 17,
   "id": "8c1e3968-b2fc-4a8b-a9ed-d6a45dc63fb0",
   "metadata": {},
   "outputs": [
    {
     "name": "stderr",
     "output_type": "stream",
     "text": [
      "warning: in the working copy of 'Python/.ipynb_checkpoints/Git_practice-checkpoint.ipynb', LF will be replaced by CRLF the next time Git touches it\n",
      "warning: in the working copy of 'Python/Git_practice.ipynb', LF will be replaced by CRLF the next time Git touches it\n"
     ]
    }
   ],
   "source": [
    "# push for Github ! for command \n",
    "! git add .\n"
   ]
  },
  {
   "cell_type": "code",
   "execution_count": 28,
   "id": "5af5b13f-555c-47a1-991f-da67402d3d4b",
   "metadata": {},
   "outputs": [
    {
     "name": "stderr",
     "output_type": "stream",
     "text": [
      "error: pathspec 'new' did not match any file(s) known to git\n",
      "error: pathspec 'file'' did not match any file(s) known to git\n"
     ]
    }
   ],
   "source": [
    "! git commit -m 'added new file'"
   ]
  },
  {
   "cell_type": "code",
   "execution_count": 27,
   "id": "4107acbe-d58b-4b66-978d-2b071ccd23f6",
   "metadata": {},
   "outputs": [
    {
     "name": "stdout",
     "output_type": "stream",
     "text": [
      "branch 'main' set up to track 'origin/main'.\n"
     ]
    },
    {
     "name": "stderr",
     "output_type": "stream",
     "text": [
      "Everything up-to-date\n"
     ]
    }
   ],
   "source": [
    "! git push -u origin main"
   ]
  },
  {
   "cell_type": "code",
   "execution_count": null,
   "id": "fb67b6d1-9c2d-4dc7-a17a-a0bb12d147fb",
   "metadata": {},
   "outputs": [],
   "source": [
    "#% is for divide\n",
    "a = 0\n",
    "while a<15:\n",
    "    if a%2==0:\n",
    "        print(f'{a} is an even number ')\n",
    "        a+=1\n",
    "    else: \n",
    "        print(f'{a} is an odd number ')\n",
    "        a+=1"
   ]
  }
 ],
 "metadata": {
  "kernelspec": {
   "display_name": "Python 3 (ipykernel)",
   "language": "python",
   "name": "python3"
  },
  "language_info": {
   "codemirror_mode": {
    "name": "ipython",
    "version": 3
   },
   "file_extension": ".py",
   "mimetype": "text/x-python",
   "name": "python",
   "nbconvert_exporter": "python",
   "pygments_lexer": "ipython3",
   "version": "3.12.4"
  }
 },
 "nbformat": 4,
 "nbformat_minor": 5
}
