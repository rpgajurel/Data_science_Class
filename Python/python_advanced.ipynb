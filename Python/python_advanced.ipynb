{
 "cells": [
  {
   "cell_type": "markdown",
   "id": "55e6ae20-4e1d-4eef-8d05-13de3a5566ab",
   "metadata": {},
   "source": [
    "### List"
   ]
  },
  {
   "cell_type": "markdown",
   "id": "24358ee9-7e83-4d5a-b475-ee294e3c4612",
   "metadata": {},
   "source": [
    "### List"
   ]
  },
  {
   "cell_type": "code",
   "execution_count": 2,
   "id": "eda01c2b-3152-4b61-83ca-c1503ae3de1a",
   "metadata": {},
   "outputs": [],
   "source": [
    "##for list used Square bracket \n",
    "a = ['Ram', 'Hari', 'Sita', 'Suyog', 'Aarthik']  "
   ]
  },
  {
   "cell_type": "code",
   "execution_count": 4,
   "id": "ee70d3e7-a2d5-4b29-9a62-0daea2f48031",
   "metadata": {},
   "outputs": [
    {
     "data": {
      "text/plain": [
       "list"
      ]
     },
     "execution_count": 4,
     "metadata": {},
     "output_type": "execute_result"
    }
   ],
   "source": [
    "type(a)"
   ]
  },
  {
   "cell_type": "code",
   "execution_count": 6,
   "id": "cd9a4a27-c048-465e-8d3a-10b1c19c2213",
   "metadata": {},
   "outputs": [
    {
     "data": {
      "text/plain": [
       "'Ram'"
      ]
     },
     "execution_count": 6,
     "metadata": {},
     "output_type": "execute_result"
    }
   ],
   "source": [
    "#List is indexed\n",
    "##Elements are changable \n",
    "## List allows duplicate value \n",
    "a[0]"
   ]
  },
  {
   "cell_type": "code",
   "execution_count": 8,
   "id": "8f2c4863-706a-40b8-93dc-fc85f81b6afc",
   "metadata": {},
   "outputs": [
    {
     "data": {
      "text/plain": [
       "'Aarthik'"
      ]
     },
     "execution_count": 8,
     "metadata": {},
     "output_type": "execute_result"
    }
   ],
   "source": [
    "a[-1]"
   ]
  },
  {
   "cell_type": "code",
   "execution_count": 10,
   "id": "81873969-e7a2-49d6-ac1f-0fbc19b2775a",
   "metadata": {},
   "outputs": [
    {
     "name": "stdout",
     "output_type": "stream",
     "text": [
      "['Ram', 'Hari', 'Sita', 'Suyog', 'Aarthik']\n"
     ]
    }
   ],
   "source": [
    "print(a)"
   ]
  },
  {
   "cell_type": "code",
   "execution_count": 12,
   "id": "8e38c592-e78f-4c00-b452-1e304c4f7bf2",
   "metadata": {},
   "outputs": [
    {
     "data": {
      "text/plain": [
       "5"
      ]
     },
     "execution_count": 12,
     "metadata": {},
     "output_type": "execute_result"
    }
   ],
   "source": [
    "len(a)  #count the elements "
   ]
  },
  {
   "cell_type": "code",
   "execution_count": 16,
   "id": "973c6c44-e02d-4997-a570-58ef3f65ac61",
   "metadata": {},
   "outputs": [],
   "source": [
    "#List can have different data types\n",
    "b =['Hello', 2, False, 'Module', True, 55, 67.6]"
   ]
  },
  {
   "cell_type": "code",
   "execution_count": 18,
   "id": "8557d224-3bba-4bed-91b8-5d8efbc33630",
   "metadata": {},
   "outputs": [
    {
     "name": "stdout",
     "output_type": "stream",
     "text": [
      "['Hello', 2, False, 'Module', True, 55, 67.6]\n"
     ]
    }
   ],
   "source": [
    "print(b)"
   ]
  },
  {
   "cell_type": "code",
   "execution_count": 20,
   "id": "ace1792f-3f41-4e7e-870c-6b0b9caac910",
   "metadata": {},
   "outputs": [],
   "source": [
    "#list can be made by using (()) as single arguments\n",
    "c = list(('Hello', 2, False, 'Module', True, 55, 67.6))  #double brackets for single arguments"
   ]
  },
  {
   "cell_type": "code",
   "execution_count": 22,
   "id": "fa4306a5-07fd-444f-9216-4850dc18dfea",
   "metadata": {},
   "outputs": [
    {
     "name": "stdout",
     "output_type": "stream",
     "text": [
      "['Hello', 2, False, 'Module', True, 55, 67.6]\n"
     ]
    }
   ],
   "source": [
    "print(c)"
   ]
  },
  {
   "cell_type": "code",
   "execution_count": 24,
   "id": "350a79d6-f4d6-474f-b8e4-2b2012944344",
   "metadata": {},
   "outputs": [
    {
     "data": {
      "text/plain": [
       "list"
      ]
     },
     "execution_count": 24,
     "metadata": {},
     "output_type": "execute_result"
    }
   ],
   "source": [
    "type(c)"
   ]
  },
  {
   "cell_type": "markdown",
   "id": "14cfa9d7-528b-46ec-a042-b5f30dced017",
   "metadata": {},
   "source": [
    "## Item of list can be accessed or indexing"
   ]
  },
  {
   "cell_type": "code",
   "execution_count": 29,
   "id": "4fd9181d-6f1b-4a3b-8648-bbe3055dfede",
   "metadata": {},
   "outputs": [
    {
     "data": {
      "text/plain": [
       "2"
      ]
     },
     "execution_count": 29,
     "metadata": {},
     "output_type": "execute_result"
    }
   ],
   "source": [
    "c[1]"
   ]
  },
  {
   "cell_type": "code",
   "execution_count": 31,
   "id": "2727d8fc-67f8-4ce7-8446-9c64d324e22c",
   "metadata": {},
   "outputs": [
    {
     "data": {
      "text/plain": [
       "67.6"
      ]
     },
     "execution_count": 31,
     "metadata": {},
     "output_type": "execute_result"
    }
   ],
   "source": [
    "c[-1]"
   ]
  },
  {
   "cell_type": "code",
   "execution_count": 33,
   "id": "cad5f767-cd7e-41ec-bc7c-6c8d14f88371",
   "metadata": {},
   "outputs": [
    {
     "data": {
      "text/plain": [
       "['Module', True]"
      ]
     },
     "execution_count": 33,
     "metadata": {},
     "output_type": "execute_result"
    }
   ],
   "source": [
    "c[3:5]"
   ]
  },
  {
   "cell_type": "code",
   "execution_count": 35,
   "id": "4dad7556-5ddc-4445-8f64-b9bbbed7b8fb",
   "metadata": {},
   "outputs": [],
   "source": [
    "ad=100  #adding hundred in list \n",
    "sum=ad+c[1]"
   ]
  },
  {
   "cell_type": "code",
   "execution_count": 37,
   "id": "9353aed8-30cb-4e93-a0f0-85fe7d1eebe6",
   "metadata": {},
   "outputs": [
    {
     "name": "stdout",
     "output_type": "stream",
     "text": [
      "102\n"
     ]
    }
   ],
   "source": [
    "print(sum)"
   ]
  },
  {
   "cell_type": "code",
   "execution_count": 39,
   "id": "8ee04b8d-03a6-4a46-b86d-cde288b3309b",
   "metadata": {},
   "outputs": [],
   "source": [
    "#Element can be changed"
   ]
  },
  {
   "cell_type": "code",
   "execution_count": 67,
   "id": "efa2f8b2-b851-4197-a19d-8cdb95f85b7f",
   "metadata": {},
   "outputs": [],
   "source": [
    "d = a = ['Ram', 'Hari', 'Sita', 'Suyog', 'Aarthik']  "
   ]
  },
  {
   "cell_type": "code",
   "execution_count": 51,
   "id": "e3cc7c4c-66ac-41a8-8f3d-0a3522bea85a",
   "metadata": {},
   "outputs": [
    {
     "name": "stdout",
     "output_type": "stream",
     "text": [
      "['Ram', 'Hari', 'Sita', 'Suyog', 'Ernesto']\n"
     ]
    }
   ],
   "source": [
    "d[-1] = 'Ernesto'\n",
    "print(d)"
   ]
  },
  {
   "cell_type": "code",
   "execution_count": 53,
   "id": "a157c3a2-2fd8-4a7b-b5ce-198afd08cee8",
   "metadata": {},
   "outputs": [
    {
     "data": {
      "text/plain": [
       "['Hari', 'Sita', 'Suyog']"
      ]
     },
     "execution_count": 53,
     "metadata": {},
     "output_type": "execute_result"
    }
   ],
   "source": [
    "d[1:4]"
   ]
  },
  {
   "cell_type": "code",
   "execution_count": 55,
   "id": "34b9b06f-6e57-4a63-9cd4-4de6528e7f5d",
   "metadata": {},
   "outputs": [],
   "source": [
    "d[1:4] = ['RP',True, 'Kathmandu', 20]"
   ]
  },
  {
   "cell_type": "code",
   "execution_count": 57,
   "id": "559785bd-e4b5-4ba6-b4ac-d59bc7382dfc",
   "metadata": {},
   "outputs": [
    {
     "name": "stdout",
     "output_type": "stream",
     "text": [
      "['Ram', 'RP', True, 'Kathmandu', 20, 'Ernesto']\n"
     ]
    }
   ],
   "source": [
    "print(d)"
   ]
  },
  {
   "cell_type": "code",
   "execution_count": 69,
   "id": "ba9896cc-1d36-4f32-941e-1e45a184e4f9",
   "metadata": {},
   "outputs": [],
   "source": [
    "d[4] = ['RP',True, 'Kathmandu', 20]"
   ]
  },
  {
   "cell_type": "code",
   "execution_count": 71,
   "id": "f6938086-b335-4641-b089-7026d96b7d31",
   "metadata": {},
   "outputs": [
    {
     "name": "stdout",
     "output_type": "stream",
     "text": [
      "['Ram', 'Hari', 'Sita', 'Suyog', ['RP', True, 'Kathmandu', 20]]\n"
     ]
    }
   ],
   "source": [
    "print(d)"
   ]
  },
  {
   "cell_type": "code",
   "execution_count": 81,
   "id": "b6b6c5bd-d9ec-4b25-92cb-3f99054da8fb",
   "metadata": {},
   "outputs": [],
   "source": [
    "d.insert(4,'Nepal')"
   ]
  },
  {
   "cell_type": "code",
   "execution_count": 83,
   "id": "31753fb4-8ba3-4a45-b552-16231d0c0e8b",
   "metadata": {},
   "outputs": [
    {
     "data": {
      "text/plain": [
       "['Ram', 'Hari', 'Sita', 'Suyog', 'Nepal', ['RP', True, 'Kathmandu', 20]]"
      ]
     },
     "execution_count": 83,
     "metadata": {},
     "output_type": "execute_result"
    }
   ],
   "source": [
    "d"
   ]
  },
  {
   "cell_type": "code",
   "execution_count": 85,
   "id": "5041e659-b3f8-4a07-ac19-227d467ab7bb",
   "metadata": {},
   "outputs": [],
   "source": [
    "c = list(('Hello', 2, False, 'Module', True, 55, 67.6)) "
   ]
  },
  {
   "cell_type": "code",
   "execution_count": 87,
   "id": "47a3c759-c9ac-455d-8af6-ee73243f17fd",
   "metadata": {},
   "outputs": [],
   "source": [
    "c.append('Ram')"
   ]
  },
  {
   "cell_type": "code",
   "execution_count": 89,
   "id": "24145fd2-aa0f-4a09-8603-ea00db82f5f2",
   "metadata": {},
   "outputs": [
    {
     "name": "stdout",
     "output_type": "stream",
     "text": [
      "['Hello', 2, False, 'Module', True, 55, 67.6, 'Ram']\n"
     ]
    }
   ],
   "source": [
    "print(c)"
   ]
  },
  {
   "cell_type": "code",
   "execution_count": 95,
   "id": "cd6191ba-3c5d-44a1-b1ee-c35dd4c44ee4",
   "metadata": {},
   "outputs": [],
   "source": [
    "c.extend(['Ram', 'Aarthik', 'Suyog'])"
   ]
  },
  {
   "cell_type": "code",
   "execution_count": 97,
   "id": "357c37ab-0b0e-444c-b78e-f466004344a4",
   "metadata": {},
   "outputs": [
    {
     "name": "stdout",
     "output_type": "stream",
     "text": [
      "['Hello', 2, False, 'Module', True, 55, 67.6, 'Ram', 'Ram', 'Aarthik', 'Suyog', 'Ram', 'Aarthik', 'Suyog', 'Ram', 'Aarthik', 'Suyog']\n"
     ]
    }
   ],
   "source": [
    "print(c)"
   ]
  },
  {
   "cell_type": "code",
   "execution_count": 99,
   "id": "fe83ee1b-3f66-4699-9bdb-50b41d90b0a2",
   "metadata": {},
   "outputs": [],
   "source": [
    "c.remove('Module')  #first word remove"
   ]
  },
  {
   "cell_type": "code",
   "execution_count": 101,
   "id": "fb03506e-b4f8-4574-a8e2-ee02c5a07de7",
   "metadata": {},
   "outputs": [
    {
     "name": "stdout",
     "output_type": "stream",
     "text": [
      "['Hello', 2, False, True, 55, 67.6, 'Ram', 'Ram', 'Aarthik', 'Suyog', 'Ram', 'Aarthik', 'Suyog', 'Ram', 'Aarthik', 'Suyog']\n"
     ]
    }
   ],
   "source": [
    "print(c)"
   ]
  },
  {
   "cell_type": "code",
   "execution_count": 103,
   "id": "16f9d154-838b-4ce3-8671-d69904482ee1",
   "metadata": {},
   "outputs": [
    {
     "data": {
      "text/plain": [
       "'Suyog'"
      ]
     },
     "execution_count": 103,
     "metadata": {},
     "output_type": "execute_result"
    }
   ],
   "source": [
    "c.pop()  # removing last element"
   ]
  },
  {
   "cell_type": "code",
   "execution_count": 105,
   "id": "270fbf5c-3bc1-4ccd-a27d-9fff37739ed4",
   "metadata": {},
   "outputs": [
    {
     "name": "stdout",
     "output_type": "stream",
     "text": [
      "['Hello', 2, False, True, 55, 67.6, 'Ram', 'Ram', 'Aarthik', 'Suyog', 'Ram', 'Aarthik', 'Suyog', 'Ram', 'Aarthik']\n"
     ]
    }
   ],
   "source": [
    "print(c)"
   ]
  },
  {
   "cell_type": "code",
   "execution_count": 107,
   "id": "c6b0c205-f34a-400c-ad21-29eaf38b4392",
   "metadata": {},
   "outputs": [
    {
     "data": {
      "text/plain": [
       "'Ram'"
      ]
     },
     "execution_count": 107,
     "metadata": {},
     "output_type": "execute_result"
    }
   ],
   "source": [
    "c.pop(7) # removing 8th position item from list"
   ]
  },
  {
   "cell_type": "code",
   "execution_count": 109,
   "id": "223eb512-2ca3-4779-848f-1264beb9be9f",
   "metadata": {},
   "outputs": [
    {
     "name": "stdout",
     "output_type": "stream",
     "text": [
      "['Hello', 2, False, True, 55, 67.6, 'Ram', 'Aarthik', 'Suyog', 'Ram', 'Aarthik', 'Suyog', 'Ram', 'Aarthik']\n"
     ]
    }
   ],
   "source": [
    "print (c)"
   ]
  },
  {
   "cell_type": "code",
   "execution_count": 111,
   "id": "89d5fe22-b2e6-4851-ae99-6e71d32e69e6",
   "metadata": {},
   "outputs": [],
   "source": [
    "del c[6]  # alternative way to delet "
   ]
  },
  {
   "cell_type": "code",
   "execution_count": 113,
   "id": "e82eea79-7b10-4a5b-afd0-7b8b5bb87e5e",
   "metadata": {},
   "outputs": [
    {
     "name": "stdout",
     "output_type": "stream",
     "text": [
      "['Hello', 2, False, True, 55, 67.6, 'Aarthik', 'Suyog', 'Ram', 'Aarthik', 'Suyog', 'Ram', 'Aarthik']\n"
     ]
    }
   ],
   "source": [
    "print(c)"
   ]
  },
  {
   "cell_type": "code",
   "execution_count": 115,
   "id": "9b2e3dcb-4461-4531-a3be-e83ddc73e520",
   "metadata": {},
   "outputs": [],
   "source": [
    "d = c"
   ]
  },
  {
   "cell_type": "code",
   "execution_count": 117,
   "id": "455c1f48-bd21-4899-aae4-8e5f11f46f1b",
   "metadata": {},
   "outputs": [
    {
     "name": "stdout",
     "output_type": "stream",
     "text": [
      "['Hello', 2, False, True, 55, 67.6, 'Aarthik', 'Suyog', 'Ram', 'Aarthik', 'Suyog', 'Ram', 'Aarthik']\n"
     ]
    }
   ],
   "source": [
    "print(d)"
   ]
  },
  {
   "cell_type": "code",
   "execution_count": 125,
   "id": "a5f53c83-1be6-4b94-a885-8218314a16f6",
   "metadata": {},
   "outputs": [
    {
     "ename": "NameError",
     "evalue": "name 'c' is not defined",
     "output_type": "error",
     "traceback": [
      "\u001b[1;31m---------------------------------------------------------------------------\u001b[0m",
      "\u001b[1;31mNameError\u001b[0m                                 Traceback (most recent call last)",
      "Cell \u001b[1;32mIn[125], line 1\u001b[0m\n\u001b[1;32m----> 1\u001b[0m \u001b[38;5;28;01mdel\u001b[39;00m c\n",
      "\u001b[1;31mNameError\u001b[0m: name 'c' is not defined"
     ]
    }
   ],
   "source": [
    "del c  #delet complete list and d is created"
   ]
  },
  {
   "cell_type": "code",
   "execution_count": 127,
   "id": "eb7f5a78-3824-4a54-932d-6bfd2439ee98",
   "metadata": {},
   "outputs": [
    {
     "ename": "NameError",
     "evalue": "name 'c' is not defined",
     "output_type": "error",
     "traceback": [
      "\u001b[1;31m---------------------------------------------------------------------------\u001b[0m",
      "\u001b[1;31mNameError\u001b[0m                                 Traceback (most recent call last)",
      "Cell \u001b[1;32mIn[127], line 1\u001b[0m\n\u001b[1;32m----> 1\u001b[0m c\n",
      "\u001b[1;31mNameError\u001b[0m: name 'c' is not defined"
     ]
    }
   ],
   "source": [
    "c "
   ]
  },
  {
   "cell_type": "code",
   "execution_count": 129,
   "id": "7f5185ef-26a4-42b6-b408-82dec6523749",
   "metadata": {},
   "outputs": [],
   "source": [
    "d.clear()  #values of list removed"
   ]
  },
  {
   "cell_type": "code",
   "execution_count": 131,
   "id": "7555ac37-ed9d-4901-bc21-b522aa8446ed",
   "metadata": {},
   "outputs": [
    {
     "name": "stdout",
     "output_type": "stream",
     "text": [
      "[]\n"
     ]
    }
   ],
   "source": [
    "print(d)"
   ]
  },
  {
   "cell_type": "code",
   "execution_count": 133,
   "id": "7bbc9964-f135-42d6-bec6-918bb6be574d",
   "metadata": {},
   "outputs": [],
   "source": [
    "z = ['Hello', 2, False, 'Module', True, 55, 67.6, 'Ram', 'Ram', 'Aarthik', 'Suyog', 'Ram', 'Aarthik', 'Suyog', 'Ram', 'Aarthik', 'Suyog']"
   ]
  },
  {
   "cell_type": "code",
   "execution_count": 135,
   "id": "4e3427c6-bd9f-4b69-8555-cb0aec41065e",
   "metadata": {},
   "outputs": [
    {
     "name": "stdout",
     "output_type": "stream",
     "text": [
      "['Hello', 2, False, 'Module', True, 55, 67.6, 'Ram', 'Ram', 'Aarthik', 'Suyog', 'Ram', 'Aarthik', 'Suyog', 'Ram', 'Aarthik', 'Suyog']\n"
     ]
    }
   ],
   "source": [
    "print(z)"
   ]
  },
  {
   "cell_type": "code",
   "execution_count": 137,
   "id": "5b5f94f7-6d01-4cf6-9593-76a933108ee4",
   "metadata": {},
   "outputs": [
    {
     "name": "stdout",
     "output_type": "stream",
     "text": [
      "Hello\n",
      "2\n",
      "False\n",
      "Module\n",
      "True\n",
      "55\n",
      "67.6\n",
      "Ram\n",
      "Ram\n",
      "Aarthik\n",
      "Suyog\n",
      "Ram\n",
      "Aarthik\n",
      "Suyog\n",
      "Ram\n",
      "Aarthik\n",
      "Suyog\n"
     ]
    }
   ],
   "source": [
    "#given name for list values either i or element or anythings elasse from 0 to last printing: \n",
    "## it is called loop\n",
    "for i in z:\n",
    "    print(i)"
   ]
  },
  {
   "cell_type": "code",
   "execution_count": 141,
   "id": "60f14145-7578-4a1e-983e-0389de2782ea",
   "metadata": {},
   "outputs": [
    {
     "name": "stdout",
     "output_type": "stream",
     "text": [
      "Hello\n",
      "2\n",
      "False\n",
      "Module\n",
      "True\n",
      "55\n",
      "67.6\n",
      "Ram\n",
      "Ram\n",
      "Aarthik\n",
      "Suyog\n",
      "Ram\n",
      "Aarthik\n",
      "Suyog\n",
      "Ram\n",
      "Aarthik\n",
      "Suyog\n"
     ]
    }
   ],
   "source": [
    "for element in z:\n",
    "    print(element)"
   ]
  },
  {
   "cell_type": "code",
   "execution_count": 145,
   "id": "cd698c8a-b512-49bd-8719-11bc5fd9e424",
   "metadata": {},
   "outputs": [
    {
     "name": "stdout",
     "output_type": "stream",
     "text": [
      "Hello\n",
      "2\n",
      "False\n",
      "Module\n",
      "True\n",
      "55\n",
      "67.6\n",
      "Ram\n",
      "Ram\n",
      "Aarthik\n",
      "Suyog\n",
      "Ram\n",
      "Aarthik\n",
      "Suyog\n",
      "Ram\n",
      "Aarthik\n",
      "Suyog\n"
     ]
    }
   ],
   "source": [
    "for my in z:\n",
    "    print(my)"
   ]
  },
  {
   "cell_type": "code",
   "execution_count": 1,
   "id": "26a233c2-b75e-4ce5-ac7d-caa72802e906",
   "metadata": {},
   "outputs": [],
   "source": [
    "j = [4, 7 , 230, 5, 9, 24]"
   ]
  },
  {
   "cell_type": "code",
   "execution_count": 3,
   "id": "b80de400-aaef-4e6a-9845-a798a42e2a64",
   "metadata": {},
   "outputs": [
    {
     "name": "stdout",
     "output_type": "stream",
     "text": [
      "[4, 7, 230, 5, 9, 24]\n"
     ]
    }
   ],
   "source": [
    "print(j)"
   ]
  },
  {
   "cell_type": "code",
   "execution_count": 9,
   "id": "9ce794e5-eaa1-4b71-ab81-aafce44f0830",
   "metadata": {},
   "outputs": [],
   "source": [
    "j.sort()"
   ]
  },
  {
   "cell_type": "code",
   "execution_count": 11,
   "id": "e7d0f62c-d35a-4c5b-a467-8bcc2055463b",
   "metadata": {},
   "outputs": [
    {
     "name": "stdout",
     "output_type": "stream",
     "text": [
      "[4, 5, 7, 9, 24, 230]\n"
     ]
    }
   ],
   "source": [
    "print(j)"
   ]
  },
  {
   "cell_type": "code",
   "execution_count": 24,
   "id": "43d0add9-ccb7-4a64-af66-a02479399dee",
   "metadata": {},
   "outputs": [
    {
     "name": "stdout",
     "output_type": "stream",
     "text": [
      "[480]\n",
      "[480, 600]\n",
      "[480, 600, 840]\n",
      "[480, 600, 840, 1080]\n",
      "[480, 600, 840, 1080, 2880]\n",
      "[480, 600, 840, 1080, 2880, 27600]\n"
     ]
    }
   ],
   "source": [
    "npr= []\n",
    "for i in j:\n",
    "    npr.append(i*120)\n",
    "    print(npr)"
   ]
  },
  {
   "cell_type": "code",
   "execution_count": 28,
   "id": "4e2597d4-5ff9-4c52-bb3e-b4f7a04884a8",
   "metadata": {},
   "outputs": [],
   "source": [
    "j = [322, 34, 23, 5655, 54, 889, 1, 333]"
   ]
  },
  {
   "cell_type": "code",
   "execution_count": 4,
   "id": "1323f197-f6fc-41e6-9826-43ef7ad96199",
   "metadata": {},
   "outputs": [],
   "source": [
    "j.sort(reverse=True)"
   ]
  },
  {
   "cell_type": "code",
   "execution_count": 6,
   "id": "641cb55b-43be-48ad-a303-84325a082c8e",
   "metadata": {},
   "outputs": [
    {
     "name": "stdout",
     "output_type": "stream",
     "text": [
      "[5655, 889, 333, 322, 54, 34, 23, 1]\n"
     ]
    }
   ],
   "source": [
    "print(j)"
   ]
  },
  {
   "cell_type": "code",
   "execution_count": 10,
   "id": "ca5fc40b-6b24-474e-8411-30e374d8ba68",
   "metadata": {},
   "outputs": [
    {
     "name": "stdout",
     "output_type": "stream",
     "text": [
      "[1, 23, 34, 54, 322, 333, 889, 5655]\n"
     ]
    }
   ],
   "source": [
    "j.sort(reverse=False)\n",
    "print(j)"
   ]
  },
  {
   "cell_type": "code",
   "execution_count": 12,
   "id": "4ec6d223-2ed6-4f88-90da-01d925be37a5",
   "metadata": {},
   "outputs": [
    {
     "name": "stdout",
     "output_type": "stream",
     "text": [
      "[1, 23, 34, 54, 322, 333, 889, 5655]\n"
     ]
    }
   ],
   "source": [
    "cp=j.copy()\n",
    "print(cp)"
   ]
  },
  {
   "cell_type": "code",
   "execution_count": 16,
   "id": "bcc9707e-8b9a-44b2-87e5-097108856b37",
   "metadata": {},
   "outputs": [
    {
     "name": "stdout",
     "output_type": "stream",
     "text": [
      "[1, 23, 34, 54, 322, 333, 889, 5655]\n"
     ]
    }
   ],
   "source": [
    "cs=j\n",
    "print(cs)"
   ]
  },
  {
   "cell_type": "code",
   "execution_count": 20,
   "id": "969cc9b2-c618-4068-bbe4-a8cbf6f5eb80",
   "metadata": {},
   "outputs": [
    {
     "name": "stdout",
     "output_type": "stream",
     "text": [
      "[1, 23, 34, 54, 322, 333]\n",
      "[1, 23, 34, 54, 322, 333, 889, 5655]\n"
     ]
    }
   ],
   "source": [
    "j.pop()\n",
    "print(cs)\n",
    "print(cp)"
   ]
  },
  {
   "cell_type": "code",
   "execution_count": 22,
   "id": "3aa7c7e9-d3de-41c8-848d-a6a17f257361",
   "metadata": {},
   "outputs": [
    {
     "data": {
      "text/plain": [
       "[1, 23, 34, 54, 322, 333, 889, 5655, 1, 23, 34, 54, 322, 333]"
      ]
     },
     "execution_count": 22,
     "metadata": {},
     "output_type": "execute_result"
    }
   ],
   "source": [
    "cp + cs"
   ]
  },
  {
   "cell_type": "code",
   "execution_count": 24,
   "id": "ec6c8ad1-bc82-4a92-aa0c-174c2ca61ac0",
   "metadata": {},
   "outputs": [
    {
     "ename": "TypeError",
     "evalue": "unsupported operand type(s) for -: 'list' and 'list'",
     "output_type": "error",
     "traceback": [
      "\u001b[1;31m---------------------------------------------------------------------------\u001b[0m",
      "\u001b[1;31mTypeError\u001b[0m                                 Traceback (most recent call last)",
      "Cell \u001b[1;32mIn[24], line 1\u001b[0m\n\u001b[1;32m----> 1\u001b[0m cs\u001b[38;5;241m-\u001b[39mcp\n",
      "\u001b[1;31mTypeError\u001b[0m: unsupported operand type(s) for -: 'list' and 'list'"
     ]
    }
   ],
   "source": [
    "cs-cp"
   ]
  },
  {
   "cell_type": "code",
   "execution_count": 26,
   "id": "d1d05be2-9734-4b1c-8853-a439d89349c8",
   "metadata": {},
   "outputs": [
    {
     "data": {
      "text/plain": [
       "[1,\n",
       " 23,\n",
       " 34,\n",
       " 54,\n",
       " 322,\n",
       " 333,\n",
       " 889,\n",
       " 5655,\n",
       " 1,\n",
       " 23,\n",
       " 34,\n",
       " 54,\n",
       " 322,\n",
       " 333,\n",
       " 889,\n",
       " 5655,\n",
       " 1,\n",
       " 23,\n",
       " 34,\n",
       " 54,\n",
       " 322,\n",
       " 333,\n",
       " 889,\n",
       " 5655,\n",
       " 1,\n",
       " 23,\n",
       " 34,\n",
       " 54,\n",
       " 322,\n",
       " 333,\n",
       " 889,\n",
       " 5655,\n",
       " 1,\n",
       " 23,\n",
       " 34,\n",
       " 54,\n",
       " 322,\n",
       " 333,\n",
       " 889,\n",
       " 5655,\n",
       " 1,\n",
       " 23,\n",
       " 34,\n",
       " 54,\n",
       " 322,\n",
       " 333,\n",
       " 889,\n",
       " 5655,\n",
       " 1,\n",
       " 23,\n",
       " 34,\n",
       " 54,\n",
       " 322,\n",
       " 333,\n",
       " 889,\n",
       " 5655,\n",
       " 1,\n",
       " 23,\n",
       " 34,\n",
       " 54,\n",
       " 322,\n",
       " 333,\n",
       " 889,\n",
       " 5655,\n",
       " 1,\n",
       " 23,\n",
       " 34,\n",
       " 54,\n",
       " 322,\n",
       " 333,\n",
       " 889,\n",
       " 5655,\n",
       " 1,\n",
       " 23,\n",
       " 34,\n",
       " 54,\n",
       " 322,\n",
       " 333,\n",
       " 889,\n",
       " 5655,\n",
       " 1,\n",
       " 23,\n",
       " 34,\n",
       " 54,\n",
       " 322,\n",
       " 333,\n",
       " 889,\n",
       " 5655,\n",
       " 1,\n",
       " 23,\n",
       " 34,\n",
       " 54,\n",
       " 322,\n",
       " 333,\n",
       " 889,\n",
       " 5655,\n",
       " 1,\n",
       " 23,\n",
       " 34,\n",
       " 54,\n",
       " 322,\n",
       " 333,\n",
       " 889,\n",
       " 5655,\n",
       " 1,\n",
       " 23,\n",
       " 34,\n",
       " 54,\n",
       " 322,\n",
       " 333,\n",
       " 889,\n",
       " 5655,\n",
       " 1,\n",
       " 23,\n",
       " 34,\n",
       " 54,\n",
       " 322,\n",
       " 333,\n",
       " 889,\n",
       " 5655,\n",
       " 1,\n",
       " 23,\n",
       " 34,\n",
       " 54,\n",
       " 322,\n",
       " 333,\n",
       " 889,\n",
       " 5655,\n",
       " 1,\n",
       " 23,\n",
       " 34,\n",
       " 54,\n",
       " 322,\n",
       " 333,\n",
       " 889,\n",
       " 5655,\n",
       " 1,\n",
       " 23,\n",
       " 34,\n",
       " 54,\n",
       " 322,\n",
       " 333,\n",
       " 889,\n",
       " 5655,\n",
       " 1,\n",
       " 23,\n",
       " 34,\n",
       " 54,\n",
       " 322,\n",
       " 333,\n",
       " 889,\n",
       " 5655,\n",
       " 1,\n",
       " 23,\n",
       " 34,\n",
       " 54,\n",
       " 322,\n",
       " 333,\n",
       " 889,\n",
       " 5655,\n",
       " 1,\n",
       " 23,\n",
       " 34,\n",
       " 54,\n",
       " 322,\n",
       " 333,\n",
       " 889,\n",
       " 5655,\n",
       " 1,\n",
       " 23,\n",
       " 34,\n",
       " 54,\n",
       " 322,\n",
       " 333,\n",
       " 889,\n",
       " 5655,\n",
       " 1,\n",
       " 23,\n",
       " 34,\n",
       " 54,\n",
       " 322,\n",
       " 333,\n",
       " 889,\n",
       " 5655,\n",
       " 1,\n",
       " 23,\n",
       " 34,\n",
       " 54,\n",
       " 322,\n",
       " 333,\n",
       " 889,\n",
       " 5655,\n",
       " 1,\n",
       " 23,\n",
       " 34,\n",
       " 54,\n",
       " 322,\n",
       " 333,\n",
       " 889,\n",
       " 5655,\n",
       " 1,\n",
       " 23,\n",
       " 34,\n",
       " 54,\n",
       " 322,\n",
       " 333,\n",
       " 889,\n",
       " 5655,\n",
       " 1,\n",
       " 23,\n",
       " 34,\n",
       " 54,\n",
       " 322,\n",
       " 333,\n",
       " 889,\n",
       " 5655,\n",
       " 1,\n",
       " 23,\n",
       " 34,\n",
       " 54,\n",
       " 322,\n",
       " 333,\n",
       " 889,\n",
       " 5655,\n",
       " 1,\n",
       " 23,\n",
       " 34,\n",
       " 54,\n",
       " 322,\n",
       " 333,\n",
       " 889,\n",
       " 5655,\n",
       " 1,\n",
       " 23,\n",
       " 34,\n",
       " 54,\n",
       " 322,\n",
       " 333,\n",
       " 889,\n",
       " 5655]"
      ]
     },
     "execution_count": 26,
     "metadata": {},
     "output_type": "execute_result"
    }
   ],
   "source": [
    "cp*30  #cp 30 times "
   ]
  },
  {
   "cell_type": "code",
   "execution_count": 30,
   "id": "16128a48-1638-4592-8015-da50668d89e2",
   "metadata": {},
   "outputs": [
    {
     "name": "stdout",
     "output_type": "stream",
     "text": [
      "[1, 23, 34, 54, 322, 333, 1, 23, 34, 54, 322, 333, 889, 5655]\n"
     ]
    }
   ],
   "source": [
    "cs.extend(cp) #similar to cs+cp\n",
    "print(cs)"
   ]
  },
  {
   "cell_type": "code",
   "execution_count": 34,
   "id": "ba91c4b6-d8e5-414c-81fb-a56e752f9053",
   "metadata": {},
   "outputs": [
    {
     "name": "stdout",
     "output_type": "stream",
     "text": [
      "[120]\n",
      "[120, 2760]\n",
      "[120, 2760, 4080]\n",
      "[120, 2760, 4080, 6480]\n",
      "[120, 2760, 4080, 6480, 38640]\n",
      "[120, 2760, 4080, 6480, 38640, 39960]\n",
      "[120, 2760, 4080, 6480, 38640, 39960, 120]\n",
      "[120, 2760, 4080, 6480, 38640, 39960, 120, 2760]\n",
      "[120, 2760, 4080, 6480, 38640, 39960, 120, 2760, 4080]\n",
      "[120, 2760, 4080, 6480, 38640, 39960, 120, 2760, 4080, 6480]\n",
      "[120, 2760, 4080, 6480, 38640, 39960, 120, 2760, 4080, 6480, 38640]\n",
      "[120, 2760, 4080, 6480, 38640, 39960, 120, 2760, 4080, 6480, 38640, 39960]\n",
      "[120, 2760, 4080, 6480, 38640, 39960, 120, 2760, 4080, 6480, 38640, 39960, 106680]\n",
      "[120, 2760, 4080, 6480, 38640, 39960, 120, 2760, 4080, 6480, 38640, 39960, 106680, 678600]\n"
     ]
    }
   ],
   "source": [
    "#loop.. converting to $ to rupees \n",
    "rs =[] #blank rs \n",
    "for i in cs:\n",
    "    rs.append(i*120)\n",
    "    print (rs)"
   ]
  },
  {
   "cell_type": "code",
   "execution_count": 36,
   "id": "79b26079-b791-4f64-aeff-1885975e71ea",
   "metadata": {},
   "outputs": [
    {
     "data": {
      "text/plain": [
       "2"
      ]
     },
     "execution_count": 36,
     "metadata": {},
     "output_type": "execute_result"
    }
   ],
   "source": [
    "rs.count(4080) # count one repeatation "
   ]
  },
  {
   "cell_type": "code",
   "execution_count": 38,
   "id": "446afffe-30d0-4e19-b426-ddfb91fc69bf",
   "metadata": {},
   "outputs": [
    {
     "data": {
      "text/plain": [
       "14"
      ]
     },
     "execution_count": 38,
     "metadata": {},
     "output_type": "execute_result"
    }
   ],
   "source": [
    "len(rs)  #count all "
   ]
  },
  {
   "cell_type": "markdown",
   "id": "0f9b5006-d25e-4d98-b679-4ce83b12fe08",
   "metadata": {},
   "source": [
    "# Tuple "
   ]
  },
  {
   "cell_type": "code",
   "execution_count": 41,
   "id": "1692c1e8-9a57-4c4d-b4ef-e306abaede22",
   "metadata": {},
   "outputs": [],
   "source": [
    "# imutable: it is fixed, can not be sorting and can not change the value but not in list [Data store: List, tuple, set, dictionary] "
   ]
  },
  {
   "cell_type": "code",
   "execution_count": 45,
   "id": "fef8082d-8ec1-41c4-9d39-9b2475c75923",
   "metadata": {},
   "outputs": [],
   "source": [
    "tup=('Kathamndu','Pokhara', 'Dharan', 'Lumbini', 'Janakpur', 'Kathmandu')"
   ]
  },
  {
   "cell_type": "code",
   "execution_count": 47,
   "id": "0c752a99-156d-48b4-94b9-c4c4aebd7e27",
   "metadata": {},
   "outputs": [
    {
     "data": {
      "text/plain": [
       "tuple"
      ]
     },
     "execution_count": 47,
     "metadata": {},
     "output_type": "execute_result"
    }
   ],
   "source": [
    "type(tup)"
   ]
  },
  {
   "cell_type": "code",
   "execution_count": 49,
   "id": "b5f92d6a-c789-47e4-a3da-7d868b10e838",
   "metadata": {},
   "outputs": [
    {
     "name": "stdout",
     "output_type": "stream",
     "text": [
      "('Kathamndu', 'Pokhara', 'Dharan', 'Lumbini', 'Janakpur', 'Kathmandu')\n"
     ]
    }
   ],
   "source": [
    "print(tup)"
   ]
  },
  {
   "cell_type": "markdown",
   "id": "908026bf-1432-43a9-8400-ab68e931c220",
   "metadata": {},
   "source": [
    "## Tuple is indexed"
   ]
  },
  {
   "cell_type": "code",
   "execution_count": 54,
   "id": "d4c26e86-f428-4e32-bf8d-6f8e433fa319",
   "metadata": {},
   "outputs": [
    {
     "data": {
      "text/plain": [
       "'Pokhara'"
      ]
     },
     "execution_count": 54,
     "metadata": {},
     "output_type": "execute_result"
    }
   ],
   "source": [
    "tup[1]"
   ]
  },
  {
   "cell_type": "code",
   "execution_count": 56,
   "id": "690dbea5-287c-4be1-890c-58f626d24b99",
   "metadata": {},
   "outputs": [
    {
     "data": {
      "text/plain": [
       "'Kathmandu'"
      ]
     },
     "execution_count": 56,
     "metadata": {},
     "output_type": "execute_result"
    }
   ],
   "source": [
    "tup[-1]"
   ]
  },
  {
   "cell_type": "code",
   "execution_count": 60,
   "id": "b5d2273e-32e5-4758-b33a-b20149bd5fab",
   "metadata": {},
   "outputs": [
    {
     "data": {
      "text/plain": [
       "6"
      ]
     },
     "execution_count": 60,
     "metadata": {},
     "output_type": "execute_result"
    }
   ],
   "source": [
    "#size of the tuple \n",
    "len(tup)"
   ]
  },
  {
   "cell_type": "code",
   "execution_count": 62,
   "id": "1b59be30-1407-4df3-9d56-2bf88308bece",
   "metadata": {},
   "outputs": [],
   "source": [
    "#another way of making tuple with single argument by using another bracket\n",
    "tup_t=tuple(('Kathamndu','Pokhara', 'Dharan', 'Lumbini', 'Janakpur', 'Kathmandu'))"
   ]
  },
  {
   "cell_type": "code",
   "execution_count": 64,
   "id": "5603821e-3a40-4c9b-b274-5ae55ceca99c",
   "metadata": {},
   "outputs": [
    {
     "name": "stdout",
     "output_type": "stream",
     "text": [
      "('Kathamndu', 'Pokhara', 'Dharan', 'Lumbini', 'Janakpur', 'Kathmandu')\n"
     ]
    }
   ],
   "source": [
    "print(tup_t)"
   ]
  },
  {
   "cell_type": "code",
   "execution_count": 66,
   "id": "11222075-8005-4d97-be48-99b1bfd15b77",
   "metadata": {},
   "outputs": [
    {
     "data": {
      "text/plain": [
       "('Dharan', 'Lumbini')"
      ]
     },
     "execution_count": 66,
     "metadata": {},
     "output_type": "execute_result"
    }
   ],
   "source": [
    "tup[2:-2]"
   ]
  },
  {
   "cell_type": "code",
   "execution_count": 68,
   "id": "95ee55a1-16a9-4b87-b4fa-cf35dbd01bb2",
   "metadata": {},
   "outputs": [
    {
     "data": {
      "text/plain": [
       "('Lumbini', 'Janakpur', 'Kathmandu')"
      ]
     },
     "execution_count": 68,
     "metadata": {},
     "output_type": "execute_result"
    }
   ],
   "source": [
    "tup[-3:]"
   ]
  },
  {
   "cell_type": "code",
   "execution_count": 70,
   "id": "8f84807f-ef66-45c4-952d-ada36b6de4c6",
   "metadata": {},
   "outputs": [
    {
     "name": "stdout",
     "output_type": "stream",
     "text": [
      "Kathamndu\n",
      "Pokhara\n",
      "Dharan\n",
      "Lumbini\n",
      "Janakpur\n",
      "Kathmandu\n"
     ]
    }
   ],
   "source": [
    "for i in tup:\n",
    "    print(i)"
   ]
  },
  {
   "cell_type": "markdown",
   "id": "4aa86f4e-2334-489d-98ff-24ed0f3ed4fb",
   "metadata": {},
   "source": [
    "### Tuple is immuatable "
   ]
  },
  {
   "cell_type": "code",
   "execution_count": 77,
   "id": "0862b173-2e87-446b-a7ab-396308e0a3e4",
   "metadata": {},
   "outputs": [
    {
     "ename": "TypeError",
     "evalue": "'tuple' object does not support item assignment",
     "output_type": "error",
     "traceback": [
      "\u001b[1;31m---------------------------------------------------------------------------\u001b[0m",
      "\u001b[1;31mTypeError\u001b[0m                                 Traceback (most recent call last)",
      "Cell \u001b[1;32mIn[77], line 2\u001b[0m\n\u001b[0;32m      1\u001b[0m \u001b[38;5;66;03m#cannot change the value of tuple\u001b[39;00m\n\u001b[1;32m----> 2\u001b[0m tup[\u001b[38;5;241m1\u001b[39m] \u001b[38;5;241m=\u001b[39m \u001b[38;5;124m'\u001b[39m\u001b[38;5;124mNuwakot\u001b[39m\u001b[38;5;124m'\u001b[39m\n",
      "\u001b[1;31mTypeError\u001b[0m: 'tuple' object does not support item assignment"
     ]
    }
   ],
   "source": [
    "#cannot change the value of tuple: So in tuple standard values are assigned eg. pi = 22/7\n",
    "tup[1] = 'Nuwakot'"
   ]
  },
  {
   "cell_type": "code",
   "execution_count": 79,
   "id": "07eb66c2-3cfd-4375-9793-9c0ba1e491ea",
   "metadata": {},
   "outputs": [
    {
     "name": "stdout",
     "output_type": "stream",
     "text": [
      "('Kathamndu', 'Pokhara', 'Dharan', 'Lumbini', 'Janakpur', 'Kathmandu')\n"
     ]
    }
   ],
   "source": [
    "#for changing value tuple first change into list\n",
    "list_tup = list(tup)\n",
    "list_tup[1] = \"Nuwakot\"\n",
    "list_tup = tuple(tup)\n",
    "print(list_tup)"
   ]
  },
  {
   "cell_type": "code",
   "execution_count": 111,
   "id": "3730b1ea-eac4-4955-818a-97460da7565c",
   "metadata": {},
   "outputs": [],
   "source": [
    "#alternative\n",
    "list_tup1=list(tup)"
   ]
  },
  {
   "cell_type": "code",
   "execution_count": 117,
   "id": "5d9f12f4-7e51-4601-9808-2424caae3bcd",
   "metadata": {},
   "outputs": [
    {
     "data": {
      "text/plain": [
       "list"
      ]
     },
     "execution_count": 117,
     "metadata": {},
     "output_type": "execute_result"
    }
   ],
   "source": [
    "type(list_tup1)"
   ]
  },
  {
   "cell_type": "code",
   "execution_count": 113,
   "id": "ac62e4ca-f954-42bd-8949-70d3e97c2f48",
   "metadata": {},
   "outputs": [
    {
     "name": "stdout",
     "output_type": "stream",
     "text": [
      "['Kathamndu', 'Pokhara', 'Dharan', 'Lumbini', 'Janakpur', 'Kathmandu']\n"
     ]
    }
   ],
   "source": [
    "print(list_tup1)"
   ]
  },
  {
   "cell_type": "code",
   "execution_count": 99,
   "id": "b71dfb18-1ce9-42b1-b55f-726759cc09f1",
   "metadata": {},
   "outputs": [],
   "source": [
    "city = ('Nuwakot','Hetauda')"
   ]
  },
  {
   "cell_type": "code",
   "execution_count": 101,
   "id": "20f66a1f-42b1-4f9d-b2ed-8a78cf59319b",
   "metadata": {},
   "outputs": [
    {
     "data": {
      "text/plain": [
       "('Kathamndu',\n",
       " 'Pokhara',\n",
       " 'Dharan',\n",
       " 'Lumbini',\n",
       " 'Janakpur',\n",
       " 'Kathmandu',\n",
       " 'Nuwakot',\n",
       " 'Hetauda')"
      ]
     },
     "execution_count": 101,
     "metadata": {},
     "output_type": "execute_result"
    }
   ],
   "source": [
    "tup + city"
   ]
  },
  {
   "cell_type": "code",
   "execution_count": 107,
   "id": "da039b1b-1ab5-4157-a971-6c3712092263",
   "metadata": {},
   "outputs": [
    {
     "data": {
      "text/plain": [
       "tuple"
      ]
     },
     "execution_count": 107,
     "metadata": {},
     "output_type": "execute_result"
    }
   ],
   "source": [
    "type(list_tup)"
   ]
  },
  {
   "cell_type": "markdown",
   "id": "c4ff6c2e-29db-4eec-94bf-a9d5997b27a8",
   "metadata": {},
   "source": [
    "## unpacked"
   ]
  },
  {
   "cell_type": "code",
   "execution_count": 123,
   "id": "74fcb74a-c6e7-4fa7-ac18-33c71b93078d",
   "metadata": {},
   "outputs": [],
   "source": [
    "tup=('Kathamndu','Pokhara', 'Dharan', 'Lumbini', 'Janakpur', 'Kathmandu')"
   ]
  },
  {
   "cell_type": "code",
   "execution_count": 133,
   "id": "17ee7503-2b0e-46bc-9315-b90aa0adffab",
   "metadata": {},
   "outputs": [],
   "source": [
    "#star for list for rest of the values/ jasto tupel ma vayako values lai kunai name dina .. jasto students marks lai name ma assigned garna\n",
    "(citya,*cityb) = ('Kathamndu','Pokhara', 'Dharan', 'Lumbini', 'Janakpur', 'Kathmandu')"
   ]
  },
  {
   "cell_type": "code",
   "execution_count": 135,
   "id": "0f21bd6d-1be6-44f2-9731-13bae104a262",
   "metadata": {},
   "outputs": [
    {
     "name": "stdout",
     "output_type": "stream",
     "text": [
      "Kathamndu\n"
     ]
    }
   ],
   "source": [
    "print(citya)"
   ]
  },
  {
   "cell_type": "code",
   "execution_count": 137,
   "id": "5f2ed8be-d7ef-4c5f-b43a-9f47bc347005",
   "metadata": {},
   "outputs": [
    {
     "data": {
      "text/plain": [
       "['Pokhara', 'Dharan', 'Lumbini', 'Janakpur', 'Kathmandu']"
      ]
     },
     "execution_count": 137,
     "metadata": {},
     "output_type": "execute_result"
    }
   ],
   "source": [
    "cityb\n"
   ]
  },
  {
   "cell_type": "markdown",
   "id": "be6d874a-db6c-4568-964c-b1ab4f51e154",
   "metadata": {},
   "source": [
    "## Looping in Tuple"
   ]
  },
  {
   "cell_type": "code",
   "execution_count": 140,
   "id": "5a3a164f-3ae3-4190-982b-5121d5ff1361",
   "metadata": {},
   "outputs": [
    {
     "name": "stdout",
     "output_type": "stream",
     "text": [
      "Kathamndu\n",
      "Pokhara\n",
      "Dharan\n",
      "Lumbini\n",
      "Janakpur\n",
      "Kathmandu\n"
     ]
    }
   ],
   "source": [
    "for i in tup:\n",
    "    print(i)"
   ]
  },
  {
   "cell_type": "code",
   "execution_count": 160,
   "id": "33566064-cc1b-473a-ae17-405184be224e",
   "metadata": {},
   "outputs": [
    {
     "name": "stdout",
     "output_type": "stream",
     "text": [
      "Kathamndu\n",
      "Pokhara\n",
      "Dharan\n",
      "Lumbini\n",
      "Janakpur\n",
      "Kathmandu\n"
     ]
    }
   ],
   "source": [
    "for i in range(len(tup)):\n",
    "    print(tup[i])"
   ]
  },
  {
   "cell_type": "code",
   "execution_count": 166,
   "id": "b6dc8dcb-db60-4c63-b5d3-d62051a58ecd",
   "metadata": {},
   "outputs": [
    {
     "name": "stdout",
     "output_type": "stream",
     "text": [
      "Kathamndu\n",
      "Pokhara\n"
     ]
    }
   ],
   "source": [
    "for i in range(2):\n",
    "    print(tup[i])"
   ]
  },
  {
   "cell_type": "markdown",
   "id": "51f179b3-f8f5-4632-bd4c-3523b1f8d1d6",
   "metadata": {},
   "source": [
    "### Tuple Methods"
   ]
  },
  {
   "cell_type": "code",
   "execution_count": 171,
   "id": "c35f02c1-78f4-47e8-be15-a0e248b8558e",
   "metadata": {},
   "outputs": [
    {
     "ename": "AttributeError",
     "evalue": "'tuple' object has no attribute 'sort'",
     "output_type": "error",
     "traceback": [
      "\u001b[1;31m---------------------------------------------------------------------------\u001b[0m",
      "\u001b[1;31mAttributeError\u001b[0m                            Traceback (most recent call last)",
      "Cell \u001b[1;32mIn[171], line 1\u001b[0m\n\u001b[1;32m----> 1\u001b[0m tup\u001b[38;5;241m.\u001b[39msort()\n",
      "\u001b[1;31mAttributeError\u001b[0m: 'tuple' object has no attribute 'sort'"
     ]
    }
   ],
   "source": [
    "tup.sort()"
   ]
  },
  {
   "cell_type": "code",
   "execution_count": 179,
   "id": "8a73d8fb-53e8-4b55-b454-d4dea9ec76fb",
   "metadata": {},
   "outputs": [
    {
     "data": {
      "text/plain": [
       "1"
      ]
     },
     "execution_count": 179,
     "metadata": {},
     "output_type": "execute_result"
    }
   ],
   "source": [
    "tup.count('Pokhara')"
   ]
  },
  {
   "cell_type": "code",
   "execution_count": 181,
   "id": "7a36405f-f6b5-46c3-85ff-f879e6b38669",
   "metadata": {},
   "outputs": [
    {
     "data": {
      "text/plain": [
       "2"
      ]
     },
     "execution_count": 181,
     "metadata": {},
     "output_type": "execute_result"
    }
   ],
   "source": [
    "tup.index('Dharan')"
   ]
  },
  {
   "cell_type": "markdown",
   "id": "3418bb5b-01fb-4bc9-8e62-8668efafb547",
   "metadata": {},
   "source": [
    "# Set "
   ]
  },
  {
   "cell_type": "code",
   "execution_count": 17,
   "id": "c6289781-d8ce-42c3-959d-0638f0efceff",
   "metadata": {},
   "outputs": [
    {
     "name": "stdout",
     "output_type": "stream",
     "text": [
      "{66, 666, 24, 90, 88, 45, 78}\n"
     ]
    }
   ],
   "source": [
    "# Sets\n",
    "\n",
    "a = {24, 45, 88, 78, 90, 90, 45, 66, 66, 66, 66, 666}\n",
    "print(a)"
   ]
  },
  {
   "cell_type": "code",
   "execution_count": 19,
   "id": "62940b7a-b607-4b2e-8249-794e4174ee6b",
   "metadata": {},
   "outputs": [
    {
     "data": {
      "text/plain": [
       "7"
      ]
     },
     "execution_count": 19,
     "metadata": {},
     "output_type": "execute_result"
    }
   ],
   "source": [
    "#repeated ko lenght didaina\n",
    "len (a)"
   ]
  },
  {
   "cell_type": "markdown",
   "id": "870b42f3-a12e-4f3a-853f-0ade650a4ae3",
   "metadata": {},
   "source": [
    "## access the element"
   ]
  },
  {
   "cell_type": "code",
   "execution_count": 21,
   "id": "b79901bd-15ee-4c74-802f-1d862333dba6",
   "metadata": {},
   "outputs": [
    {
     "name": "stdout",
     "output_type": "stream",
     "text": [
      "66\n",
      "666\n",
      "24\n",
      "90\n",
      "88\n",
      "45\n",
      "78\n"
     ]
    }
   ],
   "source": [
    "for i in a:\n",
    "    print(i)"
   ]
  },
  {
   "cell_type": "markdown",
   "id": "13599158-e325-492d-9bc2-8faeaa70282d",
   "metadata": {},
   "source": [
    "## value addition in set"
   ]
  },
  {
   "cell_type": "code",
   "execution_count": 23,
   "id": "abce8c7d-00d5-4054-ab7e-6c1982bbe956",
   "metadata": {},
   "outputs": [
    {
     "name": "stdout",
     "output_type": "stream",
     "text": [
      "{66, 666, 24, 90, 88, 1020, 45, 78}\n"
     ]
    }
   ],
   "source": [
    "a.add(1020)\n",
    "print(a)"
   ]
  },
  {
   "cell_type": "code",
   "execution_count": 27,
   "id": "d4d3d25d-adc9-432d-8bde-7c85dfd41c55",
   "metadata": {},
   "outputs": [
    {
     "name": "stdout",
     "output_type": "stream",
     "text": [
      "{66, 78, 24, 88, 666, 90, 'Ram', 45, 1020}\n"
     ]
    }
   ],
   "source": [
    "a.add('Ram')\n",
    "print(a)"
   ]
  },
  {
   "cell_type": "code",
   "execution_count": 29,
   "id": "d915cd20-d910-4d79-872b-51d614b417b5",
   "metadata": {},
   "outputs": [
    {
     "name": "stdout",
     "output_type": "stream",
     "text": [
      "{66, 78, 24, 88, 666, 90, 'Ram', 45, 1020}\n"
     ]
    }
   ],
   "source": [
    "print(a)"
   ]
  },
  {
   "cell_type": "code",
   "execution_count": 35,
   "id": "e8075130-eae3-43c6-83da-776538f7a94b",
   "metadata": {},
   "outputs": [
    {
     "name": "stdout",
     "output_type": "stream",
     "text": [
      "{66, 200, 78, 400, 150, 24, 88, 666, 90, 1050, 'Ram', 300, 45, 1020}\n"
     ]
    }
   ],
   "source": [
    "#for extend\n",
    "b = {400, 300, 200,150,1050}\n",
    "a.update(b)\n",
    "print(a)"
   ]
  },
  {
   "cell_type": "code",
   "execution_count": 37,
   "id": "97e0cd16-0dbb-4bd9-b4c5-4e412ec62a9e",
   "metadata": {},
   "outputs": [
    {
     "name": "stdout",
     "output_type": "stream",
     "text": [
      "{66, 200, 78, 400, 150, 24, 88, 666, 90, 1050, 300, 45, 1020}\n"
     ]
    }
   ],
   "source": [
    "#for extend: element payana vane error dinxa .. discard ma error aaudaina \n",
    "a.remove('Ram')\n",
    "print(a)"
   ]
  },
  {
   "cell_type": "code",
   "execution_count": 39,
   "id": "34a84423-be70-43ca-9692-93bb6c4737f8",
   "metadata": {},
   "outputs": [
    {
     "name": "stdout",
     "output_type": "stream",
     "text": [
      "{66, 200, 78, 400, 150, 24, 88, 666, 90, 1050, 300, 1020}\n"
     ]
    }
   ],
   "source": [
    "#alternative to remove \n",
    "a.discard (45)\n",
    "print(a)"
   ]
  },
  {
   "cell_type": "code",
   "execution_count": 43,
   "id": "626778af-8358-4b45-9936-dcd63929ebef",
   "metadata": {},
   "outputs": [
    {
     "name": "stdout",
     "output_type": "stream",
     "text": [
      "{200, 78, 400, 150, 24, 88, 666, 90, 1050, 300, 1020}\n"
     ]
    }
   ],
   "source": [
    "#element remove by pop: random element remove garxa \n",
    "a.pop()\n",
    "print(a)"
   ]
  },
  {
   "cell_type": "markdown",
   "id": "7e85d59e-2263-42fe-81cc-a120478dc945",
   "metadata": {},
   "source": [
    "### Del and clear "
   ]
  },
  {
   "cell_type": "code",
   "execution_count": 7,
   "id": "13a4eb55-d389-49ae-8bb8-22a09a42b118",
   "metadata": {},
   "outputs": [
    {
     "name": "stdout",
     "output_type": "stream",
     "text": [
      "{66, 666, 24, 90, 88, 45, 78}\n"
     ]
    }
   ],
   "source": [
    "a = {24, 45, 88, 78, 90, 90, 45, 66, 66, 66, 66, 666}\n",
    "print(a)"
   ]
  },
  {
   "cell_type": "code",
   "execution_count": 11,
   "id": "f2e96417-401a-4891-982b-c7f2686cf56b",
   "metadata": {},
   "outputs": [
    {
     "name": "stdout",
     "output_type": "stream",
     "text": [
      "{80, 2, 100, 4, 777, 90, 12}\n"
     ]
    }
   ],
   "source": [
    "b = {2, 4, 80, 90, 100, 777, 12}\n",
    "print (b)"
   ]
  },
  {
   "cell_type": "code",
   "execution_count": 13,
   "id": "47f8aeb4-20f1-4931-ab04-04178bbbbae6",
   "metadata": {},
   "outputs": [
    {
     "data": {
      "text/plain": [
       "<function set.clear>"
      ]
     },
     "execution_count": 13,
     "metadata": {},
     "output_type": "execute_result"
    }
   ],
   "source": [
    "del a\n",
    "b.clear"
   ]
  },
  {
   "cell_type": "code",
   "execution_count": 15,
   "id": "c1d203d0-f7f0-47ea-9dfa-dc2e8170bc27",
   "metadata": {},
   "outputs": [
    {
     "name": "stdout",
     "output_type": "stream",
     "text": [
      "{80, 2, 100, 4, 777, 90, 12}\n"
     ]
    }
   ],
   "source": [
    "print(b)"
   ]
  },
  {
   "cell_type": "code",
   "execution_count": 17,
   "id": "07fec24b-7e02-46a1-b582-47fee71044dd",
   "metadata": {},
   "outputs": [
    {
     "ename": "NameError",
     "evalue": "name 'a' is not defined",
     "output_type": "error",
     "traceback": [
      "\u001b[1;31m---------------------------------------------------------------------------\u001b[0m",
      "\u001b[1;31mNameError\u001b[0m                                 Traceback (most recent call last)",
      "Cell \u001b[1;32mIn[17], line 1\u001b[0m\n\u001b[1;32m----> 1\u001b[0m \u001b[38;5;28mprint\u001b[39m(a)\n",
      "\u001b[1;31mNameError\u001b[0m: name 'a' is not defined"
     ]
    }
   ],
   "source": [
    "print(a)"
   ]
  },
  {
   "cell_type": "markdown",
   "id": "82a7969e-5759-42fb-b0e5-b50cf02c9a5a",
   "metadata": {},
   "source": [
    "## Joing the set"
   ]
  },
  {
   "cell_type": "code",
   "execution_count": 30,
   "id": "dcb35ffe-a4ae-4615-9c7a-3859f1da5ab5",
   "metadata": {},
   "outputs": [
    {
     "data": {
      "text/plain": [
       "{2, 12, 24, 45, 66, 78, 80, 88, 90, 100, 666, 777}"
      ]
     },
     "execution_count": 30,
     "metadata": {},
     "output_type": "execute_result"
    }
   ],
   "source": [
    "a = {24, 12, 45, 88, 78, 90, 90, 45, 66, 777, 66, 66, 666}\n",
    "b = {2, 666, 80, 90, 100, 777, 12}\n",
    "c = (45, 7.8, 'hello', 'ram')\n",
    "d = ['hari', 67, 89, 'Ram']\n",
    "a.union(b)"
   ]
  },
  {
   "cell_type": "code",
   "execution_count": 24,
   "id": "475558fb-4647-481b-8695-d1d4fb92e1b0",
   "metadata": {},
   "outputs": [
    {
     "data": {
      "text/plain": [
       "{12, 90, 666, 777}"
      ]
     },
     "execution_count": 24,
     "metadata": {},
     "output_type": "execute_result"
    }
   ],
   "source": [
    "a.intersection(b)"
   ]
  },
  {
   "cell_type": "code",
   "execution_count": 28,
   "id": "98ae7131-d789-40aa-8e09-36794ddb7428",
   "metadata": {},
   "outputs": [
    {
     "data": {
      "text/plain": [
       "{12, 24, 45, 66, 666, 7.8, 777, 78, 88, 90, 'hello', 'ram'}"
      ]
     },
     "execution_count": 28,
     "metadata": {},
     "output_type": "execute_result"
    }
   ],
   "source": [
    "a.union(c)"
   ]
  },
  {
   "cell_type": "code",
   "execution_count": 32,
   "id": "b7b169fb-f951-4c0d-b6da-0d65bb5f9d97",
   "metadata": {},
   "outputs": [
    {
     "data": {
      "text/plain": [
       "{12, 24, 45, 66, 666, 67, 777, 78, 88, 89, 90, 'Ram', 'hari'}"
      ]
     },
     "execution_count": 32,
     "metadata": {},
     "output_type": "execute_result"
    }
   ],
   "source": [
    "a.union(d)"
   ]
  },
  {
   "cell_type": "code",
   "execution_count": 40,
   "id": "e170a93d-093c-402e-a227-81073c4b902b",
   "metadata": {},
   "outputs": [
    {
     "data": {
      "text/plain": [
       "{24, 45, 66, 78, 88}"
      ]
     },
     "execution_count": 40,
     "metadata": {},
     "output_type": "execute_result"
    }
   ],
   "source": [
    "a.difference(b)\n"
   ]
  },
  {
   "cell_type": "code",
   "execution_count": 44,
   "id": "6a0bdb42-9547-4d24-a901-8926abca43d3",
   "metadata": {},
   "outputs": [
    {
     "name": "stdout",
     "output_type": "stream",
     "text": [
      "{66, 90, 777, 12, 45, 78, 24, 666, 88}\n"
     ]
    }
   ],
   "source": [
    "e=a.copy()\n",
    "print(e)"
   ]
  },
  {
   "cell_type": "markdown",
   "id": "3a8f4ce0-e557-4ae3-b932-12d3b48e1073",
   "metadata": {},
   "source": [
    "# Dictionary "
   ]
  },
  {
   "cell_type": "code",
   "execution_count": 50,
   "id": "fc7ffb9a-2798-476f-adaa-219a695b249e",
   "metadata": {},
   "outputs": [
    {
     "name": "stdout",
     "output_type": "stream",
     "text": [
      "{'Ramesh': 56, 'Ram': 34, 'Sita': 80, 'Gita': 90}\n"
     ]
    }
   ],
   "source": [
    "dict_age = {'Ramesh' : 56, 'Ram' : 34, 'Sita' : 80, 'Gita' : 90}\n",
    "type(dict_age)\n",
    "print(dict_age)"
   ]
  },
  {
   "cell_type": "code",
   "execution_count": 56,
   "id": "d8ab4f21-1b3f-41ca-820c-176c7564e2e8",
   "metadata": {},
   "outputs": [
    {
     "name": "stdout",
     "output_type": "stream",
     "text": [
      "{'Ramesh': 56, 'Ram': 34, 'Sita': 0, 'Gita': 90}\n"
     ]
    }
   ],
   "source": [
    "#alternattive way of making dictionary \n",
    "abc = dict(Ramesh = 56, Ram = 34, Sita = 0, Gita = 90)\n",
    "type(abc)\n",
    "print(abc)"
   ]
  },
  {
   "cell_type": "code",
   "execution_count": 58,
   "id": "74cbe585-cfee-494a-99cc-40ef64282539",
   "metadata": {},
   "outputs": [
    {
     "data": {
      "text/plain": [
       "dict"
      ]
     },
     "execution_count": 58,
     "metadata": {},
     "output_type": "execute_result"
    }
   ],
   "source": [
    "type(abc)"
   ]
  },
  {
   "cell_type": "code",
   "execution_count": 23,
   "id": "66234d8b-4442-4b77-b0ea-1204944a5292",
   "metadata": {},
   "outputs": [
    {
     "data": {
      "text/plain": [
       "dict"
      ]
     },
     "execution_count": 23,
     "metadata": {},
     "output_type": "execute_result"
    }
   ],
   "source": [
    "type(dict_age)"
   ]
  },
  {
   "cell_type": "code",
   "execution_count": 29,
   "id": "4c914360-3f67-4ae2-beb2-267db6f41e0e",
   "metadata": {},
   "outputs": [
    {
     "name": "stdout",
     "output_type": "stream",
     "text": [
      "{'Ramesh': 56, 'Ram': 80, 'Sita': 80, 'Gita': 15}\n"
     ]
    }
   ],
   "source": [
    "print(dict_age)"
   ]
  },
  {
   "cell_type": "markdown",
   "id": "0f095c5b-6382-474e-8282-a9f8281d5b77",
   "metadata": {},
   "source": [
    "## Item accesed"
   ]
  },
  {
   "cell_type": "code",
   "execution_count": 31,
   "id": "da270286-a839-4aa7-b3a8-a19007c614a0",
   "metadata": {},
   "outputs": [
    {
     "data": {
      "text/plain": [
       "80"
      ]
     },
     "execution_count": 31,
     "metadata": {},
     "output_type": "execute_result"
    }
   ],
   "source": [
    "#Item accessed through key: key can be number also \n",
    "dict_age['Ram']"
   ]
  },
  {
   "cell_type": "code",
   "execution_count": 33,
   "id": "e7dcf2c9-4c13-4349-852e-ea5d2b329b75",
   "metadata": {},
   "outputs": [
    {
     "data": {
      "text/plain": [
       "4"
      ]
     },
     "execution_count": 33,
     "metadata": {},
     "output_type": "execute_result"
    }
   ],
   "source": [
    "len(dict_age)"
   ]
  },
  {
   "cell_type": "code",
   "execution_count": 42,
   "id": "42eb67fb-7eb5-4754-adfa-3d539e670b74",
   "metadata": {},
   "outputs": [
    {
     "data": {
      "text/plain": [
       "56"
      ]
     },
     "execution_count": 42,
     "metadata": {},
     "output_type": "execute_result"
    }
   ],
   "source": [
    "abc['Ramesh']"
   ]
  },
  {
   "cell_type": "code",
   "execution_count": 44,
   "id": "b35fc51b-c424-4738-8706-d6c983e22599",
   "metadata": {},
   "outputs": [
    {
     "data": {
      "text/plain": [
       "56"
      ]
     },
     "execution_count": 44,
     "metadata": {},
     "output_type": "execute_result"
    }
   ],
   "source": [
    "abc.get('Ramesh')"
   ]
  },
  {
   "cell_type": "code",
   "execution_count": 46,
   "id": "92123430-6c6d-4db7-ab45-520ed4d0c44a",
   "metadata": {},
   "outputs": [
    {
     "data": {
      "text/plain": [
       "dict_keys(['Ramesh', 'Ram', 'Sita', 'Gita'])"
      ]
     },
     "execution_count": 46,
     "metadata": {},
     "output_type": "execute_result"
    }
   ],
   "source": [
    "dict_age.keys()"
   ]
  },
  {
   "cell_type": "code",
   "execution_count": 48,
   "id": "167435f0-57a5-41ee-86af-9ea4050c1be7",
   "metadata": {},
   "outputs": [
    {
     "data": {
      "text/plain": [
       "dict_keys(['Ramesh', 'Ram', 'Sita', 'Gita'])"
      ]
     },
     "execution_count": 48,
     "metadata": {},
     "output_type": "execute_result"
    }
   ],
   "source": [
    "abc.keys()"
   ]
  },
  {
   "cell_type": "markdown",
   "id": "50f8ade0-f7b1-46b0-8166-9a9c7da98345",
   "metadata": {},
   "source": [
    "## Items changed"
   ]
  },
  {
   "cell_type": "code",
   "execution_count": 51,
   "id": "b02d4049-5071-4d9e-8725-786399d140d9",
   "metadata": {},
   "outputs": [],
   "source": [
    "abc['Ramesh'] = 90"
   ]
  },
  {
   "cell_type": "code",
   "execution_count": 53,
   "id": "1ea1f859-3e74-4aee-9934-d56dccaa794f",
   "metadata": {},
   "outputs": [
    {
     "name": "stdout",
     "output_type": "stream",
     "text": [
      "{'Ramesh': 90, 'Ram': 34, 'Sita': 80, 'Gita': 15}\n"
     ]
    }
   ],
   "source": [
    "print(abc)"
   ]
  },
  {
   "cell_type": "code",
   "execution_count": 63,
   "id": "eb82fd38-3ffd-4255-8654-0c8d96c4e13d",
   "metadata": {},
   "outputs": [],
   "source": [
    "abc.update({'Ramesh':44})"
   ]
  },
  {
   "cell_type": "code",
   "execution_count": 65,
   "id": "bd509ea0-0790-40d2-8681-4e54ae53bb2f",
   "metadata": {},
   "outputs": [
    {
     "name": "stdout",
     "output_type": "stream",
     "text": [
      "{'Ramesh': 44, 'Ram': 34, 'Sita': 80, 'Gita': 15}\n"
     ]
    }
   ],
   "source": [
    "print(abc)"
   ]
  },
  {
   "cell_type": "code",
   "execution_count": 67,
   "id": "066b75d9-9d5c-4f80-bdc2-408947a9ce64",
   "metadata": {},
   "outputs": [],
   "source": [
    "#update can be changed value and add key and value\n",
    "abc.update({'Hari':40})"
   ]
  },
  {
   "cell_type": "code",
   "execution_count": 69,
   "id": "bba1c6c2-383f-4293-b6fc-576342066ad6",
   "metadata": {},
   "outputs": [
    {
     "name": "stdout",
     "output_type": "stream",
     "text": [
      "{'Ramesh': 44, 'Ram': 34, 'Sita': 80, 'Gita': 15, 'Hari': 40}\n"
     ]
    }
   ],
   "source": [
    "print(abc)"
   ]
  },
  {
   "cell_type": "markdown",
   "id": "b8570ed8-232d-4df7-b4b3-e783657b9867",
   "metadata": {},
   "source": [
    "## Remove items"
   ]
  },
  {
   "cell_type": "code",
   "execution_count": 72,
   "id": "f13d6bba-a552-449d-b88e-d8adb4601579",
   "metadata": {},
   "outputs": [
    {
     "data": {
      "text/plain": [
       "{'Ramesh': 44, 'Ram': 34, 'Sita': 80, 'Gita': 15, 'Hari': 40}"
      ]
     },
     "execution_count": 72,
     "metadata": {},
     "output_type": "execute_result"
    }
   ],
   "source": [
    "abc\n"
   ]
  },
  {
   "cell_type": "code",
   "execution_count": 78,
   "id": "ad25f690-785b-4ea5-8163-5dd08bb82b24",
   "metadata": {},
   "outputs": [
    {
     "data": {
      "text/plain": [
       "{'Ramesh': 44, 'Ram': 34, 'Gita': 15, 'Hari': 40}"
      ]
     },
     "execution_count": 78,
     "metadata": {},
     "output_type": "execute_result"
    }
   ],
   "source": [
    "abc"
   ]
  },
  {
   "cell_type": "code",
   "execution_count": 80,
   "id": "201de1e4-c52b-4995-8d93-05124173c77f",
   "metadata": {},
   "outputs": [
    {
     "data": {
      "text/plain": [
       "15"
      ]
     },
     "execution_count": 80,
     "metadata": {},
     "output_type": "execute_result"
    }
   ],
   "source": [
    "abc.pop('Gita')"
   ]
  },
  {
   "cell_type": "code",
   "execution_count": 82,
   "id": "af582a38-3678-4451-a5a0-38eddb1e7203",
   "metadata": {},
   "outputs": [
    {
     "name": "stdout",
     "output_type": "stream",
     "text": [
      "{'Ramesh': 44, 'Ram': 34, 'Hari': 40}\n"
     ]
    }
   ],
   "source": [
    "print(abc)"
   ]
  },
  {
   "cell_type": "code",
   "execution_count": 84,
   "id": "8541c68e-df7c-4a45-a1f9-bcc8c8a31c56",
   "metadata": {},
   "outputs": [
    {
     "data": {
      "text/plain": [
       "('Hari', 40)"
      ]
     },
     "execution_count": 84,
     "metadata": {},
     "output_type": "execute_result"
    }
   ],
   "source": [
    "#last item detete\n",
    "abc.popitem()"
   ]
  },
  {
   "cell_type": "code",
   "execution_count": 86,
   "id": "a9d78f9b-c5da-4dc6-b995-7ff947d7d303",
   "metadata": {},
   "outputs": [
    {
     "data": {
      "text/plain": [
       "{'Ramesh': 44, 'Ram': 34}"
      ]
     },
     "execution_count": 86,
     "metadata": {},
     "output_type": "execute_result"
    }
   ],
   "source": [
    "abc"
   ]
  },
  {
   "cell_type": "markdown",
   "id": "5be6fb96-01a9-44e8-8469-d943439cafaa",
   "metadata": {},
   "source": [
    "## looping in disctionary "
   ]
  },
  {
   "cell_type": "code",
   "execution_count": 94,
   "id": "620acd87-3910-4636-a196-8f3506fab4cc",
   "metadata": {},
   "outputs": [],
   "source": [
    "abc=dict(Ramesh = 56, Ram = 34, Sita = 80, Gita = 15)"
   ]
  },
  {
   "cell_type": "code",
   "execution_count": 96,
   "id": "53840b94-9953-47a4-b7bd-4fb854717a62",
   "metadata": {},
   "outputs": [
    {
     "name": "stdout",
     "output_type": "stream",
     "text": [
      "Ramesh\n",
      "Ram\n",
      "Sita\n",
      "Gita\n"
     ]
    }
   ],
   "source": [
    "for i in abc:\n",
    "    print(i)"
   ]
  },
  {
   "cell_type": "code",
   "execution_count": 102,
   "id": "7aae4dca-203b-4b0d-b3b2-92cb83cfb4de",
   "metadata": {},
   "outputs": [
    {
     "name": "stdout",
     "output_type": "stream",
     "text": [
      "Ramesh\n",
      "Ram\n",
      "Sita\n",
      "Gita\n"
     ]
    }
   ],
   "source": [
    "for i in abc.keys():\n",
    "    print(i)"
   ]
  },
  {
   "cell_type": "code",
   "execution_count": 104,
   "id": "80b0634f-bc48-4d7e-a874-d853eb45779b",
   "metadata": {},
   "outputs": [
    {
     "name": "stdout",
     "output_type": "stream",
     "text": [
      "56\n",
      "34\n",
      "80\n",
      "15\n"
     ]
    }
   ],
   "source": [
    "for i in abc.values():\n",
    "    print(i)"
   ]
  },
  {
   "cell_type": "code",
   "execution_count": 108,
   "id": "914fe3bf-06aa-4b48-a787-f596096e80f7",
   "metadata": {},
   "outputs": [
    {
     "name": "stdout",
     "output_type": "stream",
     "text": [
      "the lucky number or string of Ramesh is 56\n",
      "the lucky number or string of Ram is 34\n",
      "the lucky number or string of Sita is 80\n",
      "the lucky number or string of Gita is 15\n"
     ]
    }
   ],
   "source": [
    "for x,y in abc.items():\n",
    "    print(f'the lucky number or string of {x} is {y}')"
   ]
  },
  {
   "cell_type": "markdown",
   "id": "77b83c57-87de-4fce-84d7-f34f6d8a2fb3",
   "metadata": {},
   "source": [
    "## Copying"
   ]
  },
  {
   "cell_type": "code",
   "execution_count": 112,
   "id": "485eb2c7-fd2e-49d7-ac68-08d7234cc772",
   "metadata": {},
   "outputs": [],
   "source": [
    "bbc = abc"
   ]
  },
  {
   "cell_type": "code",
   "execution_count": 114,
   "id": "0bf58fb5-8d50-47bb-ab5f-75c244197e58",
   "metadata": {},
   "outputs": [
    {
     "data": {
      "text/plain": [
       "{'Ramesh': 56, 'Ram': 34, 'Sita': 80, 'Gita': 15}"
      ]
     },
     "execution_count": 114,
     "metadata": {},
     "output_type": "execute_result"
    }
   ],
   "source": [
    "bbc"
   ]
  },
  {
   "cell_type": "code",
   "execution_count": 116,
   "id": "66e2d426-c92e-4608-ba1b-f00361b52e5e",
   "metadata": {},
   "outputs": [
    {
     "data": {
      "text/plain": [
       "{'Ramesh': 56, 'Ram': 34, 'Sita': 80, 'Gita': 15}"
      ]
     },
     "execution_count": 116,
     "metadata": {},
     "output_type": "execute_result"
    }
   ],
   "source": [
    "abc\n"
   ]
  },
  {
   "cell_type": "code",
   "execution_count": 118,
   "id": "e6efab06-af36-4283-8d1b-b405e49edfd7",
   "metadata": {},
   "outputs": [
    {
     "data": {
      "text/plain": [
       "('Gita', 15)"
      ]
     },
     "execution_count": 118,
     "metadata": {},
     "output_type": "execute_result"
    }
   ],
   "source": [
    "abc.popitem()"
   ]
  },
  {
   "cell_type": "code",
   "execution_count": 120,
   "id": "a4b23c5f-39ab-4e04-ac04-3daac199d979",
   "metadata": {},
   "outputs": [
    {
     "data": {
      "text/plain": [
       "{'Ramesh': 56, 'Ram': 34, 'Sita': 80}"
      ]
     },
     "execution_count": 120,
     "metadata": {},
     "output_type": "execute_result"
    }
   ],
   "source": [
    "abc"
   ]
  },
  {
   "cell_type": "code",
   "execution_count": 122,
   "id": "46b89ee7-041a-4558-a930-9dae908a9467",
   "metadata": {},
   "outputs": [],
   "source": [
    "##copy \n",
    "ccc = abc.copy()"
   ]
  },
  {
   "cell_type": "code",
   "execution_count": 124,
   "id": "6d2eec39-d857-4e36-b935-8867c579d97c",
   "metadata": {},
   "outputs": [
    {
     "data": {
      "text/plain": [
       "{'Ramesh': 56, 'Ram': 34, 'Sita': 80}"
      ]
     },
     "execution_count": 124,
     "metadata": {},
     "output_type": "execute_result"
    }
   ],
   "source": [
    "ccc"
   ]
  },
  {
   "cell_type": "code",
   "execution_count": 126,
   "id": "4b12c13c-b8ef-4bd1-920f-b1fe9c2676e5",
   "metadata": {},
   "outputs": [
    {
     "data": {
      "text/plain": [
       "('Sita', 80)"
      ]
     },
     "execution_count": 126,
     "metadata": {},
     "output_type": "execute_result"
    }
   ],
   "source": [
    "abc.popitem()"
   ]
  },
  {
   "cell_type": "code",
   "execution_count": 128,
   "id": "82ecc9b5-48ee-4c22-adf5-d5a91da4196b",
   "metadata": {},
   "outputs": [
    {
     "data": {
      "text/plain": [
       "{'Ramesh': 56, 'Ram': 34}"
      ]
     },
     "execution_count": 128,
     "metadata": {},
     "output_type": "execute_result"
    }
   ],
   "source": [
    "abc"
   ]
  },
  {
   "cell_type": "code",
   "execution_count": 130,
   "id": "172b879c-4fde-4c36-a451-9ff78b8545ea",
   "metadata": {},
   "outputs": [],
   "source": [
    "##clear\n",
    "ccc.clear()"
   ]
  },
  {
   "cell_type": "code",
   "execution_count": 132,
   "id": "e0feb04f-68d0-4829-baa2-931111ae5fb6",
   "metadata": {},
   "outputs": [
    {
     "data": {
      "text/plain": [
       "{}"
      ]
     },
     "execution_count": 132,
     "metadata": {},
     "output_type": "execute_result"
    }
   ],
   "source": [
    "ccc"
   ]
  },
  {
   "cell_type": "code",
   "execution_count": 136,
   "id": "d2dcf15c-16b6-46d1-8e84-f8cd15277395",
   "metadata": {},
   "outputs": [],
   "source": [
    "del ccc"
   ]
  },
  {
   "cell_type": "code",
   "execution_count": 138,
   "id": "a3e7f9f3-0c11-43d4-8033-259056a58522",
   "metadata": {},
   "outputs": [
    {
     "ename": "NameError",
     "evalue": "name 'ccc' is not defined",
     "output_type": "error",
     "traceback": [
      "\u001b[1;31m---------------------------------------------------------------------------\u001b[0m",
      "\u001b[1;31mNameError\u001b[0m                                 Traceback (most recent call last)",
      "Cell \u001b[1;32mIn[138], line 1\u001b[0m\n\u001b[1;32m----> 1\u001b[0m ccc\n",
      "\u001b[1;31mNameError\u001b[0m: name 'ccc' is not defined"
     ]
    }
   ],
   "source": [
    "ccc"
   ]
  },
  {
   "cell_type": "markdown",
   "id": "b4f3121b-0b71-48c4-a11f-9d3fd8c36fa6",
   "metadata": {},
   "source": [
    "## Nested List/Dict"
   ]
  },
  {
   "cell_type": "code",
   "execution_count": 141,
   "id": "c0e79da9-260d-4e72-964c-91ac7d0b41bc",
   "metadata": {},
   "outputs": [],
   "source": [
    "a = [45, 'rrrr', False, 'Tree', 7000]"
   ]
  },
  {
   "cell_type": "code",
   "execution_count": 143,
   "id": "3c8780b8-071f-4ddd-85d9-9b7835a0daf0",
   "metadata": {},
   "outputs": [
    {
     "data": {
      "text/plain": [
       "list"
      ]
     },
     "execution_count": 143,
     "metadata": {},
     "output_type": "execute_result"
    }
   ],
   "source": [
    "type(a)"
   ]
  },
  {
   "cell_type": "code",
   "execution_count": 145,
   "id": "51e0c6b2-de73-40d3-94cc-2515d32bfa47",
   "metadata": {},
   "outputs": [
    {
     "data": {
      "text/plain": [
       "5"
      ]
     },
     "execution_count": 145,
     "metadata": {},
     "output_type": "execute_result"
    }
   ],
   "source": [
    "len (a)"
   ]
  },
  {
   "cell_type": "code",
   "execution_count": 151,
   "id": "caa32353-baec-4332-909b-d4c2dd917aba",
   "metadata": {},
   "outputs": [],
   "source": [
    "List overlaping: Nested lsit \n",
    "b = [45, ['rrrr', False], ['Tree', 7000]]"
   ]
  },
  {
   "cell_type": "code",
   "execution_count": 153,
   "id": "86a31743-6ba4-4bd7-b959-5d3169888ea9",
   "metadata": {},
   "outputs": [
    {
     "data": {
      "text/plain": [
       "3"
      ]
     },
     "execution_count": 153,
     "metadata": {},
     "output_type": "execute_result"
    }
   ],
   "source": [
    "len(b)"
   ]
  },
  {
   "cell_type": "code",
   "execution_count": 155,
   "id": "7396cf56-9099-4472-a0ad-f56b06359a4c",
   "metadata": {},
   "outputs": [
    {
     "data": {
      "text/plain": [
       "['rrrr', False]"
      ]
     },
     "execution_count": 155,
     "metadata": {},
     "output_type": "execute_result"
    }
   ],
   "source": [
    "#for print False\n",
    "b[1]"
   ]
  },
  {
   "cell_type": "code",
   "execution_count": 157,
   "id": "1da7d200-b957-4b1a-8786-45d65a6fdd4a",
   "metadata": {},
   "outputs": [
    {
     "data": {
      "text/plain": [
       "False"
      ]
     },
     "execution_count": 157,
     "metadata": {},
     "output_type": "execute_result"
    }
   ],
   "source": [
    "b[1][1]"
   ]
  },
  {
   "cell_type": "code",
   "execution_count": 159,
   "id": "630e06d4-e6d8-47af-ae8d-3e46fea439ee",
   "metadata": {},
   "outputs": [],
   "source": [
    "d = tuple(a)"
   ]
  },
  {
   "cell_type": "code",
   "execution_count": 161,
   "id": "6bb28b3a-d739-48bf-94f1-c4a71f680d07",
   "metadata": {},
   "outputs": [
    {
     "data": {
      "text/plain": [
       "(45, 'rrrr', False, 'Tree', 7000)"
      ]
     },
     "execution_count": 161,
     "metadata": {},
     "output_type": "execute_result"
    }
   ],
   "source": [
    "d "
   ]
  },
  {
   "cell_type": "code",
   "execution_count": 163,
   "id": "c5025838-b83f-4a32-b83f-606720e6d095",
   "metadata": {},
   "outputs": [
    {
     "data": {
      "text/plain": [
       "tuple"
      ]
     },
     "execution_count": 163,
     "metadata": {},
     "output_type": "execute_result"
    }
   ],
   "source": [
    "type(d)"
   ]
  },
  {
   "cell_type": "code",
   "execution_count": 165,
   "id": "1608be0f-1f8c-4106-9b49-e75f6c75dd7a",
   "metadata": {},
   "outputs": [],
   "source": [
    "c= (45, ('rrrr', False), ('Tree', 7000))"
   ]
  },
  {
   "cell_type": "code",
   "execution_count": 167,
   "id": "27c78c8a-ce15-4ecd-9ef4-0a86476e9947",
   "metadata": {},
   "outputs": [
    {
     "data": {
      "text/plain": [
       "(45, ('rrrr', False), ('Tree', 7000))"
      ]
     },
     "execution_count": 167,
     "metadata": {},
     "output_type": "execute_result"
    }
   ],
   "source": [
    "c"
   ]
  },
  {
   "cell_type": "code",
   "execution_count": 169,
   "id": "a9172973-9365-4671-b421-378537b03081",
   "metadata": {},
   "outputs": [
    {
     "data": {
      "text/plain": [
       "'rrrr'"
      ]
     },
     "execution_count": 169,
     "metadata": {},
     "output_type": "execute_result"
    }
   ],
   "source": [
    "c[1] [0]"
   ]
  },
  {
   "cell_type": "code",
   "execution_count": 171,
   "id": "5be8ef07-6911-4c19-8146-17489a1447bf",
   "metadata": {},
   "outputs": [
    {
     "ename": "TypeError",
     "evalue": "unhashable type: 'set'",
     "output_type": "error",
     "traceback": [
      "\u001b[1;31m---------------------------------------------------------------------------\u001b[0m",
      "\u001b[1;31mTypeError\u001b[0m                                 Traceback (most recent call last)",
      "Cell \u001b[1;32mIn[171], line 1\u001b[0m\n\u001b[1;32m----> 1\u001b[0m m \u001b[38;5;241m=\u001b[39m {\u001b[38;5;241m56\u001b[39m, {\u001b[38;5;241m50\u001b[39m,\u001b[38;5;241m60\u001b[39m},\u001b[38;5;241m55\u001b[39m}\n",
      "\u001b[1;31mTypeError\u001b[0m: unhashable type: 'set'"
     ]
    }
   ],
   "source": [
    "m = {56, {50,60},55}"
   ]
  },
  {
   "cell_type": "code",
   "execution_count": 173,
   "id": "9260ca37-8d9a-47f3-ba78-86c2a069cb7e",
   "metadata": {},
   "outputs": [],
   "source": [
    "#Dictionary\n",
    "student={'Ram':{'AI':50,'Calculus':80},'Indira':50}"
   ]
  },
  {
   "cell_type": "code",
   "execution_count": 175,
   "id": "b2f17972-eaf7-48fe-a1b2-b64584bf35e4",
   "metadata": {},
   "outputs": [
    {
     "data": {
      "text/plain": [
       "{'Ram': {'AI': 50, 'Calculus': 80}, 'Indira': 50}"
      ]
     },
     "execution_count": 175,
     "metadata": {},
     "output_type": "execute_result"
    }
   ],
   "source": [
    "student"
   ]
  },
  {
   "cell_type": "code",
   "execution_count": 181,
   "id": "1ccb4263-7cb6-48fe-927d-b22c07283168",
   "metadata": {},
   "outputs": [
    {
     "data": {
      "text/plain": [
       "80"
      ]
     },
     "execution_count": 181,
     "metadata": {},
     "output_type": "execute_result"
    }
   ],
   "source": [
    "student ['Ram'] ['Calculus']"
   ]
  },
  {
   "cell_type": "code",
   "execution_count": null,
   "id": "c644172b-3c0b-4372-8cf0-04f7658ee8aa",
   "metadata": {},
   "outputs": [],
   "source": []
  }
 ],
 "metadata": {
  "kernelspec": {
   "display_name": "Python 3 (ipykernel)",
   "language": "python",
   "name": "python3"
  },
  "language_info": {
   "codemirror_mode": {
    "name": "ipython",
    "version": 3
   },
   "file_extension": ".py",
   "mimetype": "text/x-python",
   "name": "python",
   "nbconvert_exporter": "python",
   "pygments_lexer": "ipython3",
   "version": "3.12.4"
  }
 },
 "nbformat": 4,
 "nbformat_minor": 5
}
