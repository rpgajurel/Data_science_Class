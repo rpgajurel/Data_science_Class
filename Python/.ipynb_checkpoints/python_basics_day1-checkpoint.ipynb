{
 "cells": [
  {
   "cell_type": "code",
   "execution_count": 1,
   "id": "818b02d2-34db-4944-9a8e-fd7623eccd8a",
   "metadata": {},
   "outputs": [
    {
     "name": "stdout",
     "output_type": "stream",
     "text": [
      "Hello world!\n"
     ]
    }
   ],
   "source": [
    "print ('Hello world!')"
   ]
  },
  {
   "cell_type": "code",
   "execution_count": 3,
   "id": "8624df0d-dae5-47b5-85f3-f33443de1ff8",
   "metadata": {},
   "outputs": [
    {
     "name": "stdout",
     "output_type": "stream",
     "text": [
      "R.P. Gajurel\n"
     ]
    }
   ],
   "source": [
    "print ('R.P. Gajurel')"
   ]
  },
  {
   "cell_type": "code",
   "execution_count": 2,
   "id": "bb7246c9-e0db-48a9-a44d-523abb5dd913",
   "metadata": {},
   "outputs": [
    {
     "name": "stdin",
     "output_type": "stream",
     "text": [
      "What is your name? R.P. Gajurel\n"
     ]
    },
    {
     "name": "stdout",
     "output_type": "stream",
     "text": [
      "Hello R.P. Gajurel\n"
     ]
    }
   ],
   "source": [
    "name = input('What is your name?')\n",
    "print ('Hello', name)"
   ]
  },
  {
   "cell_type": "code",
   "execution_count": 2,
   "id": "dd8530bc-d6a1-4d0d-bdaa-cdf898666d5e",
   "metadata": {},
   "outputs": [
    {
     "name": "stdin",
     "output_type": "stream",
     "text": [
      "What is your name? R.P. Gajurel\n"
     ]
    },
    {
     "name": "stdout",
     "output_type": "stream",
     "text": [
      "R.P. Gajurel\n"
     ]
    }
   ],
   "source": [
    "name = input('What is your name?')\n",
    "print (name)"
   ]
  },
  {
   "cell_type": "code",
   "execution_count": 4,
   "id": "34fa6d61-9a33-4655-8138-0a604c15c08a",
   "metadata": {},
   "outputs": [
    {
     "name": "stdout",
     "output_type": "stream",
     "text": [
      "R.P. Gajurel\n"
     ]
    }
   ],
   "source": [
    "print (name)\n"
   ]
  },
  {
   "cell_type": "markdown",
   "id": "152ae78c-9aa8-476e-9bbe-f4b6508ed8af",
   "metadata": {},
   "source": [
    "##  Dynamic and Strong Type"
   ]
  },
  {
   "cell_type": "code",
   "execution_count": 221,
   "id": "4a25f64b-1705-447d-9397-9dff8ae2d5b7",
   "metadata": {},
   "outputs": [],
   "source": [
    "a = 15\n",
    "b = 2.5\n",
    "c = 'Nepal'\n",
    "d = True "
   ]
  },
  {
   "cell_type": "code",
   "execution_count": 223,
   "id": "42c5c6d6-868b-44f8-97b7-17bf7ea0b94b",
   "metadata": {},
   "outputs": [
    {
     "data": {
      "text/plain": [
       "int"
      ]
     },
     "execution_count": 223,
     "metadata": {},
     "output_type": "execute_result"
    }
   ],
   "source": [
    "type (a)"
   ]
  },
  {
   "cell_type": "code",
   "execution_count": 225,
   "id": "e5d84bda-3917-4515-9a7f-dbe8f9132247",
   "metadata": {},
   "outputs": [
    {
     "data": {
      "text/plain": [
       "float"
      ]
     },
     "execution_count": 225,
     "metadata": {},
     "output_type": "execute_result"
    }
   ],
   "source": [
    "type (b)"
   ]
  },
  {
   "cell_type": "code",
   "execution_count": 227,
   "id": "8edb23d8-9bcc-448c-a1b4-c9d74270000a",
   "metadata": {},
   "outputs": [
    {
     "data": {
      "text/plain": [
       "str"
      ]
     },
     "execution_count": 227,
     "metadata": {},
     "output_type": "execute_result"
    }
   ],
   "source": [
    "type (c)"
   ]
  },
  {
   "cell_type": "code",
   "execution_count": 229,
   "id": "81b644a0-3059-4de5-8796-925234220c50",
   "metadata": {},
   "outputs": [
    {
     "data": {
      "text/plain": [
       "bool"
      ]
     },
     "execution_count": 229,
     "metadata": {},
     "output_type": "execute_result"
    }
   ],
   "source": [
    "type(d)"
   ]
  },
  {
   "cell_type": "markdown",
   "id": "cfc71ebf-7361-4742-b4ee-c81a60ae5211",
   "metadata": {},
   "source": [
    "##  Data Type "
   ]
  },
  {
   "cell_type": "code",
   "execution_count": 231,
   "id": "c02fbdac-72f5-4de4-bb40-461ee5c87f33",
   "metadata": {},
   "outputs": [],
   "source": [
    "a= 'Nepal'  #string"
   ]
  },
  {
   "cell_type": "code",
   "execution_count": 233,
   "id": "a690f57b-b6ac-404e-bdff-6c784e7dae65",
   "metadata": {},
   "outputs": [
    {
     "data": {
      "text/plain": [
       "str"
      ]
     },
     "execution_count": 233,
     "metadata": {},
     "output_type": "execute_result"
    }
   ],
   "source": [
    "type(a)"
   ]
  },
  {
   "cell_type": "code",
   "execution_count": 237,
   "id": "2f3a652c-3309-4037-a4f8-401b89413c32",
   "metadata": {},
   "outputs": [],
   "source": [
    "b = 230  #integer"
   ]
  },
  {
   "cell_type": "code",
   "execution_count": 19,
   "id": "3d8025b5-7d73-4693-ad1c-4828d059b7b9",
   "metadata": {},
   "outputs": [
    {
     "data": {
      "text/plain": [
       "int"
      ]
     },
     "execution_count": 19,
     "metadata": {},
     "output_type": "execute_result"
    }
   ],
   "source": [
    "type(b)"
   ]
  },
  {
   "cell_type": "code",
   "execution_count": 21,
   "id": "327a108b-b90c-4e80-a81e-b9c20c99d7ef",
   "metadata": {},
   "outputs": [],
   "source": [
    "c = 5+4j   #complex "
   ]
  },
  {
   "cell_type": "code",
   "execution_count": 23,
   "id": "f3fba823-1bc9-4e71-b1cf-a401fc8f4e07",
   "metadata": {},
   "outputs": [
    {
     "data": {
      "text/plain": [
       "complex"
      ]
     },
     "execution_count": 23,
     "metadata": {},
     "output_type": "execute_result"
    }
   ],
   "source": [
    "type(c)"
   ]
  },
  {
   "cell_type": "code",
   "execution_count": 235,
   "id": "be73565b-2e0d-4eae-b6db-9fb3e84b3bce",
   "metadata": {},
   "outputs": [],
   "source": [
    "d = 2.1   #float "
   ]
  },
  {
   "cell_type": "code",
   "execution_count": 27,
   "id": "4efb3539-2693-4121-a74a-2bc7b9df5abc",
   "metadata": {},
   "outputs": [
    {
     "data": {
      "text/plain": [
       "float"
      ]
     },
     "execution_count": 27,
     "metadata": {},
     "output_type": "execute_result"
    }
   ],
   "source": [
    "type(d)"
   ]
  },
  {
   "cell_type": "code",
   "execution_count": 29,
   "id": "787249f1-3537-40dc-a658-fd5a2787ca8d",
   "metadata": {},
   "outputs": [],
   "source": [
    "e = False #boolen "
   ]
  },
  {
   "cell_type": "code",
   "execution_count": 31,
   "id": "bf7dda59-ca9e-4f35-a3eb-98ec8c2dac5a",
   "metadata": {},
   "outputs": [
    {
     "data": {
      "text/plain": [
       "bool"
      ]
     },
     "execution_count": 31,
     "metadata": {},
     "output_type": "execute_result"
    }
   ],
   "source": [
    "type(e)"
   ]
  },
  {
   "cell_type": "code",
   "execution_count": 33,
   "id": "a0489816-d940-47db-bcee-1d0d8fe52c1f",
   "metadata": {},
   "outputs": [],
   "source": [
    "#conversion"
   ]
  },
  {
   "cell_type": "code",
   "execution_count": 239,
   "id": "4c2d6fb4-bb5e-419b-94f2-551cc0183e99",
   "metadata": {},
   "outputs": [],
   "source": [
    "x = str(b)"
   ]
  },
  {
   "cell_type": "code",
   "execution_count": 241,
   "id": "3adbfa5a-b6cd-498e-beff-0231793ef249",
   "metadata": {},
   "outputs": [
    {
     "data": {
      "text/plain": [
       "str"
      ]
     },
     "execution_count": 241,
     "metadata": {},
     "output_type": "execute_result"
    }
   ],
   "source": [
    "type(x)"
   ]
  },
  {
   "cell_type": "code",
   "execution_count": 243,
   "id": "bbe663c8-fd5d-4fa9-965b-48f7d8d370ef",
   "metadata": {},
   "outputs": [],
   "source": [
    "y = int(x)"
   ]
  },
  {
   "cell_type": "code",
   "execution_count": 245,
   "id": "068bbeeb-e037-4d2e-9737-22469297c850",
   "metadata": {},
   "outputs": [
    {
     "data": {
      "text/plain": [
       "int"
      ]
     },
     "execution_count": 245,
     "metadata": {},
     "output_type": "execute_result"
    }
   ],
   "source": [
    "type(y)"
   ]
  },
  {
   "cell_type": "code",
   "execution_count": 247,
   "id": "fc1485a6-06ae-43b6-94bd-1f3affa44564",
   "metadata": {},
   "outputs": [
    {
     "name": "stdout",
     "output_type": "stream",
     "text": [
      "235\n"
     ]
    }
   ],
   "source": [
    "print (y+5)"
   ]
  },
  {
   "cell_type": "code",
   "execution_count": 143,
   "id": "7fcb5ee6-8764-4caf-8d1e-ef45a39d7cff",
   "metadata": {},
   "outputs": [
    {
     "name": "stdout",
     "output_type": "stream",
     "text": [
      "8\n"
     ]
    }
   ],
   "source": [
    "#Random number import for lottary etc. between 1 to 50\n",
    "import random\n",
    "print(random.randrange(1,50))"
   ]
  },
  {
   "cell_type": "code",
   "execution_count": 147,
   "id": "e0215ee5-4133-4790-8350-988548e297ce",
   "metadata": {},
   "outputs": [
    {
     "name": "stdout",
     "output_type": "stream",
     "text": [
      "46\n"
     ]
    }
   ],
   "source": [
    "print(random.randint(1,50))"
   ]
  },
  {
   "cell_type": "code",
   "execution_count": 149,
   "id": "1c50de43-263a-4cb2-9fbf-134e6fdd1f20",
   "metadata": {},
   "outputs": [
    {
     "name": "stdout",
     "output_type": "stream",
     "text": [
      "18\n"
     ]
    }
   ],
   "source": [
    "print(random.randrange(1,50))"
   ]
  },
  {
   "cell_type": "markdown",
   "id": "5da26e52-c60a-4db2-89da-0c4568fe358d",
   "metadata": {},
   "source": [
    "## Strings "
   ]
  },
  {
   "cell_type": "code",
   "execution_count": 48,
   "id": "f3fbef56-f49b-4039-994d-1d0cd84a5129",
   "metadata": {},
   "outputs": [
    {
     "name": "stdout",
     "output_type": "stream",
     "text": [
      "hello world\n"
     ]
    }
   ],
   "source": [
    "print ('hello world')"
   ]
  },
  {
   "cell_type": "code",
   "execution_count": 50,
   "id": "9f98d865-4e9b-429b-a62c-08df096ff960",
   "metadata": {},
   "outputs": [
    {
     "name": "stdout",
     "output_type": "stream",
     "text": [
      "hellow world\n"
     ]
    }
   ],
   "source": [
    "print(\"hellow world\")"
   ]
  },
  {
   "cell_type": "code",
   "execution_count": 56,
   "id": "8e7f4cb8-4224-4c85-aaaf-e66174b7e89d",
   "metadata": {},
   "outputs": [],
   "source": [
    "multiline_string = '''hello its me R.P.\n",
    "What are you doing guys?'''     #multiline strings ko lagi ''' quotation use garne "
   ]
  },
  {
   "cell_type": "code",
   "execution_count": 58,
   "id": "7c4fc9bf-97cf-4de2-a924-3cc3b1c020ad",
   "metadata": {},
   "outputs": [
    {
     "name": "stdout",
     "output_type": "stream",
     "text": [
      "hello its me R.P.\n",
      "What are you doing guys?\n"
     ]
    }
   ],
   "source": [
    "print(multiline_string)"
   ]
  },
  {
   "cell_type": "code",
   "execution_count": 60,
   "id": "8ea21676-830b-45a1-8a95-000ef6a3fb57",
   "metadata": {},
   "outputs": [],
   "source": [
    "abc = \"Nepal is the beatutiful country\""
   ]
  },
  {
   "cell_type": "code",
   "execution_count": 62,
   "id": "6bb5aa98-bef7-4d25-96f1-532c794e61e1",
   "metadata": {},
   "outputs": [
    {
     "data": {
      "text/plain": [
       "'h'"
      ]
     },
     "execution_count": 62,
     "metadata": {},
     "output_type": "execute_result"
    }
   ],
   "source": [
    "abc[10]     #indexing and counting from 0 and spece also count ###function call lai []"
   ]
  },
  {
   "cell_type": "code",
   "execution_count": 68,
   "id": "801105fa-83c6-421b-a2df-0e62eabdcb77",
   "metadata": {},
   "outputs": [
    {
     "data": {
      "text/plain": [
       "'Nepa'"
      ]
     },
     "execution_count": 68,
     "metadata": {},
     "output_type": "execute_result"
    }
   ],
   "source": [
    "abc[0:4]"
   ]
  },
  {
   "cell_type": "code",
   "execution_count": 70,
   "id": "e301e7c2-d5ab-46bd-ac21-a053cfd5c8d2",
   "metadata": {},
   "outputs": [
    {
     "data": {
      "text/plain": [
       "'Nepal'"
      ]
     },
     "execution_count": 70,
     "metadata": {},
     "output_type": "execute_result"
    }
   ],
   "source": [
    "abc[0:5]"
   ]
  },
  {
   "cell_type": "code",
   "execution_count": 74,
   "id": "b0d301a0-5e94-420a-a477-fc5ff7c16fc7",
   "metadata": {},
   "outputs": [
    {
     "data": {
      "text/plain": [
       "'is'"
      ]
     },
     "execution_count": 74,
     "metadata": {},
     "output_type": "execute_result"
    }
   ],
   "source": [
    "abc[6:8]    #6 inclusive, 8 exclusive "
   ]
  },
  {
   "cell_type": "markdown",
   "id": "588880ce-2f18-4b22-84ea-da41d951a79f",
   "metadata": {},
   "source": [
    "# Indexing from Array: Single position "
   ]
  },
  {
   "cell_type": "code",
   "execution_count": 78,
   "id": "d1602152-ee84-4ff1-8656-c757a4bf0420",
   "metadata": {},
   "outputs": [
    {
     "data": {
      "text/plain": [
       "'Nepal is the beatutiful country'"
      ]
     },
     "execution_count": 78,
     "metadata": {},
     "output_type": "execute_result"
    }
   ],
   "source": [
    "abc[:]"
   ]
  },
  {
   "cell_type": "code",
   "execution_count": 80,
   "id": "8160bd32-3bae-46d5-8a43-a333a630872b",
   "metadata": {},
   "outputs": [
    {
     "data": {
      "text/plain": [
       "'Nepal is'"
      ]
     },
     "execution_count": 80,
     "metadata": {},
     "output_type": "execute_result"
    }
   ],
   "source": [
    "abc[:8]"
   ]
  },
  {
   "cell_type": "code",
   "execution_count": 82,
   "id": "bb9556fd-385f-4783-a946-536d33925d2e",
   "metadata": {},
   "outputs": [
    {
     "data": {
      "text/plain": [
       "'pal is the beatutiful country'"
      ]
     },
     "execution_count": 82,
     "metadata": {},
     "output_type": "execute_result"
    }
   ],
   "source": [
    "abc[2:]"
   ]
  },
  {
   "cell_type": "markdown",
   "id": "a5f61ff5-8963-401f-8083-3eb791048376",
   "metadata": {},
   "source": [
    "# Negative indexing "
   ]
  },
  {
   "cell_type": "code",
   "execution_count": 253,
   "id": "74a3bc1b-1a7f-4ac8-bb6d-f937d7bdf96e",
   "metadata": {},
   "outputs": [],
   "source": [
    "abc='My name is RP'"
   ]
  },
  {
   "cell_type": "code",
   "execution_count": 273,
   "id": "bbf7af53-5554-495f-acbd-4ae406a3425f",
   "metadata": {},
   "outputs": [
    {
     "data": {
      "text/plain": [
       "'P'"
      ]
     },
     "execution_count": 273,
     "metadata": {},
     "output_type": "execute_result"
    }
   ],
   "source": [
    "abc[-1]    #negative count start from 1 not from 0"
   ]
  },
  {
   "cell_type": "code",
   "execution_count": 275,
   "id": "d6661668-7bb7-4419-a629-2561abf58e89",
   "metadata": {},
   "outputs": [
    {
     "data": {
      "text/plain": [
       "'R'"
      ]
     },
     "execution_count": 275,
     "metadata": {},
     "output_type": "execute_result"
    }
   ],
   "source": [
    "abc[-2:-1]"
   ]
  },
  {
   "cell_type": "code",
   "execution_count": 271,
   "id": "c3d318e3-56f2-4c2f-aa3a-b5310aa184de",
   "metadata": {},
   "outputs": [
    {
     "data": {
      "text/plain": [
       "'RP'"
      ]
     },
     "execution_count": 271,
     "metadata": {},
     "output_type": "execute_result"
    }
   ],
   "source": [
    "abc[-2:]"
   ]
  },
  {
   "cell_type": "markdown",
   "id": "c2f89388-4ddf-4e6d-ac65-790caa65c198",
   "metadata": {},
   "source": [
    "## Modify Strings "
   ]
  },
  {
   "cell_type": "code",
   "execution_count": 2,
   "id": "458c6997-6ff4-485b-9d56-40c5e3174eab",
   "metadata": {},
   "outputs": [],
   "source": [
    "p = 'I live in Kathmandu and I am wroking as a Manager at commerical bank'"
   ]
  },
  {
   "cell_type": "code",
   "execution_count": 6,
   "id": "849dcd9b-0ae0-4f49-b7cb-23292a937267",
   "metadata": {},
   "outputs": [
    {
     "name": "stdout",
     "output_type": "stream",
     "text": [
      "I live in Kathmandu and I am wroking as a Manager at commerical bank\n"
     ]
    }
   ],
   "source": [
    "print (p)"
   ]
  },
  {
   "cell_type": "code",
   "execution_count": 12,
   "id": "e56d385c-6220-454d-8322-5268854372ca",
   "metadata": {},
   "outputs": [
    {
     "data": {
      "text/plain": [
       "'I LIVE IN KATHMANDU AND I AM WROKING AS A MANAGER AT COMMERICAL BANK'"
      ]
     },
     "execution_count": 12,
     "metadata": {},
     "output_type": "execute_result"
    }
   ],
   "source": [
    "p.upper()   #Change in upper case of p string "
   ]
  },
  {
   "cell_type": "code",
   "execution_count": 103,
   "id": "93ce3204-983c-4c97-af0e-8b8d5fdb7567",
   "metadata": {},
   "outputs": [
    {
     "data": {
      "text/plain": [
       "'i live in kathmandu and i am wroking as a manager at commerical bank'"
      ]
     },
     "execution_count": 103,
     "metadata": {},
     "output_type": "execute_result"
    }
   ],
   "source": [
    "p.lower()   #it is method"
   ]
  },
  {
   "cell_type": "code",
   "execution_count": 107,
   "id": "44a9c179-516a-4fb1-9104-440865746b4c",
   "metadata": {},
   "outputs": [
    {
     "data": {
      "text/plain": [
       "'I live in kathmandu and i am wroking as a manager at commerical bank'"
      ]
     },
     "execution_count": 107,
     "metadata": {},
     "output_type": "execute_result"
    }
   ],
   "source": [
    "p.capitalize()"
   ]
  },
  {
   "cell_type": "code",
   "execution_count": 121,
   "id": "6d87808c-a296-46fb-95c5-4e767e500510",
   "metadata": {},
   "outputs": [
    {
     "data": {
      "text/plain": [
       "'      I live in Kathmandu and I am wroking as a Manager at commerical bank      '"
      ]
     },
     "execution_count": 121,
     "metadata": {},
     "output_type": "execute_result"
    }
   ],
   "source": [
    "#Giving space or indentation\n",
    "p.center(80)"
   ]
  },
  {
   "cell_type": "code",
   "execution_count": 18,
   "id": "1015f0c1-d635-462b-8e6d-d4627b62752a",
   "metadata": {},
   "outputs": [],
   "source": [
    "def lower(x):\n",
    "    print(x.lower())"
   ]
  },
  {
   "cell_type": "code",
   "execution_count": 20,
   "id": "d92038bd-2142-4b58-bf2d-35cf3f2fe1d9",
   "metadata": {},
   "outputs": [
    {
     "name": "stdout",
     "output_type": "stream",
     "text": [
      "i live in kathmandu and i am wroking as a manager at commerical bank\n"
     ]
    }
   ],
   "source": [
    "lower(p)   #function "
   ]
  },
  {
   "cell_type": "code",
   "execution_count": 22,
   "id": "aaf935f5-7083-4fe5-89b6-4742f99a2d3a",
   "metadata": {},
   "outputs": [],
   "source": [
    "m=' i love you darling '   #additional space "
   ]
  },
  {
   "cell_type": "code",
   "execution_count": 24,
   "id": "4388a51f-f053-4edd-96bc-eebc822e9c20",
   "metadata": {},
   "outputs": [
    {
     "name": "stdout",
     "output_type": "stream",
     "text": [
      " i love you darling \n"
     ]
    }
   ],
   "source": [
    "print (m)"
   ]
  },
  {
   "cell_type": "code",
   "execution_count": 26,
   "id": "e68835b5-fbc7-486a-bf33-1a6de79fd255",
   "metadata": {},
   "outputs": [
    {
     "data": {
      "text/plain": [
       "'i love you darling'"
      ]
     },
     "execution_count": 26,
     "metadata": {},
     "output_type": "execute_result"
    }
   ],
   "source": [
    "m.strip()  #remove aditional space in sentence in between quotation "
   ]
  },
  {
   "cell_type": "code",
   "execution_count": 28,
   "id": "7eff94df-74ea-4425-957f-505840ec1f0b",
   "metadata": {},
   "outputs": [],
   "source": [
    "m=m.strip()   #another ways of removing space "
   ]
  },
  {
   "cell_type": "code",
   "execution_count": 30,
   "id": "f343d1ff-520f-458b-bb61-01af1dadf7c9",
   "metadata": {},
   "outputs": [
    {
     "name": "stdout",
     "output_type": "stream",
     "text": [
      "i love you darling\n"
     ]
    }
   ],
   "source": [
    "print (m)"
   ]
  },
  {
   "cell_type": "code",
   "execution_count": 36,
   "id": "1fb09d62-a978-4339-a0c9-5718f737e192",
   "metadata": {},
   "outputs": [
    {
     "data": {
      "text/plain": [
       "'i love you mother'"
      ]
     },
     "execution_count": 36,
     "metadata": {},
     "output_type": "execute_result"
    }
   ],
   "source": [
    "m.replace('darling', 'mother')  #replace darling to mother "
   ]
  },
  {
   "cell_type": "code",
   "execution_count": 40,
   "id": "e2d8e891-e2eb-4337-b066-d7ef6d97fe22",
   "metadata": {},
   "outputs": [],
   "source": [
    "r = 'I am R.P. Gajurel and I live in Kathmandu.'"
   ]
  },
  {
   "cell_type": "code",
   "execution_count": 42,
   "id": "a7fe9d88-06e5-4511-aaf2-9cc067853911",
   "metadata": {},
   "outputs": [
    {
     "data": {
      "text/plain": [
       "['I', 'am', 'R.P.', 'Gajurel', 'and', 'I', 'live', 'in', 'Kathmandu.']"
      ]
     },
     "execution_count": 42,
     "metadata": {},
     "output_type": "execute_result"
    }
   ],
   "source": [
    "r.split()  #split the sentence"
   ]
  },
  {
   "cell_type": "code",
   "execution_count": 44,
   "id": "d19d5c8d-933e-482b-b3eb-2971e194f45a",
   "metadata": {},
   "outputs": [
    {
     "data": {
      "text/plain": [
       "['I am R.P. Gajurel ', ' I live in Kathm', 'u.']"
      ]
     },
     "execution_count": 44,
     "metadata": {},
     "output_type": "execute_result"
    }
   ],
   "source": [
    "r.split('and')"
   ]
  },
  {
   "cell_type": "code",
   "execution_count": 46,
   "id": "216ac720-913b-4a9c-b670-365f6ad2cf95",
   "metadata": {},
   "outputs": [],
   "source": [
    "###for help "
   ]
  },
  {
   "cell_type": "code",
   "execution_count": 48,
   "id": "fbcf6356-42b8-417a-9208-552999baa441",
   "metadata": {},
   "outputs": [
    {
     "name": "stdout",
     "output_type": "stream",
     "text": [
      "Help on built-in function split:\n",
      "\n",
      "split(sep=None, maxsplit=-1) method of builtins.str instance\n",
      "    Return a list of the substrings in the string, using sep as the separator string.\n",
      "\n",
      "      sep\n",
      "        The separator used to split the string.\n",
      "\n",
      "        When set to None (the default value), will split on any whitespace\n",
      "        character (including \\n \\r \\t \\f and spaces) and will discard\n",
      "        empty strings from the result.\n",
      "      maxsplit\n",
      "        Maximum number of splits.\n",
      "        -1 (the default value) means no limit.\n",
      "\n",
      "    Splitting starts at the front of the string and works to the end.\n",
      "\n",
      "    Note, str.split() is mainly useful for data that has been intentionally\n",
      "    delimited.  With natural text that includes punctuation, consider using\n",
      "    the regular expression module.\n",
      "\n"
     ]
    }
   ],
   "source": [
    "help(r.split) #for help of function"
   ]
  },
  {
   "cell_type": "markdown",
   "id": "82677bec-6cdf-43a0-98dd-1a5dcfb7aaa4",
   "metadata": {},
   "source": [
    "### Concatenation"
   ]
  },
  {
   "cell_type": "code",
   "execution_count": 53,
   "id": "397fe43d-543a-4f67-8588-0ebce94396a6",
   "metadata": {},
   "outputs": [],
   "source": [
    "a = 'hellow '  #use space after hellow\n",
    "b = 'R.P. Gajurel' # for adding one or two "
   ]
  },
  {
   "cell_type": "code",
   "execution_count": 55,
   "id": "70dc584e-90bf-4a25-a47b-4c79170322ef",
   "metadata": {},
   "outputs": [],
   "source": [
    "d= a+b"
   ]
  },
  {
   "cell_type": "code",
   "execution_count": 57,
   "id": "f973da2c-4546-4ce9-94dd-268c566283e0",
   "metadata": {},
   "outputs": [
    {
     "data": {
      "text/plain": [
       "'hellow R.P. Gajurel'"
      ]
     },
     "execution_count": 57,
     "metadata": {},
     "output_type": "execute_result"
    }
   ],
   "source": [
    "d"
   ]
  },
  {
   "cell_type": "markdown",
   "id": "f6d20008-a2ce-4b6f-8e21-a16484917606",
   "metadata": {},
   "source": [
    "## String Format"
   ]
  },
  {
   "cell_type": "code",
   "execution_count": 66,
   "id": "92984b1c-84aa-4475-bdca-bb64e4701507",
   "metadata": {},
   "outputs": [],
   "source": [
    "a='My percentage in exam was more than ' \n",
    "per = 90"
   ]
  },
  {
   "cell_type": "code",
   "execution_count": 68,
   "id": "d30176f2-fedf-4481-8599-f70e25154aa0",
   "metadata": {},
   "outputs": [],
   "source": [
    "added_text=f'My percentage in exam was more than {percent}'  #added string and numeric with f function and curly bracket"
   ]
  },
  {
   "cell_type": "code",
   "execution_count": 72,
   "id": "ef053bdc-ddf8-43f1-9323-6924ffe5d6b8",
   "metadata": {},
   "outputs": [
    {
     "name": "stdout",
     "output_type": "stream",
     "text": [
      "My percentage in exam was more than 90\n"
     ]
    }
   ],
   "source": [
    "print(added_text)"
   ]
  },
  {
   "cell_type": "code",
   "execution_count": 74,
   "id": "8ab847e6-3c17-46cd-9620-0b68f4684df5",
   "metadata": {},
   "outputs": [],
   "source": [
    "a='My percentage in exam was more than ' \n",
    "per = 90.44949494949494949499\n",
    "added_text_a=f'My percentage in exam was more than {per:.2f}' #.2f for 2 floot numeric value "
   ]
  },
  {
   "cell_type": "code",
   "execution_count": 76,
   "id": "00649e40-cda3-47b4-82c7-d35c6615de4d",
   "metadata": {},
   "outputs": [
    {
     "name": "stdout",
     "output_type": "stream",
     "text": [
      "My percentage in exam was more than 90.45\n"
     ]
    }
   ],
   "source": [
    "print(added_text_a)"
   ]
  },
  {
   "cell_type": "markdown",
   "id": "d6b3c4bb-0314-478e-a65f-2e740f596d23",
   "metadata": {},
   "source": [
    "## Escape Character"
   ]
  },
  {
   "cell_type": "code",
   "execution_count": 81,
   "id": "06fa4893-400d-4c40-bd52-6cd03ff9295d",
   "metadata": {},
   "outputs": [
    {
     "ename": "SyntaxError",
     "evalue": "unterminated string literal (detected at line 1) (1327526163.py, line 1)",
     "output_type": "error",
     "traceback": [
      "\u001b[1;36m  Cell \u001b[1;32mIn[81], line 1\u001b[1;36m\u001b[0m\n\u001b[1;33m    abc = 'She is Ram's mother'\u001b[0m\n\u001b[1;37m                              ^\u001b[0m\n\u001b[1;31mSyntaxError\u001b[0m\u001b[1;31m:\u001b[0m unterminated string literal (detected at line 1)\n"
     ]
    }
   ],
   "source": [
    "abc = 'She is Ram's mother'"
   ]
  },
  {
   "cell_type": "code",
   "execution_count": 83,
   "id": "01676441-0aa9-413a-8613-744da382a6d8",
   "metadata": {},
   "outputs": [],
   "source": [
    "abc = 'She is Ram\\'s mother'  #back slac for Ram's for same string text quotation terminated problem"
   ]
  },
  {
   "cell_type": "code",
   "execution_count": 85,
   "id": "5a084817-f59d-4465-b095-d76af8734a87",
   "metadata": {},
   "outputs": [
    {
     "name": "stdout",
     "output_type": "stream",
     "text": [
      "She is Ram's mother\n"
     ]
    }
   ],
   "source": [
    "print(abc)"
   ]
  },
  {
   "cell_type": "code",
   "execution_count": 99,
   "id": "7cd73a28-9c38-441e-9cd3-3f40b3e1b32b",
   "metadata": {},
   "outputs": [],
   "source": [
    "#Print in new sentence\n",
    "abc = 'She is Ram\\'s mother.\\nShe is my fevourate lady.' "
   ]
  },
  {
   "cell_type": "code",
   "execution_count": 101,
   "id": "57146f52-4076-4ef4-8fde-9e99884625d8",
   "metadata": {},
   "outputs": [
    {
     "name": "stdout",
     "output_type": "stream",
     "text": [
      "She is Ram's mother.\n",
      "She is my fevourate lady.\n"
     ]
    }
   ],
   "source": [
    "print (abc)"
   ]
  },
  {
   "cell_type": "markdown",
   "id": "8cb3e5a6-2c5b-401e-9176-b58e2bba3872",
   "metadata": {},
   "source": [
    "### Boolean value"
   ]
  },
  {
   "cell_type": "code",
   "execution_count": 126,
   "id": "9371f07c-a986-464e-957a-9eb576d87359",
   "metadata": {},
   "outputs": [
    {
     "name": "stdout",
     "output_type": "stream",
     "text": [
      "True\n"
     ]
    }
   ],
   "source": [
    "print(4<20)"
   ]
  },
  {
   "cell_type": "code",
   "execution_count": 128,
   "id": "983d0087-fb5d-4783-8735-71eeb6f0d6e9",
   "metadata": {},
   "outputs": [
    {
     "name": "stdout",
     "output_type": "stream",
     "text": [
      "False\n"
     ]
    }
   ],
   "source": [
    "print(4>20)"
   ]
  },
  {
   "cell_type": "markdown",
   "id": "5df40da0-07d9-47ab-a2a5-785dabb2a055",
   "metadata": {},
   "source": [
    "### Python Airthmatic Operator "
   ]
  },
  {
   "cell_type": "code",
   "execution_count": 182,
   "id": "23c99368-640c-42bf-8d4d-13a59f47a356",
   "metadata": {},
   "outputs": [],
   "source": [
    "a = 250\n",
    "b = 50"
   ]
  },
  {
   "cell_type": "code",
   "execution_count": 154,
   "id": "3fb43689-67db-4ab7-a835-7e7c6207f361",
   "metadata": {},
   "outputs": [
    {
     "data": {
      "text/plain": [
       "150"
      ]
     },
     "execution_count": 154,
     "metadata": {},
     "output_type": "execute_result"
    }
   ],
   "source": [
    "a+b"
   ]
  },
  {
   "cell_type": "code",
   "execution_count": 156,
   "id": "ef85988f-71ab-407f-9260-e1b8687e0890",
   "metadata": {},
   "outputs": [
    {
     "data": {
      "text/plain": [
       "50"
      ]
     },
     "execution_count": 156,
     "metadata": {},
     "output_type": "execute_result"
    }
   ],
   "source": [
    "a-b"
   ]
  },
  {
   "cell_type": "code",
   "execution_count": 158,
   "id": "ee713a77-23fd-4006-80f5-5d3e9131bd39",
   "metadata": {},
   "outputs": [
    {
     "data": {
      "text/plain": [
       "2.0"
      ]
     },
     "execution_count": 158,
     "metadata": {},
     "output_type": "execute_result"
    }
   ],
   "source": [
    "a/b"
   ]
  },
  {
   "cell_type": "code",
   "execution_count": 170,
   "id": "0dde72e6-4d04-4775-975a-de563c995eb6",
   "metadata": {},
   "outputs": [
    {
     "data": {
      "text/plain": [
       "0"
      ]
     },
     "execution_count": 170,
     "metadata": {},
     "output_type": "execute_result"
    }
   ],
   "source": [
    "#reminder\n",
    "a%b"
   ]
  },
  {
   "cell_type": "code",
   "execution_count": 174,
   "id": "0a65ac61-c5c7-470c-8f6e-0bc9a607c393",
   "metadata": {},
   "outputs": [
    {
     "data": {
      "text/plain": [
       "10000000000000000000000000000000000000000000000000000000000000000000000000000000000000000000000000000"
      ]
     },
     "execution_count": 174,
     "metadata": {},
     "output_type": "execute_result"
    }
   ],
   "source": [
    "#power a to the power b\n",
    "a**b"
   ]
  },
  {
   "cell_type": "code",
   "execution_count": 184,
   "id": "7f8bb398-68c0-47aa-9756-d49ef5ba8391",
   "metadata": {},
   "outputs": [
    {
     "data": {
      "text/plain": [
       "5"
      ]
     },
     "execution_count": 184,
     "metadata": {},
     "output_type": "execute_result"
    }
   ],
   "source": [
    "#possible intiger or for roundup value or near value \n",
    "a//b"
   ]
  },
  {
   "cell_type": "markdown",
   "id": "e5af84b3-3367-4e8b-823f-001dddef4c72",
   "metadata": {},
   "source": [
    "### Python Assignment Operator "
   ]
  },
  {
   "cell_type": "code",
   "execution_count": 203,
   "id": "9555966e-d9c6-4eba-a3e6-fb81125c0e05",
   "metadata": {},
   "outputs": [
    {
     "name": "stdout",
     "output_type": "stream",
     "text": [
      "15\n"
     ]
    }
   ],
   "source": [
    "a = 5\n",
    "m=a+10\n",
    "print(m)"
   ]
  },
  {
   "cell_type": "code",
   "execution_count": 205,
   "id": "b0c59fc0-d944-4eb5-a577-05268cb24942",
   "metadata": {},
   "outputs": [
    {
     "name": "stdout",
     "output_type": "stream",
     "text": [
      "15\n"
     ]
    }
   ],
   "source": [
    "#alternative\n",
    "a+=10\n",
    "print(a)"
   ]
  },
  {
   "cell_type": "markdown",
   "id": "cb1498a4-1567-4746-84e8-87838e5aeab3",
   "metadata": {},
   "source": [
    "### Comparison Operator "
   ]
  },
  {
   "cell_type": "code",
   "execution_count": 208,
   "id": "f900496f-0ebb-457d-b980-ff17b443070f",
   "metadata": {},
   "outputs": [
    {
     "name": "stdout",
     "output_type": "stream",
     "text": [
      "False\n"
     ]
    }
   ],
   "source": [
    "a = 50\n",
    "b = 60\n",
    "print(a==b)  #a=b or not "
   ]
  },
  {
   "cell_type": "code",
   "execution_count": 210,
   "id": "f25af0cd-f93e-4b30-bdf0-c46b59343918",
   "metadata": {},
   "outputs": [
    {
     "name": "stdout",
     "output_type": "stream",
     "text": [
      "True\n"
     ]
    }
   ],
   "source": [
    "print(a!=b) #a is not equal "
   ]
  },
  {
   "cell_type": "code",
   "execution_count": 212,
   "id": "642012ab-5416-4ba9-8c39-1c8ea4208b01",
   "metadata": {},
   "outputs": [
    {
     "name": "stdout",
     "output_type": "stream",
     "text": [
      "True\n",
      "False\n"
     ]
    }
   ],
   "source": [
    "print(a<b)\n",
    "print(a>b)"
   ]
  },
  {
   "cell_type": "markdown",
   "id": "fedab66c-f866-4586-97c8-bd4d22dcebb3",
   "metadata": {},
   "source": [
    "### Python Logical Operator "
   ]
  },
  {
   "cell_type": "code",
   "execution_count": 215,
   "id": "cf63c8ed-cd8c-4de4-b12b-af22930eff0f",
   "metadata": {},
   "outputs": [
    {
     "name": "stdout",
     "output_type": "stream",
     "text": [
      "False\n"
     ]
    }
   ],
   "source": [
    "z=20\n",
    "print(z<10 and z>8)  # and for both true "
   ]
  },
  {
   "cell_type": "code",
   "execution_count": 219,
   "id": "331a4dd2-a6ab-4add-97db-6f2e42ecaf15",
   "metadata": {},
   "outputs": [
    {
     "name": "stdout",
     "output_type": "stream",
     "text": [
      "True\n"
     ]
    }
   ],
   "source": [
    "print(z<10 or z>8)  #for single true"
   ]
  },
  {
   "cell_type": "markdown",
   "id": "8a15f0e2-009c-4ae9-831c-2df9a99acbb0",
   "metadata": {},
   "source": [
    "## Aditional of Strings"
   ]
  },
  {
   "cell_type": "code",
   "execution_count": 6,
   "id": "179a7c1c-d716-4705-8e41-120e3840ef3b",
   "metadata": {},
   "outputs": [],
   "source": [
    "a = 'Ram'"
   ]
  },
  {
   "cell_type": "code",
   "execution_count": 10,
   "id": "6d7a62e4-8329-482b-bec5-39e4f5c27ce3",
   "metadata": {},
   "outputs": [
    {
     "name": "stdout",
     "output_type": "stream",
     "text": [
      "RamRam\n"
     ]
    }
   ],
   "source": [
    "b=a+a\n",
    "print(b)"
   ]
  },
  {
   "cell_type": "code",
   "execution_count": null,
   "id": "84d997af-1a82-4861-a336-1c9f820a2034",
   "metadata": {},
   "outputs": [],
   "source": []
  }
 ],
 "metadata": {
  "kernelspec": {
   "display_name": "Python 3 (ipykernel)",
   "language": "python",
   "name": "python3"
  },
  "language_info": {
   "codemirror_mode": {
    "name": "ipython",
    "version": 3
   },
   "file_extension": ".py",
   "mimetype": "text/x-python",
   "name": "python",
   "nbconvert_exporter": "python",
   "pygments_lexer": "ipython3",
   "version": "3.12.4"
  }
 },
 "nbformat": 4,
 "nbformat_minor": 5
}
