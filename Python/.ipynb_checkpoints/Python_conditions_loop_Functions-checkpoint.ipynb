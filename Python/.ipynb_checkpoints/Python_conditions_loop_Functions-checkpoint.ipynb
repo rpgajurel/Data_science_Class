{
 "cells": [
  {
   "cell_type": "markdown",
   "id": "56a10acd-e23b-42a2-bb8d-11e30f2a5b81",
   "metadata": {},
   "source": [
    "# Conditions"
   ]
  },
  {
   "cell_type": "code",
   "execution_count": 8,
   "id": "63bda0b8-8403-4f59-9f00-f378fe588772",
   "metadata": {},
   "outputs": [
    {
     "name": "stdout",
     "output_type": "stream",
     "text": [
      "Take Umbrella\n"
     ]
    }
   ],
   "source": [
    "rain = True\n",
    "if rain == True:\n",
    "    print('Take Umbrella')\n",
    "else:\n",
    "    print('No need to take umbrella')"
   ]
  },
  {
   "cell_type": "code",
   "execution_count": 10,
   "id": "e2c9a51d-8b93-436a-9c2d-ac9be6208db1",
   "metadata": {},
   "outputs": [
    {
     "name": "stdout",
     "output_type": "stream",
     "text": [
      "No need to take umbrella\n"
     ]
    }
   ],
   "source": [
    "rain = False\n",
    "if rain == True:\n",
    "    print('Take Umbrella')\n",
    "else:\n",
    "    print('No need to take umbrella')"
   ]
  },
  {
   "cell_type": "code",
   "execution_count": 14,
   "id": "93925d3a-e083-48b9-995c-f2b8cfbf6e3b",
   "metadata": {},
   "outputs": [
    {
     "name": "stdout",
     "output_type": "stream",
     "text": [
      "Grade B\n"
     ]
    }
   ],
   "source": [
    "Marks=70\n",
    "if Marks > 90:\n",
    "    print('Grade A')\n",
    "else:\n",
    "    print('Grade B')"
   ]
  },
  {
   "cell_type": "code",
   "execution_count": 16,
   "id": "ba8ab7e9-95b6-4329-8fb6-f86d42d674cc",
   "metadata": {},
   "outputs": [
    {
     "name": "stdout",
     "output_type": "stream",
     "text": [
      "Grade A\n"
     ]
    }
   ],
   "source": [
    "Marks=96\n",
    "if Marks > 90:\n",
    "    print('Grade A')\n",
    "else:\n",
    "    print('Grade B')"
   ]
  },
  {
   "cell_type": "code",
   "execution_count": 20,
   "id": "498e7150-17c5-4cd3-9b35-3d333c2f662f",
   "metadata": {},
   "outputs": [
    {
     "name": "stdout",
     "output_type": "stream",
     "text": [
      "you are selected\n"
     ]
    }
   ],
   "source": [
    "Marks = 91\n",
    "if Marks>90:\n",
    "    print('you are selected')"
   ]
  },
  {
   "cell_type": "code",
   "execution_count": 24,
   "id": "2d11d98c-ea28-4c2e-a6f1-3ebc1a284e2e",
   "metadata": {},
   "outputs": [
    {
     "name": "stdout",
     "output_type": "stream",
     "text": [
      "Grade C\n"
     ]
    }
   ],
   "source": [
    "#else + if = elif and change the value of marks from students and print the values \n",
    "Marks=70\n",
    "if Marks > 90:\n",
    "    print('Grade A')\n",
    "elif Marks>80:\n",
    "    print('Grade B')\n",
    "elif Marks>60:\n",
    "    print('Grade C')\n",
    "elif Marks>40:\n",
    "    print('Grade D')\n",
    "else:\n",
    "    print('Non Graded')"
   ]
  },
  {
   "cell_type": "code",
   "execution_count": 28,
   "id": "5f18286a-a8e2-40df-9a3f-6fc09c959997",
   "metadata": {},
   "outputs": [
    {
     "name": "stdin",
     "output_type": "stream",
     "text": [
      "Enter your mark of the subject 40\n"
     ]
    },
    {
     "ename": "TypeError",
     "evalue": "'>' not supported between instances of 'str' and 'int'",
     "output_type": "error",
     "traceback": [
      "\u001b[1;31m---------------------------------------------------------------------------\u001b[0m",
      "\u001b[1;31mTypeError\u001b[0m                                 Traceback (most recent call last)",
      "Cell \u001b[1;32mIn[28], line 2\u001b[0m\n\u001b[0;32m      1\u001b[0m Marks\u001b[38;5;241m=\u001b[39m\u001b[38;5;28minput\u001b[39m(\u001b[38;5;124m'\u001b[39m\u001b[38;5;124mEnter your mark of the subject\u001b[39m\u001b[38;5;124m'\u001b[39m)\n\u001b[1;32m----> 2\u001b[0m \u001b[38;5;28;01mif\u001b[39;00m Marks \u001b[38;5;241m>\u001b[39m \u001b[38;5;241m90\u001b[39m:\n\u001b[0;32m      3\u001b[0m     \u001b[38;5;28mprint\u001b[39m(\u001b[38;5;124m'\u001b[39m\u001b[38;5;124mGrade A\u001b[39m\u001b[38;5;124m'\u001b[39m)\n\u001b[0;32m      4\u001b[0m \u001b[38;5;28;01melif\u001b[39;00m Marks\u001b[38;5;241m>\u001b[39m\u001b[38;5;241m80\u001b[39m:\n",
      "\u001b[1;31mTypeError\u001b[0m: '>' not supported between instances of 'str' and 'int'"
     ]
    }
   ],
   "source": [
    "#it looks like an application: Here input is in string so we should convert to integer\n",
    "Marks=input('Enter your mark of the subject')\n",
    "if Marks > 90:\n",
    "    print('Grade A')\n",
    "elif Marks>80:\n",
    "    print('Grade B')\n",
    "elif Marks>60:\n",
    "    print('Grade C')\n",
    "elif Marks>40:\n",
    "    print('Grade D')\n",
    "else:\n",
    "    print('Non Graded')"
   ]
  },
  {
   "cell_type": "code",
   "execution_count": 30,
   "id": "39c679fd-8c9f-4c54-b6d5-db040f8f53f6",
   "metadata": {},
   "outputs": [
    {
     "data": {
      "text/plain": [
       "str"
      ]
     },
     "execution_count": 30,
     "metadata": {},
     "output_type": "execute_result"
    }
   ],
   "source": [
    "type(Marks)"
   ]
  },
  {
   "cell_type": "code",
   "execution_count": 34,
   "id": "2e49a9e8-0724-49b4-bdad-b11354fcabc3",
   "metadata": {},
   "outputs": [
    {
     "name": "stdin",
     "output_type": "stream",
     "text": [
      "Enter your mark of the subject 90\n"
     ]
    },
    {
     "name": "stdout",
     "output_type": "stream",
     "text": [
      "Grade B\n"
     ]
    }
   ],
   "source": [
    "Marks=int(input('Enter your mark of the subject'))\n",
    "if Marks > 90:\n",
    "    print('Grade A')\n",
    "elif Marks>80:\n",
    "    print('Grade B')\n",
    "elif Marks>60:\n",
    "    print('Grade C')\n",
    "elif Marks>40:\n",
    "    print('Grade D')\n",
    "else:\n",
    "    print('Non Graded')"
   ]
  },
  {
   "cell_type": "markdown",
   "id": "28d1e07c-1547-4220-b1f2-48ccd78fda08",
   "metadata": {},
   "source": [
    "### Simple Calculator program \n"
   ]
  },
  {
   "cell_type": "code",
   "execution_count": 1,
   "id": "2fab1b3b-eea2-4929-88c6-a14fa8f02eeb",
   "metadata": {},
   "outputs": [
    {
     "name": "stdin",
     "output_type": "stream",
     "text": [
      "Enter your choice:\n",
      "h 1\n"
     ]
    }
   ],
   "source": [
    "a_user=input('Enter your choice:\\nh')  #\\n for new line"
   ]
  },
  {
   "cell_type": "code",
   "execution_count": null,
   "id": "811d6ca0-3e81-408c-822c-c59bc8d57016",
   "metadata": {},
   "outputs": [],
   "source": [
    "a_user=input('Enter your choice :\\nAdd or + \\nSubtract or -\\nMultiply or *\\nDivide or /\\n\\n').lower()\n",
    "a=int(input('Input your First Number: '))\n",
    "b=int(input('Input your Second Number: '))\n",
    "if a_user=='Divide' or a_user=='/' or a_user=='D':\n",
    "    result=a/b\n",
    "    print(result)\n",
    "elif a_user=='add' or a_user=='+' or a_user=='A':\n",
    "    result=a+b\n",
    "    print(result)\n",
    "elif a_user=='subtract' or a_user=='-' or a_user=='S':\n",
    "    result=a-b\n",
    "    \n",
    "    print(result)\n",
    "elif a_user=='multiply' or a_user=='*' or a_user=='M':\n",
    "    result=a*b\n",
    "    print(result)\n",
    "else:\n",
    "    print('Wrong Operation , Please try again')"
   ]
  },
  {
   "cell_type": "code",
   "execution_count": null,
   "id": "c49f1a03-818a-475f-96c2-c3409ebad14f",
   "metadata": {},
   "outputs": [],
   "source": []
  }
 ],
 "metadata": {
  "kernelspec": {
   "display_name": "Python 3 (ipykernel)",
   "language": "python",
   "name": "python3"
  },
  "language_info": {
   "codemirror_mode": {
    "name": "ipython",
    "version": 3
   },
   "file_extension": ".py",
   "mimetype": "text/x-python",
   "name": "python",
   "nbconvert_exporter": "python",
   "pygments_lexer": "ipython3",
   "version": "3.12.4"
  }
 },
 "nbformat": 4,
 "nbformat_minor": 5
}
