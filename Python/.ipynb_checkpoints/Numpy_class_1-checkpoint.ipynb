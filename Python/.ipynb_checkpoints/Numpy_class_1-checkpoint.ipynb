{
 "cells": [
  {
   "cell_type": "markdown",
   "id": "e351aab3-e8af-4130-b9e5-983020c49db7",
   "metadata": {},
   "source": [
    "# Numrical Analysis "
   ]
  },
  {
   "cell_type": "code",
   "execution_count": 4,
   "id": "05fb0720-ba6a-4123-860a-4cff5fc331f6",
   "metadata": {},
   "outputs": [],
   "source": [
    "#import numphy as np\n",
    "import numpy as np"
   ]
  },
  {
   "cell_type": "code",
   "execution_count": 20,
   "id": "6ef3c693-e7e8-4742-b9e9-85ebd4401be4",
   "metadata": {},
   "outputs": [],
   "source": [
    "#large bracket for list and can use tupple () for list too\n",
    "arr = np.array([34,45,67,89])\n",
    "rp=np.array((4, 6, 7, 3))"
   ]
  },
  {
   "cell_type": "code",
   "execution_count": 10,
   "id": "b0eefd44-2533-493f-a39f-e7a84eb8f50e",
   "metadata": {},
   "outputs": [
    {
     "name": "stdout",
     "output_type": "stream",
     "text": [
      "[34 45 67 89]\n"
     ]
    }
   ],
   "source": [
    "print (arr)"
   ]
  },
  {
   "cell_type": "code",
   "execution_count": 24,
   "id": "bac79675-8d93-4214-9519-7fe3c5c04a36",
   "metadata": {},
   "outputs": [
    {
     "name": "stdout",
     "output_type": "stream",
     "text": [
      "[4 6 7 3]\n"
     ]
    }
   ],
   "source": [
    "print (rp)"
   ]
  },
  {
   "cell_type": "code",
   "execution_count": 18,
   "id": "8f2e5c9a-e8a3-4d46-a408-bc2617220512",
   "metadata": {},
   "outputs": [
    {
     "data": {
      "text/plain": [
       "'1.26.4'"
      ]
     },
     "execution_count": 18,
     "metadata": {},
     "output_type": "execute_result"
    }
   ],
   "source": [
    "#numpy version check use 2 underscore sign \n",
    "np.__version__"
   ]
  },
  {
   "cell_type": "code",
   "execution_count": 26,
   "id": "2e275bb1-2967-4601-ad04-16461bde58f1",
   "metadata": {},
   "outputs": [
    {
     "data": {
      "text/plain": [
       "20"
      ]
     },
     "execution_count": 26,
     "metadata": {},
     "output_type": "execute_result"
    }
   ],
   "source": [
    "rp.sum()"
   ]
  },
  {
   "cell_type": "code",
   "execution_count": 28,
   "id": "8aab3001-6ebf-4ef9-b451-ad4d25941065",
   "metadata": {},
   "outputs": [
    {
     "data": {
      "text/plain": [
       "235"
      ]
     },
     "execution_count": 28,
     "metadata": {},
     "output_type": "execute_result"
    }
   ],
   "source": [
    "arr.sum()"
   ]
  },
  {
   "cell_type": "markdown",
   "id": "4dec2cf1-a8f8-44f2-8113-52690bfc4742",
   "metadata": {},
   "source": [
    "## Dimensions in numpy array"
   ]
  },
  {
   "cell_type": "code",
   "execution_count": 59,
   "id": "faacb721-7b6a-4ce1-be7f-aecb34f2ac76",
   "metadata": {},
   "outputs": [],
   "source": [
    "#dimension divides by bracket, it can be used for matrix\n",
    "a=np.array(45)\n",
    "b = np.array((45,65))\n",
    "c=np.array(((45,60), (78, 90)))\n",
    "d=np.array((((45,60), (78,90)), ((40, 40), (80,80))))"
   ]
  },
  {
   "cell_type": "code",
   "execution_count": 43,
   "id": "7086da72-4696-463c-bb06-9ce7bf794034",
   "metadata": {},
   "outputs": [
    {
     "data": {
      "text/plain": [
       "0"
      ]
     },
     "execution_count": 43,
     "metadata": {},
     "output_type": "execute_result"
    }
   ],
   "source": [
    "a.ndim"
   ]
  },
  {
   "cell_type": "code",
   "execution_count": 45,
   "id": "3a67e222-e3e5-41d0-a3b9-a6e8b4447288",
   "metadata": {},
   "outputs": [
    {
     "data": {
      "text/plain": [
       "1"
      ]
     },
     "execution_count": 45,
     "metadata": {},
     "output_type": "execute_result"
    }
   ],
   "source": [
    "b.ndim"
   ]
  },
  {
   "cell_type": "code",
   "execution_count": 47,
   "id": "64bab7a0-778b-4036-bac2-e830b09d1093",
   "metadata": {},
   "outputs": [
    {
     "data": {
      "text/plain": [
       "2"
      ]
     },
     "execution_count": 47,
     "metadata": {},
     "output_type": "execute_result"
    }
   ],
   "source": [
    "c.ndim"
   ]
  },
  {
   "cell_type": "code",
   "execution_count": 49,
   "id": "237623dd-7ddb-45dc-bce1-7cc9852fcd31",
   "metadata": {},
   "outputs": [
    {
     "data": {
      "text/plain": [
       "3"
      ]
     },
     "execution_count": 49,
     "metadata": {},
     "output_type": "execute_result"
    }
   ],
   "source": [
    "d.ndim"
   ]
  },
  {
   "cell_type": "code",
   "execution_count": 51,
   "id": "19cd61bf-239b-4ae7-897b-2100e01ad275",
   "metadata": {},
   "outputs": [
    {
     "name": "stdout",
     "output_type": "stream",
     "text": [
      "45\n"
     ]
    }
   ],
   "source": [
    "print(a)"
   ]
  },
  {
   "cell_type": "code",
   "execution_count": 53,
   "id": "5b8c1473-de1f-4384-8997-37861d4a542d",
   "metadata": {},
   "outputs": [
    {
     "name": "stdout",
     "output_type": "stream",
     "text": [
      "[45 65]\n"
     ]
    }
   ],
   "source": [
    "print (b)"
   ]
  },
  {
   "cell_type": "code",
   "execution_count": 55,
   "id": "dd6309fd-0357-46df-a5e9-827d0c9aac42",
   "metadata": {},
   "outputs": [
    {
     "name": "stdout",
     "output_type": "stream",
     "text": [
      "[[45 60]\n",
      " [78 90]]\n"
     ]
    }
   ],
   "source": [
    "print(c)"
   ]
  },
  {
   "cell_type": "code",
   "execution_count": 57,
   "id": "881bfe98-18a4-4cb1-808e-0f59d19d06e1",
   "metadata": {},
   "outputs": [
    {
     "name": "stdout",
     "output_type": "stream",
     "text": [
      "[[[45 60]\n",
      "  [78 90]]\n",
      "\n",
      " [[40 40]\n",
      "  [80 80]]]\n"
     ]
    }
   ],
   "source": [
    "print (d)"
   ]
  },
  {
   "cell_type": "code",
   "execution_count": 63,
   "id": "3292b0f0-6b55-4b08-8674-ce848d2e3a69",
   "metadata": {},
   "outputs": [],
   "source": [
    "#change the dimensions \n",
    "#dimension divides by bracket, it can be used for matrix\n",
    "a=np.array(45)\n",
    "b = np.array((45,65), ndmin = 7)\n",
    "c=np.array(((45,60), (78, 90)), ndmin =5)\n",
    "d=np.array((((45,60), (78,90)), ((40, 40), (80,80))))"
   ]
  },
  {
   "cell_type": "code",
   "execution_count": 65,
   "id": "f45b7a99-323d-4155-bd28-7bf4af8d4105",
   "metadata": {},
   "outputs": [
    {
     "name": "stdout",
     "output_type": "stream",
     "text": [
      "[[[[[[[45 65]]]]]]]\n"
     ]
    }
   ],
   "source": [
    "print (b)"
   ]
  },
  {
   "cell_type": "code",
   "execution_count": 67,
   "id": "befba5ef-5d99-4f81-bea8-db07371dc73b",
   "metadata": {},
   "outputs": [
    {
     "name": "stdout",
     "output_type": "stream",
     "text": [
      "[[[[[45 60]\n",
      "    [78 90]]]]]\n"
     ]
    }
   ],
   "source": [
    "print (c)"
   ]
  },
  {
   "cell_type": "code",
   "execution_count": 69,
   "id": "4f35dcd2-7738-4496-8cd2-67b85ab26761",
   "metadata": {},
   "outputs": [
    {
     "data": {
      "text/plain": [
       "5"
      ]
     },
     "execution_count": 69,
     "metadata": {},
     "output_type": "execute_result"
    }
   ],
   "source": [
    "c.ndim"
   ]
  },
  {
   "cell_type": "code",
   "execution_count": null,
   "id": "1c239f87-15ba-4736-8f91-3216d56a6982",
   "metadata": {},
   "outputs": [],
   "source": []
  }
 ],
 "metadata": {
  "kernelspec": {
   "display_name": "Python 3 (ipykernel)",
   "language": "python",
   "name": "python3"
  },
  "language_info": {
   "codemirror_mode": {
    "name": "ipython",
    "version": 3
   },
   "file_extension": ".py",
   "mimetype": "text/x-python",
   "name": "python",
   "nbconvert_exporter": "python",
   "pygments_lexer": "ipython3",
   "version": "3.12.4"
  }
 },
 "nbformat": 4,
 "nbformat_minor": 5
}
