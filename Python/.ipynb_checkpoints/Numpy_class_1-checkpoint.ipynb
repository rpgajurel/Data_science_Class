{
 "cells": [
  {
   "cell_type": "markdown",
   "id": "e351aab3-e8af-4130-b9e5-983020c49db7",
   "metadata": {},
   "source": [
    "# Numrical Analysis "
   ]
  },
  {
   "cell_type": "code",
   "execution_count": 6,
   "id": "05fb0720-ba6a-4123-860a-4cff5fc331f6",
   "metadata": {},
   "outputs": [],
   "source": [
    "#import numphy as np\n",
    "import numpy as np"
   ]
  },
  {
   "cell_type": "code",
   "execution_count": 20,
   "id": "6ef3c693-e7e8-4742-b9e9-85ebd4401be4",
   "metadata": {},
   "outputs": [],
   "source": [
    "#large bracket for list and can use tupple () for list too\n",
    "arr = np.array([34,45,67,89])\n",
    "rp=np.array((4, 6, 7, 3))"
   ]
  },
  {
   "cell_type": "code",
   "execution_count": 10,
   "id": "b0eefd44-2533-493f-a39f-e7a84eb8f50e",
   "metadata": {},
   "outputs": [
    {
     "name": "stdout",
     "output_type": "stream",
     "text": [
      "[34 45 67 89]\n"
     ]
    }
   ],
   "source": [
    "print (arr)"
   ]
  },
  {
   "cell_type": "code",
   "execution_count": 24,
   "id": "bac79675-8d93-4214-9519-7fe3c5c04a36",
   "metadata": {},
   "outputs": [
    {
     "name": "stdout",
     "output_type": "stream",
     "text": [
      "[4 6 7 3]\n"
     ]
    }
   ],
   "source": [
    "print (rp)"
   ]
  },
  {
   "cell_type": "code",
   "execution_count": 18,
   "id": "8f2e5c9a-e8a3-4d46-a408-bc2617220512",
   "metadata": {},
   "outputs": [
    {
     "data": {
      "text/plain": [
       "'1.26.4'"
      ]
     },
     "execution_count": 18,
     "metadata": {},
     "output_type": "execute_result"
    }
   ],
   "source": [
    "#numpy version check use 2 underscore sign \n",
    "np.__version__"
   ]
  },
  {
   "cell_type": "code",
   "execution_count": 26,
   "id": "2e275bb1-2967-4601-ad04-16461bde58f1",
   "metadata": {},
   "outputs": [
    {
     "data": {
      "text/plain": [
       "20"
      ]
     },
     "execution_count": 26,
     "metadata": {},
     "output_type": "execute_result"
    }
   ],
   "source": [
    "rp.sum()"
   ]
  },
  {
   "cell_type": "code",
   "execution_count": 28,
   "id": "8aab3001-6ebf-4ef9-b451-ad4d25941065",
   "metadata": {},
   "outputs": [
    {
     "data": {
      "text/plain": [
       "235"
      ]
     },
     "execution_count": 28,
     "metadata": {},
     "output_type": "execute_result"
    }
   ],
   "source": [
    "arr.sum()"
   ]
  },
  {
   "cell_type": "markdown",
   "id": "4dec2cf1-a8f8-44f2-8113-52690bfc4742",
   "metadata": {},
   "source": [
    "## Dimensions in numpy array"
   ]
  },
  {
   "cell_type": "code",
   "execution_count": 59,
   "id": "faacb721-7b6a-4ce1-be7f-aecb34f2ac76",
   "metadata": {},
   "outputs": [],
   "source": [
    "#dimension divides by bracket, it can be used for matrix\n",
    "a=np.array(45)\n",
    "b = np.array((45,65))\n",
    "c=np.array(((45,60), (78, 90)))\n",
    "d=np.array((((45,60), (78,90)), ((40, 40), (80,80))))"
   ]
  },
  {
   "cell_type": "code",
   "execution_count": 43,
   "id": "7086da72-4696-463c-bb06-9ce7bf794034",
   "metadata": {},
   "outputs": [
    {
     "data": {
      "text/plain": [
       "0"
      ]
     },
     "execution_count": 43,
     "metadata": {},
     "output_type": "execute_result"
    }
   ],
   "source": [
    "a.ndim"
   ]
  },
  {
   "cell_type": "code",
   "execution_count": 45,
   "id": "3a67e222-e3e5-41d0-a3b9-a6e8b4447288",
   "metadata": {},
   "outputs": [
    {
     "data": {
      "text/plain": [
       "1"
      ]
     },
     "execution_count": 45,
     "metadata": {},
     "output_type": "execute_result"
    }
   ],
   "source": [
    "b.ndim"
   ]
  },
  {
   "cell_type": "code",
   "execution_count": 47,
   "id": "64bab7a0-778b-4036-bac2-e830b09d1093",
   "metadata": {},
   "outputs": [
    {
     "data": {
      "text/plain": [
       "2"
      ]
     },
     "execution_count": 47,
     "metadata": {},
     "output_type": "execute_result"
    }
   ],
   "source": [
    "c.ndim"
   ]
  },
  {
   "cell_type": "code",
   "execution_count": 49,
   "id": "237623dd-7ddb-45dc-bce1-7cc9852fcd31",
   "metadata": {},
   "outputs": [
    {
     "data": {
      "text/plain": [
       "3"
      ]
     },
     "execution_count": 49,
     "metadata": {},
     "output_type": "execute_result"
    }
   ],
   "source": [
    "d.ndim"
   ]
  },
  {
   "cell_type": "code",
   "execution_count": 51,
   "id": "19cd61bf-239b-4ae7-897b-2100e01ad275",
   "metadata": {},
   "outputs": [
    {
     "name": "stdout",
     "output_type": "stream",
     "text": [
      "45\n"
     ]
    }
   ],
   "source": [
    "print(a)"
   ]
  },
  {
   "cell_type": "code",
   "execution_count": 53,
   "id": "5b8c1473-de1f-4384-8997-37861d4a542d",
   "metadata": {},
   "outputs": [
    {
     "name": "stdout",
     "output_type": "stream",
     "text": [
      "[45 65]\n"
     ]
    }
   ],
   "source": [
    "print (b)"
   ]
  },
  {
   "cell_type": "code",
   "execution_count": 55,
   "id": "dd6309fd-0357-46df-a5e9-827d0c9aac42",
   "metadata": {},
   "outputs": [
    {
     "name": "stdout",
     "output_type": "stream",
     "text": [
      "[[45 60]\n",
      " [78 90]]\n"
     ]
    }
   ],
   "source": [
    "print(c)"
   ]
  },
  {
   "cell_type": "code",
   "execution_count": 57,
   "id": "881bfe98-18a4-4cb1-808e-0f59d19d06e1",
   "metadata": {},
   "outputs": [
    {
     "name": "stdout",
     "output_type": "stream",
     "text": [
      "[[[45 60]\n",
      "  [78 90]]\n",
      "\n",
      " [[40 40]\n",
      "  [80 80]]]\n"
     ]
    }
   ],
   "source": [
    "print (d)"
   ]
  },
  {
   "cell_type": "code",
   "execution_count": 63,
   "id": "3292b0f0-6b55-4b08-8674-ce848d2e3a69",
   "metadata": {},
   "outputs": [],
   "source": [
    "#change the dimensions \n",
    "#dimension divides by bracket, it can be used for matrix\n",
    "a=np.array(45)\n",
    "b = np.array((45,65), ndmin = 7)\n",
    "c=np.array(((45,60), (78, 90)), ndmin =5)\n",
    "d=np.array((((45,60), (78,90)), ((40, 40), (80,80))))"
   ]
  },
  {
   "cell_type": "code",
   "execution_count": 65,
   "id": "f45b7a99-323d-4155-bd28-7bf4af8d4105",
   "metadata": {},
   "outputs": [
    {
     "name": "stdout",
     "output_type": "stream",
     "text": [
      "[[[[[[[45 65]]]]]]]\n"
     ]
    }
   ],
   "source": [
    "print (b)"
   ]
  },
  {
   "cell_type": "code",
   "execution_count": 67,
   "id": "befba5ef-5d99-4f81-bea8-db07371dc73b",
   "metadata": {},
   "outputs": [
    {
     "name": "stdout",
     "output_type": "stream",
     "text": [
      "[[[[[45 60]\n",
      "    [78 90]]]]]\n"
     ]
    }
   ],
   "source": [
    "print (c)"
   ]
  },
  {
   "cell_type": "code",
   "execution_count": 69,
   "id": "4f35dcd2-7738-4496-8cd2-67b85ab26761",
   "metadata": {},
   "outputs": [
    {
     "data": {
      "text/plain": [
       "5"
      ]
     },
     "execution_count": 69,
     "metadata": {},
     "output_type": "execute_result"
    }
   ],
   "source": [
    "c.ndim"
   ]
  },
  {
   "cell_type": "markdown",
   "id": "a9f891a7-84d0-49ef-961f-b1f056216754",
   "metadata": {},
   "source": [
    "### Array indexing in Numpy"
   ]
  },
  {
   "cell_type": "code",
   "execution_count": 8,
   "id": "dcd66dfc-5ed6-4780-9df3-b3716bbcd05d",
   "metadata": {},
   "outputs": [],
   "source": [
    "#dimension divides by bracket, it can be used for matrix\n",
    "import numpy as np\n",
    "a=np.array(45)\n",
    "b = np.array((45,65))\n",
    "c=np.array(((45,60), (78, 90)))\n",
    "d=np.array((((45,60), (78,90)), ((40, 40), (80,80))))"
   ]
  },
  {
   "cell_type": "code",
   "execution_count": 10,
   "id": "214f0f3a-1121-4c34-b04d-430cd7a4cc93",
   "metadata": {},
   "outputs": [
    {
     "data": {
      "text/plain": [
       "array([[40, 40],\n",
       "       [80, 80]])"
      ]
     },
     "execution_count": 10,
     "metadata": {},
     "output_type": "execute_result"
    }
   ],
   "source": [
    "d[1]"
   ]
  },
  {
   "cell_type": "code",
   "execution_count": 12,
   "id": "aa87b960-47a6-4079-9327-fe3089824285",
   "metadata": {},
   "outputs": [
    {
     "data": {
      "text/plain": [
       "array([78, 90])"
      ]
     },
     "execution_count": 12,
     "metadata": {},
     "output_type": "execute_result"
    }
   ],
   "source": [
    "d [0] [1]"
   ]
  },
  {
   "cell_type": "code",
   "execution_count": 16,
   "id": "e8aa6387-e591-407b-96ba-f789a91692f5",
   "metadata": {},
   "outputs": [
    {
     "data": {
      "text/plain": [
       "80"
      ]
     },
     "execution_count": 16,
     "metadata": {},
     "output_type": "execute_result"
    }
   ],
   "source": [
    "d[1] [1] [1]"
   ]
  },
  {
   "cell_type": "code",
   "execution_count": 32,
   "id": "cf9b156a-6af7-4273-b5fd-616887e224c5",
   "metadata": {},
   "outputs": [],
   "source": [
    "p = np.array([43, 56, 81, 90, 102, 40])"
   ]
  },
  {
   "cell_type": "code",
   "execution_count": 34,
   "id": "fc2a0b66-7fd5-4d38-8c6d-0ee5f8d05e7c",
   "metadata": {},
   "outputs": [
    {
     "data": {
      "text/plain": [
       "43"
      ]
     },
     "execution_count": 34,
     "metadata": {},
     "output_type": "execute_result"
    }
   ],
   "source": [
    "p[0]"
   ]
  },
  {
   "cell_type": "code",
   "execution_count": 36,
   "id": "6bb0b5e0-e657-4de3-816f-be4464626103",
   "metadata": {},
   "outputs": [
    {
     "data": {
      "text/plain": [
       "40"
      ]
     },
     "execution_count": 36,
     "metadata": {},
     "output_type": "execute_result"
    }
   ],
   "source": [
    "p[5]"
   ]
  },
  {
   "cell_type": "code",
   "execution_count": 24,
   "id": "5291b113-f906-49ad-b891-40c957e4450e",
   "metadata": {},
   "outputs": [],
   "source": [
    "z = np.array(([43, 56, 81, 90, 102, 40], [41, 54, 80, 99, 98, 97]))"
   ]
  },
  {
   "cell_type": "code",
   "execution_count": 26,
   "id": "5a74fae3-6692-4812-ae6c-5f11ca7d7c78",
   "metadata": {},
   "outputs": [
    {
     "data": {
      "text/plain": [
       "array([41, 54, 80, 99, 98, 97])"
      ]
     },
     "execution_count": 26,
     "metadata": {},
     "output_type": "execute_result"
    }
   ],
   "source": [
    "z[1]"
   ]
  },
  {
   "cell_type": "code",
   "execution_count": 28,
   "id": "17748ab5-dddb-4569-a39e-d38fd706b3d5",
   "metadata": {},
   "outputs": [
    {
     "data": {
      "text/plain": [
       "80"
      ]
     },
     "execution_count": 28,
     "metadata": {},
     "output_type": "execute_result"
    }
   ],
   "source": [
    "z[1] [2]"
   ]
  },
  {
   "cell_type": "code",
   "execution_count": 38,
   "id": "521eb889-f4e0-46b5-aa37-44042b6184ec",
   "metadata": {},
   "outputs": [
    {
     "data": {
      "text/plain": [
       "array([56, 81])"
      ]
     },
     "execution_count": 38,
     "metadata": {},
     "output_type": "execute_result"
    }
   ],
   "source": [
    "z[0,1:3]"
   ]
  },
  {
   "cell_type": "code",
   "execution_count": 40,
   "id": "c12a172a-1d3d-4e0a-a2e1-5060ce75276a",
   "metadata": {},
   "outputs": [],
   "source": [
    "y = np.array([41, 54, 80, 99, 89, 67, 59, 43, 0])"
   ]
  },
  {
   "cell_type": "code",
   "execution_count": 42,
   "id": "4ebfad87-dd0f-4752-8cd0-85fa22710400",
   "metadata": {},
   "outputs": [
    {
     "data": {
      "text/plain": [
       "41"
      ]
     },
     "execution_count": 42,
     "metadata": {},
     "output_type": "execute_result"
    }
   ],
   "source": [
    "y[0]"
   ]
  },
  {
   "cell_type": "code",
   "execution_count": 44,
   "id": "3202adf2-2b60-4a89-9b2f-08b794bf14d8",
   "metadata": {},
   "outputs": [
    {
     "data": {
      "text/plain": [
       "67"
      ]
     },
     "execution_count": 44,
     "metadata": {},
     "output_type": "execute_result"
    }
   ],
   "source": [
    "y[5]\n"
   ]
  },
  {
   "cell_type": "code",
   "execution_count": 46,
   "id": "805c19a2-59c4-4de9-b33c-9dbe6477ff2e",
   "metadata": {},
   "outputs": [
    {
     "data": {
      "text/plain": [
       "array([54, 80, 99, 89])"
      ]
     },
     "execution_count": 46,
     "metadata": {},
     "output_type": "execute_result"
    }
   ],
   "source": [
    "y[1:5]"
   ]
  },
  {
   "cell_type": "code",
   "execution_count": 50,
   "id": "5a2da5b2-b900-4a32-a9d7-27cdc382e3eb",
   "metadata": {},
   "outputs": [
    {
     "data": {
      "text/plain": [
       "array([54, 89])"
      ]
     },
     "execution_count": 50,
     "metadata": {},
     "output_type": "execute_result"
    }
   ],
   "source": [
    "#skipping the elements\n",
    "y[1:6:3]"
   ]
  },
  {
   "cell_type": "markdown",
   "id": "34374fa6-5a33-49a1-955a-d5b3ed011b3a",
   "metadata": {},
   "source": [
    "#### Data types"
   ]
  },
  {
   "cell_type": "code",
   "execution_count": 53,
   "id": "052cfe7a-1281-4979-8cbf-1b45afacd528",
   "metadata": {},
   "outputs": [],
   "source": [
    "import numpy as np"
   ]
  },
  {
   "cell_type": "code",
   "execution_count": 55,
   "id": "5c42d31c-8017-4973-aecb-a52f8106f506",
   "metadata": {},
   "outputs": [],
   "source": [
    "y = np.array([41, 54, 80, 99, 89, 67, 59, 43, 0])"
   ]
  },
  {
   "cell_type": "code",
   "execution_count": 57,
   "id": "8b89af4c-1a41-4e78-800b-77b4e99ec12d",
   "metadata": {},
   "outputs": [
    {
     "data": {
      "text/plain": [
       "dtype('int32')"
      ]
     },
     "execution_count": 57,
     "metadata": {},
     "output_type": "execute_result"
    }
   ],
   "source": [
    "y.dtype"
   ]
  },
  {
   "cell_type": "code",
   "execution_count": 59,
   "id": "19546d5c-137e-4caa-892c-33814ae3ec76",
   "metadata": {},
   "outputs": [],
   "source": [
    "x=np.array([41.5, 56.3, 80, 90, 0.6])"
   ]
  },
  {
   "cell_type": "code",
   "execution_count": 61,
   "id": "bd98ac0a-1962-49d5-aade-0a90b990e718",
   "metadata": {},
   "outputs": [
    {
     "data": {
      "text/plain": [
       "dtype('float64')"
      ]
     },
     "execution_count": 61,
     "metadata": {},
     "output_type": "execute_result"
    }
   ],
   "source": [
    "x.dtype"
   ]
  },
  {
   "cell_type": "code",
   "execution_count": 67,
   "id": "593ce8fc-bd19-4b23-b867-bb98fe6c97a9",
   "metadata": {},
   "outputs": [],
   "source": [
    "#Complex number\n",
    "a = np.array([1+2j, 3+4j])\n",
    "b = np.array([5+6j, 7+8j])"
   ]
  },
  {
   "cell_type": "code",
   "execution_count": 65,
   "id": "48679e47-24c4-4b56-bd2c-36c6803cd7ce",
   "metadata": {},
   "outputs": [
    {
     "data": {
      "text/plain": [
       "dtype('complex128')"
      ]
     },
     "execution_count": 65,
     "metadata": {},
     "output_type": "execute_result"
    }
   ],
   "source": [
    "a.dtype\n"
   ]
  },
  {
   "cell_type": "code",
   "execution_count": 69,
   "id": "2dc5bcd6-f210-48a7-9ef2-391392c13d26",
   "metadata": {},
   "outputs": [
    {
     "data": {
      "text/plain": [
       "array([ 6. +8.j, 10.+12.j])"
      ]
     },
     "execution_count": 69,
     "metadata": {},
     "output_type": "execute_result"
    }
   ],
   "source": [
    "a+b"
   ]
  },
  {
   "cell_type": "code",
   "execution_count": 81,
   "id": "41d2c2cf-118e-4a68-864d-eae95a731dcb",
   "metadata": {},
   "outputs": [],
   "source": [
    "k = np.array([41, 54, 80, 99, 89, 67, 59, 43, 0], dtype = 'S')"
   ]
  },
  {
   "cell_type": "code",
   "execution_count": 83,
   "id": "7e6e7b3e-926a-41b7-983c-7bee06bc9816",
   "metadata": {},
   "outputs": [
    {
     "data": {
      "text/plain": [
       "dtype('S2')"
      ]
     },
     "execution_count": 83,
     "metadata": {},
     "output_type": "execute_result"
    }
   ],
   "source": [
    "#in S2, 2 is maximum lenths of string \n",
    "k.dtype"
   ]
  },
  {
   "cell_type": "code",
   "execution_count": 87,
   "id": "04da4e2e-aec8-495f-a2ca-3eeae22b3684",
   "metadata": {},
   "outputs": [
    {
     "name": "stdout",
     "output_type": "stream",
     "text": [
      "[b'41' b'54' b'80' b'99' b'89' b'67' b'59' b'43' b'0']\n"
     ]
    }
   ],
   "source": [
    "#b= bite form\n",
    "print(k)"
   ]
  },
  {
   "cell_type": "markdown",
   "id": "7e101a26-c726-4743-88e4-d8c63a3c0974",
   "metadata": {},
   "source": [
    "### Copy"
   ]
  },
  {
   "cell_type": "code",
   "execution_count": 122,
   "id": "9379a39f-ba78-4536-8916-63be3fd36b64",
   "metadata": {},
   "outputs": [],
   "source": [
    "x=np.array([41.5, 56.3, 80, 90, 0.6])\n",
    "y=x.copy()"
   ]
  },
  {
   "cell_type": "code",
   "execution_count": 94,
   "id": "64468777-aa0a-44ce-8cc2-21f782f3f14d",
   "metadata": {},
   "outputs": [
    {
     "name": "stdout",
     "output_type": "stream",
     "text": [
      "[41.5 56.3 80.  90.   0.6]\n"
     ]
    }
   ],
   "source": [
    "print (y)"
   ]
  },
  {
   "cell_type": "code",
   "execution_count": 96,
   "id": "0aebcc05-a5c7-4bd8-ae82-2a18e9acbfe6",
   "metadata": {},
   "outputs": [
    {
     "data": {
      "text/plain": [
       "0.6"
      ]
     },
     "execution_count": 96,
     "metadata": {},
     "output_type": "execute_result"
    }
   ],
   "source": [
    "y[4]"
   ]
  },
  {
   "cell_type": "code",
   "execution_count": 102,
   "id": "88118896-c9a4-4311-b6b6-fbf15070e09c",
   "metadata": {},
   "outputs": [],
   "source": [
    "#for element change\n",
    "y[4] = 20"
   ]
  },
  {
   "cell_type": "code",
   "execution_count": 100,
   "id": "b7dfab56-48d2-4852-9a45-26faa7f8d82c",
   "metadata": {},
   "outputs": [
    {
     "name": "stdout",
     "output_type": "stream",
     "text": [
      "[41.5 56.3 80.  90.   0.6]\n"
     ]
    }
   ],
   "source": [
    "#copy gareko original ma change hudaina\n",
    "print (x)"
   ]
  },
  {
   "cell_type": "code",
   "execution_count": 130,
   "id": "82ee5547-944b-4e98-adab-9d7d024c5e6a",
   "metadata": {},
   "outputs": [],
   "source": [
    "cd=x.view()"
   ]
  },
  {
   "cell_type": "code",
   "execution_count": 132,
   "id": "44493c07-2451-4e62-aee0-ad62c0479ced",
   "metadata": {},
   "outputs": [
    {
     "data": {
      "text/plain": [
       "array([41.5, 56.3, 80. , 90. ,  0.6])"
      ]
     },
     "execution_count": 132,
     "metadata": {},
     "output_type": "execute_result"
    }
   ],
   "source": [
    "cd"
   ]
  },
  {
   "cell_type": "code",
   "execution_count": 134,
   "id": "accd6c81-2bd8-4689-8f90-c3e901e71818",
   "metadata": {},
   "outputs": [],
   "source": [
    "cd[3] = 90999"
   ]
  },
  {
   "cell_type": "code",
   "execution_count": 136,
   "id": "c4021340-c450-4bdb-8fc7-e2d666c48c24",
   "metadata": {},
   "outputs": [
    {
     "data": {
      "text/plain": [
       "array([4.1500e+01, 5.6300e+01, 8.0000e+01, 9.0999e+04, 6.0000e-01])"
      ]
     },
     "execution_count": 136,
     "metadata": {},
     "output_type": "execute_result"
    }
   ],
   "source": [
    "x"
   ]
  },
  {
   "cell_type": "markdown",
   "id": "6aa4704f-ecd3-441c-aecd-371969633af5",
   "metadata": {},
   "source": [
    "## Shape"
   ]
  },
  {
   "cell_type": "code",
   "execution_count": 139,
   "id": "e765039f-f45f-4cfd-a358-4b64a1ad85fb",
   "metadata": {},
   "outputs": [
    {
     "data": {
      "text/plain": [
       "(5,)"
      ]
     },
     "execution_count": 139,
     "metadata": {},
     "output_type": "execute_result"
    }
   ],
   "source": [
    "#shape for dimension and element combine: used in matrix .. change 2*3 to 3*2\n",
    "x.shape"
   ]
  },
  {
   "cell_type": "code",
   "execution_count": 141,
   "id": "b64351b5-6c51-407d-a451-fac45bb95a47",
   "metadata": {},
   "outputs": [],
   "source": [
    "z = np.array(([43, 56, 81, 90, 102, 40], [41, 54, 80, 99, 98, 97]))"
   ]
  },
  {
   "cell_type": "code",
   "execution_count": 143,
   "id": "21ef5a02-85da-4f58-bf48-521b43a258f8",
   "metadata": {},
   "outputs": [
    {
     "data": {
      "text/plain": [
       "(2, 6)"
      ]
     },
     "execution_count": 143,
     "metadata": {},
     "output_type": "execute_result"
    }
   ],
   "source": [
    "z.shape"
   ]
  },
  {
   "cell_type": "code",
   "execution_count": 145,
   "id": "6e026a82-aa4b-4322-9a24-b9d96c9b8029",
   "metadata": {},
   "outputs": [
    {
     "name": "stdout",
     "output_type": "stream",
     "text": [
      "[[ 43  56  81  90 102  40]\n",
      " [ 41  54  80  99  98  97]]\n"
     ]
    }
   ],
   "source": [
    "print(z)"
   ]
  },
  {
   "cell_type": "code",
   "execution_count": 151,
   "id": "ec958869-c4d6-4b6c-9c8f-896e2bbdc15c",
   "metadata": {},
   "outputs": [],
   "source": [
    "d=np.array((((45,60), (78,90)), ((40, 40), (80,80))))"
   ]
  },
  {
   "cell_type": "code",
   "execution_count": 153,
   "id": "1e6640f5-89a0-4399-98cf-e0eb184397d6",
   "metadata": {},
   "outputs": [
    {
     "data": {
      "text/plain": [
       "3"
      ]
     },
     "execution_count": 153,
     "metadata": {},
     "output_type": "execute_result"
    }
   ],
   "source": [
    "d.ndim"
   ]
  },
  {
   "cell_type": "code",
   "execution_count": 155,
   "id": "d8ca2039-2c75-4a21-9a65-98486a8010d8",
   "metadata": {},
   "outputs": [
    {
     "data": {
      "text/plain": [
       "(2, 2, 2)"
      ]
     },
     "execution_count": 155,
     "metadata": {},
     "output_type": "execute_result"
    }
   ],
   "source": [
    "d.shape"
   ]
  },
  {
   "cell_type": "code",
   "execution_count": 159,
   "id": "b5468537-08bd-467f-9d9a-df6c21566c52",
   "metadata": {},
   "outputs": [
    {
     "data": {
      "text/plain": [
       "array([[ 43,  56,  81],\n",
       "       [ 90, 102,  40],\n",
       "       [ 41,  54,  80],\n",
       "       [ 99,  98,  97]])"
      ]
     },
     "execution_count": 159,
     "metadata": {},
     "output_type": "execute_result"
    }
   ],
   "source": [
    "#like change 2*6 to 4*4\n",
    "z.reshape(4,3)"
   ]
  },
  {
   "cell_type": "code",
   "execution_count": 161,
   "id": "59712cfa-50d7-465d-82db-cf727a78d4ee",
   "metadata": {},
   "outputs": [
    {
     "data": {
      "text/plain": [
       "array([[ 43,  56],\n",
       "       [ 81,  90],\n",
       "       [102,  40],\n",
       "       [ 41,  54],\n",
       "       [ 80,  99],\n",
       "       [ 98,  97]])"
      ]
     },
     "execution_count": 161,
     "metadata": {},
     "output_type": "execute_result"
    }
   ],
   "source": [
    "#like change 2*6 to 6*2\n",
    "z.reshape(6,2)"
   ]
  },
  {
   "cell_type": "markdown",
   "id": "f7973450-8d85-4e07-aba1-bfa9bc7d3ae1",
   "metadata": {},
   "source": [
    "## Array iteration"
   ]
  },
  {
   "cell_type": "code",
   "execution_count": 164,
   "id": "f074df76-5b04-42f6-9756-9d2275f2515a",
   "metadata": {},
   "outputs": [],
   "source": [
    "k = np.array([41, 54, 80, 99, 89, 67, 59, 43, 0])"
   ]
  },
  {
   "cell_type": "code",
   "execution_count": 166,
   "id": "7b4cdf6a-ceda-4d50-9b03-ad652b3eba0a",
   "metadata": {},
   "outputs": [
    {
     "name": "stdout",
     "output_type": "stream",
     "text": [
      "41\n",
      "54\n",
      "80\n",
      "99\n",
      "89\n",
      "67\n",
      "59\n",
      "43\n",
      "0\n"
     ]
    }
   ],
   "source": [
    "for i in k:\n",
    "    print(i)"
   ]
  },
  {
   "cell_type": "code",
   "execution_count": 168,
   "id": "b4f04259-64ca-40e2-8e5c-31338289f202",
   "metadata": {},
   "outputs": [
    {
     "name": "stdout",
     "output_type": "stream",
     "text": [
      "[[ 43  56  81  90 102  40]\n",
      " [ 41  54  80  99  98  97]]\n",
      "[[ 43  56  81  90 102  40]\n",
      " [ 41  54  80  99  98  97]]\n"
     ]
    }
   ],
   "source": [
    "for i in z:\n",
    "    print(z)"
   ]
  },
  {
   "cell_type": "code",
   "execution_count": 176,
   "id": "b0f0f948-9c9a-4bfa-a0c5-dcf0e2a072ce",
   "metadata": {},
   "outputs": [
    {
     "name": "stdout",
     "output_type": "stream",
     "text": [
      "43\n",
      "56\n",
      "81\n",
      "41\n",
      "54\n",
      "80\n",
      "43\n",
      "56\n",
      "81\n",
      "41\n",
      "54\n",
      "80\n"
     ]
    }
   ],
   "source": [
    "for i in z: \n",
    "    l=len(z)\n",
    "    for i in range(l):\n",
    "        for j in range(0,l+1):\n",
    "            print(z[i][j])"
   ]
  },
  {
   "cell_type": "code",
   "execution_count": 172,
   "id": "dab3b87f-718b-44e1-8533-3874e009e2ce",
   "metadata": {},
   "outputs": [
    {
     "name": "stdout",
     "output_type": "stream",
     "text": [
      "[[ 43  56  81  90 102  40]\n",
      " [ 41  54  80  99  98  97]]\n"
     ]
    }
   ],
   "source": [
    "print(z)"
   ]
  },
  {
   "cell_type": "markdown",
   "id": "389fd9d4-1241-433c-bf8c-aba2a74badbf",
   "metadata": {},
   "source": [
    "### Array join"
   ]
  },
  {
   "cell_type": "code",
   "execution_count": 181,
   "id": "44496b45-8fa0-4e60-a233-74722505642f",
   "metadata": {},
   "outputs": [
    {
     "data": {
      "text/plain": [
       "array([ 50,  72,  87, 165])"
      ]
     },
     "execution_count": 181,
     "metadata": {},
     "output_type": "execute_result"
    }
   ],
   "source": [
    "ad = np.array([45, 66, 78, 98])\n",
    "dc=np.array([5, 6, 9, 67])\n",
    "ad+dc   #for add"
   ]
  },
  {
   "cell_type": "code",
   "execution_count": 185,
   "id": "5a434c47-f079-4977-9bc6-ca50898f8d5e",
   "metadata": {},
   "outputs": [
    {
     "data": {
      "text/plain": [
       "array([45, 66, 78, 98,  5,  6,  9, 67])"
      ]
     },
     "execution_count": 185,
     "metadata": {},
     "output_type": "execute_result"
    }
   ],
   "source": [
    "#extend\n",
    "np.concatenate((ad,dc))"
   ]
  },
  {
   "cell_type": "code",
   "execution_count": 187,
   "id": "5c7fdd17-9f29-44d7-958c-101ab642d3de",
   "metadata": {},
   "outputs": [
    {
     "data": {
      "text/plain": [
       "array([[45, 66, 78, 98],\n",
       "       [ 5,  6,  9, 67]])"
      ]
     },
     "execution_count": 187,
     "metadata": {},
     "output_type": "execute_result"
    }
   ],
   "source": [
    "np.vstack((ad,dc))"
   ]
  },
  {
   "cell_type": "code",
   "execution_count": 189,
   "id": "563b80d7-5f41-403f-9a81-82b21a48fe87",
   "metadata": {},
   "outputs": [
    {
     "data": {
      "text/plain": [
       "array([[[45,  5],\n",
       "        [66,  6],\n",
       "        [78,  9],\n",
       "        [98, 67]]])"
      ]
     },
     "execution_count": 189,
     "metadata": {},
     "output_type": "execute_result"
    }
   ],
   "source": [
    "np.dstack((ad,dc))"
   ]
  },
  {
   "cell_type": "markdown",
   "id": "e02abedb-7e46-4fde-9eb1-2c9d00542e05",
   "metadata": {},
   "source": [
    "## Split"
   ]
  },
  {
   "cell_type": "code",
   "execution_count": 192,
   "id": "11d6dc61-6566-49f4-a43d-68a74eba4ae4",
   "metadata": {},
   "outputs": [
    {
     "data": {
      "text/plain": [
       "[array([45, 66]), array([78]), array([98])]"
      ]
     },
     "execution_count": 192,
     "metadata": {},
     "output_type": "execute_result"
    }
   ],
   "source": [
    "np.array_split(ad,3)"
   ]
  },
  {
   "cell_type": "code",
   "execution_count": 194,
   "id": "bf0df3f4-80cf-4ae8-a422-538310b18c9c",
   "metadata": {},
   "outputs": [
    {
     "data": {
      "text/plain": [
       "[array([45]), array([66]), array([78]), array([98])]"
      ]
     },
     "execution_count": 194,
     "metadata": {},
     "output_type": "execute_result"
    }
   ],
   "source": [
    "np.array_split(ad,4)"
   ]
  },
  {
   "cell_type": "code",
   "execution_count": 196,
   "id": "25857876-15b9-4ef2-b4df-ebf542ea83be",
   "metadata": {},
   "outputs": [
    {
     "data": {
      "text/plain": [
       "[array([45]),\n",
       " array([66]),\n",
       " array([78]),\n",
       " array([98]),\n",
       " array([], dtype=int32),\n",
       " array([], dtype=int32),\n",
       " array([], dtype=int32)]"
      ]
     },
     "execution_count": 196,
     "metadata": {},
     "output_type": "execute_result"
    }
   ],
   "source": [
    "np.array_split(ad,7)"
   ]
  },
  {
   "cell_type": "code",
   "execution_count": 224,
   "id": "ee10cf76-4215-4367-b12f-e9cdff47414b",
   "metadata": {},
   "outputs": [],
   "source": [
    "ac=np.array(([45, 67], [90, 67], [89, 77], [75,900], [95, 955]))"
   ]
  },
  {
   "cell_type": "code",
   "execution_count": 216,
   "id": "b675ae2b-10d4-4f25-85a5-129989032103",
   "metadata": {},
   "outputs": [
    {
     "data": {
      "text/plain": [
       "[array([[45],\n",
       "        [90],\n",
       "        [89],\n",
       "        [75],\n",
       "        [95]]),\n",
       " array([[ 67],\n",
       "        [ 67],\n",
       "        [ 77],\n",
       "        [900],\n",
       "        [955]])]"
      ]
     },
     "execution_count": 216,
     "metadata": {},
     "output_type": "execute_result"
    }
   ],
   "source": [
    "np.hsplit(ac,2)"
   ]
  },
  {
   "cell_type": "markdown",
   "id": "f48af62d-b48f-4a18-abd4-f3d4c69be7e1",
   "metadata": {},
   "source": [
    "## Search"
   ]
  },
  {
   "cell_type": "code",
   "execution_count": 231,
   "id": "fee5c3ff-5380-4d0d-9641-54f7e430c683",
   "metadata": {},
   "outputs": [
    {
     "data": {
      "text/plain": [
       "(array([2], dtype=int64), array([1], dtype=int64))"
      ]
     },
     "execution_count": 231,
     "metadata": {},
     "output_type": "execute_result"
    }
   ],
   "source": [
    "am=np.array(([45, 67], [90, 67], [89, 77], [75,900], [95, 955]))\n",
    "np.where(am==77)"
   ]
  },
  {
   "cell_type": "markdown",
   "id": "367b3a32-7910-4b91-9545-9e434e7dd773",
   "metadata": {},
   "source": [
    "## Sort"
   ]
  },
  {
   "cell_type": "code",
   "execution_count": 234,
   "id": "74bf08c0-1094-456f-9eab-7d748b1dddad",
   "metadata": {},
   "outputs": [
    {
     "data": {
      "text/plain": [
       "array([[ 45,  67],\n",
       "       [ 67,  90],\n",
       "       [ 77,  89],\n",
       "       [ 75, 900],\n",
       "       [ 95, 955]])"
      ]
     },
     "execution_count": 234,
     "metadata": {},
     "output_type": "execute_result"
    }
   ],
   "source": [
    "np.sort(am)"
   ]
  },
  {
   "cell_type": "code",
   "execution_count": null,
   "id": "2df93c05-9b4d-4901-8194-6c62fd6e8dc8",
   "metadata": {},
   "outputs": [],
   "source": []
  }
 ],
 "metadata": {
  "kernelspec": {
   "display_name": "Python 3 (ipykernel)",
   "language": "python",
   "name": "python3"
  },
  "language_info": {
   "codemirror_mode": {
    "name": "ipython",
    "version": 3
   },
   "file_extension": ".py",
   "mimetype": "text/x-python",
   "name": "python",
   "nbconvert_exporter": "python",
   "pygments_lexer": "ipython3",
   "version": "3.12.4"
  }
 },
 "nbformat": 4,
 "nbformat_minor": 5
}
