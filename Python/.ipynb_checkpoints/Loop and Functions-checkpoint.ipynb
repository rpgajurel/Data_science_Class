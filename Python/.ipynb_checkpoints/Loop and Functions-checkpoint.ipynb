{
 "cells": [
  {
   "cell_type": "markdown",
   "id": "a910ffb7-1e81-4e07-b4cf-10785685d0c1",
   "metadata": {},
   "source": [
    "# While Loop"
   ]
  },
  {
   "cell_type": "code",
   "execution_count": 11,
   "id": "b805eb81-7aa5-4077-97d1-060a16b101ce",
   "metadata": {},
   "outputs": [
    {
     "name": "stdout",
     "output_type": "stream",
     "text": [
      "0 is an even number \n",
      "1 is an odd number \n",
      "2 is an even number \n",
      "3 is an odd number \n",
      "4 is an even number \n",
      "5 is an odd number \n",
      "6 is an even number \n",
      "7 is an odd number \n",
      "8 is an even number \n",
      "9 is an odd number \n",
      "10 is an even number \n",
      "11 is an odd number \n",
      "12 is an even number \n",
      "13 is an odd number \n",
      "14 is an even number \n"
     ]
    }
   ],
   "source": [
    "#% is for divide\n",
    "a = 0\n",
    "while a<15:\n",
    "    if a%2==0:\n",
    "        print(f'{a} is an even number ')\n",
    "        a+=1\n",
    "    else: \n",
    "        print(f'{a} is an odd number ')\n",
    "        a+=1"
   ]
  },
  {
   "cell_type": "code",
   "execution_count": 23,
   "id": "d0292fb8-6c77-405f-a37f-10cef64e5c29",
   "metadata": {},
   "outputs": [
    {
     "name": "stdout",
     "output_type": "stream",
     "text": [
      "50\n",
      "116\n",
      "194\n",
      "284\n",
      "404\n"
     ]
    }
   ],
   "source": [
    "#it is like an bill amount \n",
    "bill = [45, 66, 78, 90, 120]\n",
    "total_bill = 5\n",
    "for a in bill:\n",
    "    total_bill+=a\n",
    "    print(total_bill)\n"
   ]
  },
  {
   "cell_type": "code",
   "execution_count": 29,
   "id": "3ea12699-ae6a-46ee-840f-5c68390acbd0",
   "metadata": {},
   "outputs": [
    {
     "name": "stdout",
     "output_type": "stream",
     "text": [
      "The total bill is 404\n",
      "The average of many spent is 80.8\n"
     ]
    }
   ],
   "source": [
    "#it is like a bill amount \n",
    "bill = [45, 66, 78, 90, 120]\n",
    "total_bill = 5\n",
    "for a in bill:\n",
    "    total_bill+=a\n",
    "print(f'The total bill is {total_bill}')\n",
    "print(f'The average of many spent is {total_bill/len(bill)}')\n"
   ]
  },
  {
   "cell_type": "code",
   "execution_count": 33,
   "id": "2cee83fc-d14f-4566-b154-91a8980e551e",
   "metadata": {},
   "outputs": [
    {
     "name": "stdout",
     "output_type": "stream",
     "text": [
      "0\n",
      "1\n",
      "3\n",
      "6\n",
      "10\n",
      "15\n"
     ]
    }
   ],
   "source": [
    "#1. Sum of N Natural Numbers (For Loop)\n",
    "# Write a Python program to calculate the sum of the first n natural numbers using a for loop. Example: Input: 5 Output: 15\n",
    "num = 5\n",
    "sum = 0\n",
    "for r in range(num+1):\n",
    "    sum+=r\n",
    "    print(sum)"
   ]
  },
  {
   "cell_type": "code",
   "execution_count": 37,
   "id": "5b98a30b-0c42-4882-b7a8-53a77762834e",
   "metadata": {},
   "outputs": [
    {
     "name": "stdin",
     "output_type": "stream",
     "text": [
      "Enter the number till which you want the sum 10\n"
     ]
    },
    {
     "name": "stdout",
     "output_type": "stream",
     "text": [
      "The sum of the number 10 is 55\n"
     ]
    }
   ],
   "source": [
    "#1. Sum of N Natural Numbers (For Loop)\n",
    "# Write a Python program to calculate the sum of the first n natural numbers using a for loop. Example: Input: 5 Output: 15\n",
    "num = int(input('Enter the number till which you want the sum'))\n",
    "sum = 0\n",
    "for i in range(num+1):\n",
    "    sum = sum+i\n",
    "print(f'The sum of the number {num} is {sum}')\n",
    "    "
   ]
  },
  {
   "cell_type": "code",
   "execution_count": 47,
   "id": "0065e04f-d66f-4b73-9452-69d65349ba64",
   "metadata": {},
   "outputs": [
    {
     "name": "stdin",
     "output_type": "stream",
     "text": [
      "Enter the number till which you want the factorial:  4\n"
     ]
    },
    {
     "name": "stdout",
     "output_type": "stream",
     "text": [
      "24\n"
     ]
    }
   ],
   "source": [
    "# . Factorial Calculation (While Loop) ## factorial multiply vakole 0 narakhne \n",
    "#Write a Python ##program to find the factorial of a given number using a while loop. Example: Input: 4 Output: \n",
    "num1 = int(input('Enter the number till which you want the factorial: '))\n",
    "factorial = 1\n",
    "for i in range(1, num1+1):\n",
    "    factorial=factorial*i\n",
    "print(factorial)\n"
   ]
  },
  {
   "cell_type": "code",
   "execution_count": 51,
   "id": "10039a95-374f-49b0-b458-1317e0ac36e1",
   "metadata": {},
   "outputs": [
    {
     "name": "stdin",
     "output_type": "stream",
     "text": [
      "Enter the string that you want to reverse:  RAM\n"
     ]
    },
    {
     "name": "stdout",
     "output_type": "stream",
     "text": [
      "MAR\n"
     ]
    }
   ],
   "source": [
    "#4. Reverse a String (While Loop)\n",
    "#Write a Python program that reverses a given string using a while loop. Example: Input: \"hello\" Output: \"olleh\"\n",
    "#for loop \n",
    "string=input('Enter the string that you want to reverse: ')\n",
    "e_str=\"\"\n",
    "for i in string:\n",
    "    e_str=i + e_str\n",
    "print (e_str)"
   ]
  },
  {
   "cell_type": "code",
   "execution_count": 1,
   "id": "b8acb289-094f-40c1-ad62-e11f815a23f1",
   "metadata": {},
   "outputs": [
    {
     "name": "stdin",
     "output_type": "stream",
     "text": [
      "Enter the string that you want to reverse:  RAM\n"
     ]
    },
    {
     "name": "stdout",
     "output_type": "stream",
     "text": [
      "MAR\n"
     ]
    }
   ],
   "source": [
    "#While loop \n",
    "string=input('Enter the string that you want to reverse: ')\n",
    "e_str=\"\"\n",
    "a = 0\n",
    "while a<len(string):\n",
    "    e_str=string[a] + e_str\n",
    "    a = a+1\n",
    "print (e_str)"
   ]
  },
  {
   "cell_type": "markdown",
   "id": "ff11b232-95fd-4184-8659-fcee5f9ee010",
   "metadata": {},
   "source": [
    "## Break and Continue "
   ]
  },
  {
   "cell_type": "code",
   "execution_count": 1,
   "id": "4e4f3cc1-9224-4669-aa13-fcca4493acab",
   "metadata": {},
   "outputs": [
    {
     "name": "stdout",
     "output_type": "stream",
     "text": [
      "0\n",
      "1\n",
      "2\n"
     ]
    }
   ],
   "source": [
    "##loop lai break garne \n",
    "a=0\n",
    "while a<10:\n",
    "    if a == 3:\n",
    "        break\n",
    "    else: \n",
    "        print(f'{a}')\n",
    "        a+=1      "
   ]
  },
  {
   "cell_type": "code",
   "execution_count": 3,
   "id": "31ae1602-8462-424e-bfd3-47f7f88c7986",
   "metadata": {},
   "outputs": [
    {
     "name": "stdout",
     "output_type": "stream",
     "text": [
      "0\n",
      "1\n",
      "2\n",
      "4\n",
      "5\n",
      "6\n",
      "7\n",
      "8\n",
      "9\n"
     ]
    }
   ],
   "source": [
    "#contineou le skip gardinxa \n",
    "a=0\n",
    "while a<10:\n",
    "    if a == 3:\n",
    "        a+=1\n",
    "        continue\n",
    "    else: \n",
    "        print(f'{a}')\n",
    "        a+=1   "
   ]
  },
  {
   "cell_type": "code",
   "execution_count": 7,
   "id": "b50b3e35-694c-4b3b-9761-8b700c18f327",
   "metadata": {},
   "outputs": [
    {
     "name": "stdin",
     "output_type": "stream",
     "text": [
      "Enter a number between 1 and 3:  2\n"
     ]
    },
    {
     "name": "stdout",
     "output_type": "stream",
     "text": [
      "Two\n"
     ]
    }
   ],
   "source": [
    "# simple match case statement\n",
    "def runMatch():\n",
    "    num = int(input(\"Enter a number between 1 and 3: \"))\n",
    "    \n",
    "    # match case\n",
    "    match num:\n",
    "        # pattern 1\n",
    "        case 1:\n",
    "            print(\"One\")\n",
    "        # pattern 2\n",
    "        case 2:\n",
    "            print(\"Two\")\n",
    "        # pattern 3\n",
    "        case 3:\n",
    "            print(\"Three\")\n",
    "        # default pattern\n",
    "        case _:\n",
    "            print(\"Number not between 1 and 3\")\n",
    "            \n",
    "runMatch()"
   ]
  },
  {
   "cell_type": "markdown",
   "id": "54c1047f-8d2a-4e47-879e-589cb9de3f89",
   "metadata": {},
   "source": [
    "# Functions "
   ]
  },
  {
   "cell_type": "code",
   "execution_count": 2,
   "id": "759f457d-446d-458b-9196-3380a6514cce",
   "metadata": {},
   "outputs": [],
   "source": [
    "#call\n",
    "def add():\n",
    "    print('The function is working')"
   ]
  },
  {
   "cell_type": "code",
   "execution_count": 4,
   "id": "025142bb-f4dc-4942-84e0-897726c4d46f",
   "metadata": {},
   "outputs": [
    {
     "name": "stdout",
     "output_type": "stream",
     "text": [
      "The function is working\n"
     ]
    }
   ],
   "source": [
    "add()"
   ]
  },
  {
   "cell_type": "code",
   "execution_count": 6,
   "id": "7d59e48f-70dc-4e38-83e9-a3c3cca87a24",
   "metadata": {},
   "outputs": [],
   "source": [
    "#argument pass \n",
    "def test(a, b, c, d, e):\n",
    "    x=a+b-c\n",
    "    y =x+d+e\n",
    "    print(y)"
   ]
  },
  {
   "cell_type": "code",
   "execution_count": 8,
   "id": "b2e6f772-f648-4dff-8c2f-128303ddec2d",
   "metadata": {},
   "outputs": [
    {
     "name": "stdout",
     "output_type": "stream",
     "text": [
      "55\n"
     ]
    }
   ],
   "source": [
    "test(45,60,70,10,10)"
   ]
  },
  {
   "cell_type": "code",
   "execution_count": 10,
   "id": "af6d2b86-187b-4606-bdf6-1a2a63f91fc0",
   "metadata": {},
   "outputs": [
    {
     "name": "stdout",
     "output_type": "stream",
     "text": [
      "330\n"
     ]
    }
   ],
   "source": [
    "test(100,200,250,130,150)"
   ]
  },
  {
   "cell_type": "markdown",
   "id": "42c3ff7c-9689-4bd7-ba51-851e84b4cce4",
   "metadata": {},
   "source": [
    "### Argument and parameters"
   ]
  },
  {
   "cell_type": "code",
   "execution_count": 13,
   "id": "80b8d959-c970-4954-8042-463c70147d0b",
   "metadata": {},
   "outputs": [],
   "source": [
    "#argument diff for difference, def = define \n",
    "def diff(x,y):\n",
    "    print(x-y)"
   ]
  },
  {
   "cell_type": "code",
   "execution_count": 15,
   "id": "9039ea2b-697c-4d43-bf11-663e698a19cf",
   "metadata": {},
   "outputs": [
    {
     "name": "stdout",
     "output_type": "stream",
     "text": [
      "16\n"
     ]
    }
   ],
   "source": [
    "#parameters \n",
    "diff(20, 4)"
   ]
  },
  {
   "cell_type": "code",
   "execution_count": 18,
   "id": "8cb35fb9-8b59-44b3-97dd-03bc02a161c4",
   "metadata": {},
   "outputs": [],
   "source": [
    "#dherai vaya pani milayara argument anusar pass gardaxa \n",
    "def test(*val):\n",
    "    x=val[0] - val[1]\n",
    "    y =x-val[2]+val[3]+val[4]\n",
    "    print(y)"
   ]
  },
  {
   "cell_type": "code",
   "execution_count": 38,
   "id": "00d4ce8c-1221-4065-b9b4-f87ed6c9aa7b",
   "metadata": {},
   "outputs": [
    {
     "name": "stdout",
     "output_type": "stream",
     "text": [
      "60\n"
     ]
    }
   ],
   "source": [
    "test(70, 60, 70, 90, 30, 20)"
   ]
  },
  {
   "cell_type": "code",
   "execution_count": 62,
   "id": "5830b0c7-1bcb-45c7-89bc-65e7dd0d1c93",
   "metadata": {},
   "outputs": [],
   "source": [
    "#tuple ma lagxa  \n",
    "def test (*val):\n",
    "    print(val[0])\n",
    "    print(val[1])\n",
    "    print(val[2])"
   ]
  },
  {
   "cell_type": "code",
   "execution_count": 64,
   "id": "71d62606-8864-45c7-886f-db84d722c77f",
   "metadata": {},
   "outputs": [
    {
     "name": "stdout",
     "output_type": "stream",
     "text": [
      "40\n",
      "60\n",
      "70\n"
     ]
    }
   ],
   "source": [
    "test(40, 60, 70, 80, 90)"
   ]
  },
  {
   "cell_type": "code",
   "execution_count": 58,
   "id": "c3438a0a-ddf8-4153-ba82-7a43cc5a7da4",
   "metadata": {},
   "outputs": [],
   "source": [
    "#dictionary case ma lagne \n",
    "def test(**val):\n",
    "    print(val['name'], val['age'], val['city)"
   ]
  },
  {
   "cell_type": "code",
   "execution_count": 60,
   "id": "efe9d6cc-8bf0-4b9e-80ea-b6e6466f9712",
   "metadata": {},
   "outputs": [
    {
     "name": "stdout",
     "output_type": "stream",
     "text": [
      "Ram 27 Kathmandu\n"
     ]
    }
   ],
   "source": [
    "test (name = 'Ram', age = 27, city='Kathmandu')"
   ]
  },
  {
   "cell_type": "code",
   "execution_count": 72,
   "id": "e2b954c5-4b15-4752-97f2-6b4332b94021",
   "metadata": {},
   "outputs": [],
   "source": [
    "def status(city='Kathmandu', name = 'Ram', age = 27):\n",
    "    print(f'I live {city}. I am {name} and my age is {age}')"
   ]
  },
  {
   "cell_type": "code",
   "execution_count": 74,
   "id": "648cc370-2079-4e39-9678-76b0e3a8f230",
   "metadata": {},
   "outputs": [
    {
     "name": "stdout",
     "output_type": "stream",
     "text": [
      "I live Kathmandu. I am Ram and my age is 27\n"
     ]
    }
   ],
   "source": [
    "status()"
   ]
  },
  {
   "cell_type": "code",
   "execution_count": null,
   "id": "834fbf7e-68ba-402b-97a9-40b0ce723fd3",
   "metadata": {},
   "outputs": [],
   "source": [
    "status('Nuwakot', 'Sita', 24)"
   ]
  },
  {
   "cell_type": "code",
   "execution_count": 66,
   "id": "9b1d1746-47f1-4b7e-92be-dfbaa9b386d7",
   "metadata": {},
   "outputs": [],
   "source": [
    "def test(*args):\n",
    "    for i in args:\n",
    "        print()"
   ]
  },
  {
   "cell_type": "code",
   "execution_count": 68,
   "id": "d20e2563-f2e6-4381-8a8f-58d13d6fc0bb",
   "metadata": {},
   "outputs": [
    {
     "name": "stdout",
     "output_type": "stream",
     "text": [
      "3\n",
      "4\n",
      "7\n",
      "90\n",
      "89\n",
      "70\n",
      "65\n",
      "77\n"
     ]
    }
   ],
   "source": [
    "test (3, 4, 7, 90, 89, 70, 65, 77)"
   ]
  },
  {
   "cell_type": "code",
   "execution_count": 88,
   "id": "d5470790-2468-48dd-8547-ede498418bf5",
   "metadata": {},
   "outputs": [],
   "source": [
    "#key and value both can print as dictionary \n",
    "def test(**args):\n",
    "    for i,j in args.items():\n",
    "        print(i,j)"
   ]
  },
  {
   "cell_type": "code",
   "execution_count": 90,
   "id": "13121e6b-e431-4a71-a12f-c84dbd96e3a2",
   "metadata": {},
   "outputs": [
    {
     "name": "stdout",
     "output_type": "stream",
     "text": [
      "name Ram\n",
      "age 27\n",
      "city Jhapa\n"
     ]
    }
   ],
   "source": [
    "test(name='Ram', age = 27, city = 'Jhapa')"
   ]
  },
  {
   "cell_type": "code",
   "execution_count": 46,
   "id": "36e16927-675e-4c6a-9892-0c58d3c6bc06",
   "metadata": {},
   "outputs": [],
   "source": [
    "def status(city, name, age = 27):\n",
    "    print(f'I live {city}. I am {name} and my age is {age}')"
   ]
  },
  {
   "cell_type": "code",
   "execution_count": 48,
   "id": "bed8f51e-3f82-4624-9268-af2672e248de",
   "metadata": {},
   "outputs": [
    {
     "name": "stdout",
     "output_type": "stream",
     "text": [
      "I live Jhapa. I am Ram and my age is 27\n"
     ]
    }
   ],
   "source": [
    "status(name='Ram', city = 'Jhapa')"
   ]
  },
  {
   "cell_type": "code",
   "execution_count": 100,
   "id": "26f738ec-6ac5-43e1-b753-c9aed2f95632",
   "metadata": {},
   "outputs": [
    {
     "name": "stdin",
     "output_type": "stream",
     "text": [
      "Enter the principle amount in NPR 1000000\n",
      "Enter the yearly rate of interest 21\n",
      "Enter the time in year 2\n"
     ]
    },
    {
     "name": "stdout",
     "output_type": "stream",
     "text": [
      "Your interest of the given amount is 420000.0\n"
     ]
    }
   ],
   "source": [
    "#write a program to calculate the interest \n",
    "def inte_pro(p,t,r):\n",
    "    i=(p*t*r)/100\n",
    "    print(f'Your interest of the given amount is {i}')\n",
    "p=int(input('Enter the principle amount in NPR'))\n",
    "r=int(input('Enter the yearly rate of interest'))\n",
    "t= int(input('Enter the time in year'))\n",
    "inte_pro(p,t,r)"
   ]
  },
  {
   "cell_type": "code",
   "execution_count": null,
   "id": "c68fd2d4-a32f-444e-a49d-7f4fdbd8b19b",
   "metadata": {},
   "outputs": [],
   "source": []
  }
 ],
 "metadata": {
  "kernelspec": {
   "display_name": "Python 3 (ipykernel)",
   "language": "python",
   "name": "python3"
  },
  "language_info": {
   "codemirror_mode": {
    "name": "ipython",
    "version": 3
   },
   "file_extension": ".py",
   "mimetype": "text/x-python",
   "name": "python",
   "nbconvert_exporter": "python",
   "pygments_lexer": "ipython3",
   "version": "3.12.4"
  }
 },
 "nbformat": 4,
 "nbformat_minor": 5
}
