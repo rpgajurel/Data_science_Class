{
 "cells": [
  {
   "cell_type": "raw",
   "id": "3dee7a84-45c2-4014-b9f0-081034f39a66",
   "metadata": {},
   "source": [
    "1. Write a Python function greet(name) that takes a name as an argument and prints a greeting message."
   ]
  },
  {
   "cell_type": "code",
   "execution_count": 7,
   "id": "38dd8779-0ed7-474a-ac78-fbe7a770e4d6",
   "metadata": {},
   "outputs": [],
   "source": [
    "def greet(name): \n",
    "    print('Hello,', name) "
   ]
  },
  {
   "cell_type": "code",
   "execution_count": 11,
   "id": "38739a1c-96ce-498f-a1b9-6c69b1e21bcb",
   "metadata": {},
   "outputs": [
    {
     "name": "stdout",
     "output_type": "stream",
     "text": [
      "Hello, John\n"
     ]
    }
   ],
   "source": [
    "greet('John')"
   ]
  },
  {
   "cell_type": "code",
   "execution_count": 13,
   "id": "96dded51-3b92-4296-9baa-dc6b4f9dac4f",
   "metadata": {},
   "outputs": [],
   "source": [
    "name = 'Friends we are learning python. It is preety interesting but we can not practice to much as we require'"
   ]
  },
  {
   "cell_type": "code",
   "execution_count": 19,
   "id": "411d7706-c471-4e52-8873-56ab8207366e",
   "metadata": {},
   "outputs": [
    {
     "name": "stdout",
     "output_type": "stream",
     "text": [
      "Hello! Friends we are learning python. It is preety interesting but we can not practice to much as we require\n"
     ]
    }
   ],
   "source": [
    "print('Hello!', name)"
   ]
  },
  {
   "cell_type": "raw",
   "id": "fe366bab-2d74-4938-90d3-507981e7f7dc",
   "metadata": {},
   "source": [
    " 2. Write a function factorial(n) to calculate the factorial of a number using recursion."
   ]
  },
  {
   "cell_type": "code",
   "execution_count": 23,
   "id": "253d44f2-d20f-433d-bc9a-ab991397016d",
   "metadata": {},
   "outputs": [
    {
     "name": "stdin",
     "output_type": "stream",
     "text": [
      "Input a number to compute the factorial:  8\n"
     ]
    },
    {
     "name": "stdout",
     "output_type": "stream",
     "text": [
      "40320\n"
     ]
    }
   ],
   "source": [
    "# Define a function named 'factorial' that calculates the factorial of a number 'n'\n",
    "def factorial(n):\n",
    "    # Check if the number 'n' is 0\n",
    "    if n == 0:\n",
    "        # If 'n' is 0, return 1 (factorial of 0 is 1)\n",
    "        return 1\n",
    "    else:\n",
    "        # If 'n' is not 0, recursively call the 'factorial' function with (n-1) and multiply it with 'n'\n",
    "        return n * factorial(n - 1)\n",
    "\n",
    "# Ask the user to input a number to compute its factorial and store it in variable 'n'\n",
    "n = int(input(\"Input a number to compute the factorial: \"))\n",
    "\n",
    "# Print the factorial of the number entered by the user by calling the 'factorial' function\n",
    "print(factorial(n))"
   ]
  },
  {
   "cell_type": "code",
   "execution_count": null,
   "id": "12e5afe9-58a5-4da2-929c-7a46d8f98e6c",
   "metadata": {},
   "outputs": [],
   "source": []
  }
 ],
 "metadata": {
  "kernelspec": {
   "display_name": "Python 3 (ipykernel)",
   "language": "python",
   "name": "python3"
  },
  "language_info": {
   "codemirror_mode": {
    "name": "ipython",
    "version": 3
   },
   "file_extension": ".py",
   "mimetype": "text/x-python",
   "name": "python",
   "nbconvert_exporter": "python",
   "pygments_lexer": "ipython3",
   "version": "3.12.4"
  }
 },
 "nbformat": 4,
 "nbformat_minor": 5
}
