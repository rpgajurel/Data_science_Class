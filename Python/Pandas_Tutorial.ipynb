{
 "cells": [
  {
   "cell_type": "code",
   "execution_count": 25,
   "id": "301611de-16de-47df-800e-bb5c1ad8d782",
   "metadata": {},
   "outputs": [],
   "source": [
    "#pandas library\n",
    "import pandas as pd"
   ]
  },
  {
   "cell_type": "code",
   "execution_count": 29,
   "id": "0d402fcb-7d5a-46c1-87d2-668cb6cada1a",
   "metadata": {},
   "outputs": [],
   "source": [
    "#data series create. use capita S for series\n",
    "ser=pd.Series(['a', 'b', 'c', 'd', 'e'], [1, 2, 3, 4, 5])"
   ]
  },
  {
   "cell_type": "code",
   "execution_count": 31,
   "id": "5fad4d1a-b485-4d6f-b4fe-049f9d9a6b87",
   "metadata": {},
   "outputs": [
    {
     "name": "stdout",
     "output_type": "stream",
     "text": [
      "1    a\n",
      "2    b\n",
      "3    c\n",
      "4    d\n",
      "5    e\n",
      "dtype: object\n"
     ]
    }
   ],
   "source": [
    "print (ser)"
   ]
  },
  {
   "cell_type": "code",
   "execution_count": 33,
   "id": "bee214ac-779e-46c7-b5e5-18fdf829324e",
   "metadata": {},
   "outputs": [
    {
     "data": {
      "text/plain": [
       "Index([1, 2, 3, 4, 5], dtype='int64')"
      ]
     },
     "execution_count": 33,
     "metadata": {},
     "output_type": "execute_result"
    }
   ],
   "source": [
    "ser.index"
   ]
  },
  {
   "cell_type": "code",
   "execution_count": 39,
   "id": "09201fbc-9177-4054-a00f-970c617aad6d",
   "metadata": {},
   "outputs": [
    {
     "data": {
      "text/plain": [
       "4    d\n",
       "5    e\n",
       "dtype: object"
      ]
     },
     "execution_count": 39,
     "metadata": {},
     "output_type": "execute_result"
    }
   ],
   "source": [
    "ser.loc[[4,5]]"
   ]
  },
  {
   "cell_type": "code",
   "execution_count": 43,
   "id": "380af042-bbdf-4da9-b691-4efec6882149",
   "metadata": {},
   "outputs": [
    {
     "data": {
      "text/plain": [
       "1    a\n",
       "4    d\n",
       "5    e\n",
       "dtype: object"
      ]
     },
     "execution_count": 43,
     "metadata": {},
     "output_type": "execute_result"
    }
   ],
   "source": [
    "ser[[1,4,5]]"
   ]
  },
  {
   "cell_type": "code",
   "execution_count": 45,
   "id": "687d9302-a654-4010-ae26-340fba04068b",
   "metadata": {},
   "outputs": [
    {
     "data": {
      "text/plain": [
       "'d'"
      ]
     },
     "execution_count": 45,
     "metadata": {},
     "output_type": "execute_result"
    }
   ],
   "source": [
    "ser.iloc[3]"
   ]
  },
  {
   "cell_type": "code",
   "execution_count": 47,
   "id": "70d718ce-6666-45bc-85ef-ed36507f0b9a",
   "metadata": {},
   "outputs": [
    {
     "data": {
      "text/plain": [
       "1    aaaaaaaaaaaaaaaaaaaa\n",
       "dtype: object"
      ]
     },
     "execution_count": 47,
     "metadata": {},
     "output_type": "execute_result"
    }
   ],
   "source": [
    "ser [[1]]*20"
   ]
  },
  {
   "cell_type": "markdown",
   "id": "9b76cf44-c207-4178-92f9-a734d5f420d9",
   "metadata": {},
   "source": [
    "## Dataframe"
   ]
  },
  {
   "cell_type": "code",
   "execution_count": 66,
   "id": "a02897d3-ade7-4463-b8b6-0bca6677003b",
   "metadata": {},
   "outputs": [],
   "source": [
    "a = {'one':pd.Series([10,20,30,40,50]),\n",
    "     'two':pd.Series([-10, -20, -30, -40, -50]) \n",
    "    }"
   ]
  },
  {
   "cell_type": "code",
   "execution_count": 68,
   "id": "02af28f6-5973-4d07-ab3b-2d3b3776cdd2",
   "metadata": {},
   "outputs": [],
   "source": [
    "df = pd.DataFrame(a)"
   ]
  },
  {
   "cell_type": "code",
   "execution_count": 72,
   "id": "c4ebe50c-3dae-40c1-bc93-f1a822dd8ad8",
   "metadata": {},
   "outputs": [
    {
     "name": "stdout",
     "output_type": "stream",
     "text": [
      "   one  two\n",
      "0   10  -10\n",
      "1   20  -20\n",
      "2   30  -30\n",
      "3   40  -40\n",
      "4   50  -50\n"
     ]
    }
   ],
   "source": [
    "print(df)"
   ]
  },
  {
   "cell_type": "code",
   "execution_count": 74,
   "id": "43859cf2-16a5-4c0c-b0a9-63f4cfd88368",
   "metadata": {},
   "outputs": [],
   "source": [
    "a = {'one':pd.Series([10,20,30,40,50], index = ['a','b','c','d','e']),\n",
    "     'two':pd.Series([-10, -20, -30, -40, -50], index = ['a','b','c','d','e']) \n",
    "    }"
   ]
  },
  {
   "cell_type": "code",
   "execution_count": 76,
   "id": "bbbdf20e-3c30-46aa-a46c-5ba274d06159",
   "metadata": {},
   "outputs": [],
   "source": [
    "df=pd.DataFrame(a)"
   ]
  },
  {
   "cell_type": "code",
   "execution_count": 78,
   "id": "1d19ed62-e172-46de-8704-e75f66d625f4",
   "metadata": {},
   "outputs": [
    {
     "name": "stdout",
     "output_type": "stream",
     "text": [
      "   one  two\n",
      "a   10  -10\n",
      "b   20  -20\n",
      "c   30  -30\n",
      "d   40  -40\n",
      "e   50  -50\n"
     ]
    }
   ],
   "source": [
    "print(df)"
   ]
  },
  {
   "cell_type": "code",
   "execution_count": 80,
   "id": "dc5afcc2-ae1c-4271-9808-ca51f6ce5f12",
   "metadata": {},
   "outputs": [
    {
     "data": {
      "text/html": [
       "<div>\n",
       "<style scoped>\n",
       "    .dataframe tbody tr th:only-of-type {\n",
       "        vertical-align: middle;\n",
       "    }\n",
       "\n",
       "    .dataframe tbody tr th {\n",
       "        vertical-align: top;\n",
       "    }\n",
       "\n",
       "    .dataframe thead th {\n",
       "        text-align: right;\n",
       "    }\n",
       "</style>\n",
       "<table border=\"1\" class=\"dataframe\">\n",
       "  <thead>\n",
       "    <tr style=\"text-align: right;\">\n",
       "      <th></th>\n",
       "      <th>one</th>\n",
       "      <th>two</th>\n",
       "    </tr>\n",
       "  </thead>\n",
       "  <tbody>\n",
       "    <tr>\n",
       "      <th>a</th>\n",
       "      <td>10</td>\n",
       "      <td>-10</td>\n",
       "    </tr>\n",
       "    <tr>\n",
       "      <th>b</th>\n",
       "      <td>20</td>\n",
       "      <td>-20</td>\n",
       "    </tr>\n",
       "    <tr>\n",
       "      <th>c</th>\n",
       "      <td>30</td>\n",
       "      <td>-30</td>\n",
       "    </tr>\n",
       "    <tr>\n",
       "      <th>d</th>\n",
       "      <td>40</td>\n",
       "      <td>-40</td>\n",
       "    </tr>\n",
       "    <tr>\n",
       "      <th>e</th>\n",
       "      <td>50</td>\n",
       "      <td>-50</td>\n",
       "    </tr>\n",
       "  </tbody>\n",
       "</table>\n",
       "</div>"
      ],
      "text/plain": [
       "   one  two\n",
       "a   10  -10\n",
       "b   20  -20\n",
       "c   30  -30\n",
       "d   40  -40\n",
       "e   50  -50"
      ]
     },
     "execution_count": 80,
     "metadata": {},
     "output_type": "execute_result"
    }
   ],
   "source": [
    "df"
   ]
  },
  {
   "cell_type": "code",
   "execution_count": 82,
   "id": "66a32482-9eeb-40ae-b5c8-46bb4c0b00a7",
   "metadata": {},
   "outputs": [
    {
     "data": {
      "text/plain": [
       "Index(['a', 'b', 'c', 'd', 'e'], dtype='object')"
      ]
     },
     "execution_count": 82,
     "metadata": {},
     "output_type": "execute_result"
    }
   ],
   "source": [
    "df.index"
   ]
  },
  {
   "cell_type": "code",
   "execution_count": 84,
   "id": "a0406853-9fc3-49f3-a263-3e838c353835",
   "metadata": {},
   "outputs": [
    {
     "data": {
      "text/html": [
       "<div>\n",
       "<style scoped>\n",
       "    .dataframe tbody tr th:only-of-type {\n",
       "        vertical-align: middle;\n",
       "    }\n",
       "\n",
       "    .dataframe tbody tr th {\n",
       "        vertical-align: top;\n",
       "    }\n",
       "\n",
       "    .dataframe thead th {\n",
       "        text-align: right;\n",
       "    }\n",
       "</style>\n",
       "<table border=\"1\" class=\"dataframe\">\n",
       "  <thead>\n",
       "    <tr style=\"text-align: right;\">\n",
       "      <th></th>\n",
       "      <th>one</th>\n",
       "      <th>two</th>\n",
       "    </tr>\n",
       "  </thead>\n",
       "  <tbody>\n",
       "    <tr>\n",
       "      <th>b</th>\n",
       "      <td>20</td>\n",
       "      <td>-20</td>\n",
       "    </tr>\n",
       "  </tbody>\n",
       "</table>\n",
       "</div>"
      ],
      "text/plain": [
       "   one  two\n",
       "b   20  -20"
      ]
     },
     "execution_count": 84,
     "metadata": {},
     "output_type": "execute_result"
    }
   ],
   "source": [
    "df.loc[['b']]"
   ]
  },
  {
   "cell_type": "code",
   "execution_count": 86,
   "id": "148ac4df-9354-4cfb-b0a6-0e2dfe10e095",
   "metadata": {},
   "outputs": [
    {
     "data": {
      "text/plain": [
       "one    10\n",
       "two   -10\n",
       "Name: a, dtype: int64"
      ]
     },
     "execution_count": 86,
     "metadata": {},
     "output_type": "execute_result"
    }
   ],
   "source": [
    "df.iloc[0]"
   ]
  },
  {
   "cell_type": "code",
   "execution_count": 88,
   "id": "960e0e8a-1982-460b-855f-cec8c027bd80",
   "metadata": {},
   "outputs": [
    {
     "data": {
      "text/plain": [
       "one    40\n",
       "two   -40\n",
       "Name: d, dtype: int64"
      ]
     },
     "execution_count": 88,
     "metadata": {},
     "output_type": "execute_result"
    }
   ],
   "source": [
    "df.iloc[3]"
   ]
  },
  {
   "cell_type": "code",
   "execution_count": 98,
   "id": "92d8ad7e-8a54-4c2d-86cd-fc24b6acf30b",
   "metadata": {},
   "outputs": [],
   "source": [
    "#for not available\n",
    "a = {'one':pd.Series([10,20,30,40,50], index = ['a','b','c','d','e']),\n",
    "     'two':pd.Series([-10, -20, -30, -40, -50], index = ['na','nb','nc','nd','ne']) \n",
    "    }"
   ]
  },
  {
   "cell_type": "code",
   "execution_count": 96,
   "id": "4e2132c1-f2cc-4918-9f69-1cf1df4adbd6",
   "metadata": {},
   "outputs": [
    {
     "data": {
      "text/html": [
       "<div>\n",
       "<style scoped>\n",
       "    .dataframe tbody tr th:only-of-type {\n",
       "        vertical-align: middle;\n",
       "    }\n",
       "\n",
       "    .dataframe tbody tr th {\n",
       "        vertical-align: top;\n",
       "    }\n",
       "\n",
       "    .dataframe thead th {\n",
       "        text-align: right;\n",
       "    }\n",
       "</style>\n",
       "<table border=\"1\" class=\"dataframe\">\n",
       "  <thead>\n",
       "    <tr style=\"text-align: right;\">\n",
       "      <th></th>\n",
       "      <th>one</th>\n",
       "      <th>two</th>\n",
       "    </tr>\n",
       "  </thead>\n",
       "  <tbody>\n",
       "    <tr>\n",
       "      <th>a</th>\n",
       "      <td>10.0</td>\n",
       "      <td>NaN</td>\n",
       "    </tr>\n",
       "    <tr>\n",
       "      <th>b</th>\n",
       "      <td>20.0</td>\n",
       "      <td>NaN</td>\n",
       "    </tr>\n",
       "    <tr>\n",
       "      <th>c</th>\n",
       "      <td>30.0</td>\n",
       "      <td>NaN</td>\n",
       "    </tr>\n",
       "    <tr>\n",
       "      <th>d</th>\n",
       "      <td>40.0</td>\n",
       "      <td>NaN</td>\n",
       "    </tr>\n",
       "    <tr>\n",
       "      <th>e</th>\n",
       "      <td>50.0</td>\n",
       "      <td>NaN</td>\n",
       "    </tr>\n",
       "    <tr>\n",
       "      <th>na</th>\n",
       "      <td>NaN</td>\n",
       "      <td>-10.0</td>\n",
       "    </tr>\n",
       "    <tr>\n",
       "      <th>nb</th>\n",
       "      <td>NaN</td>\n",
       "      <td>-20.0</td>\n",
       "    </tr>\n",
       "    <tr>\n",
       "      <th>nc</th>\n",
       "      <td>NaN</td>\n",
       "      <td>-30.0</td>\n",
       "    </tr>\n",
       "    <tr>\n",
       "      <th>nd</th>\n",
       "      <td>NaN</td>\n",
       "      <td>-40.0</td>\n",
       "    </tr>\n",
       "    <tr>\n",
       "      <th>ne</th>\n",
       "      <td>NaN</td>\n",
       "      <td>-50.0</td>\n",
       "    </tr>\n",
       "  </tbody>\n",
       "</table>\n",
       "</div>"
      ],
      "text/plain": [
       "     one   two\n",
       "a   10.0   NaN\n",
       "b   20.0   NaN\n",
       "c   30.0   NaN\n",
       "d   40.0   NaN\n",
       "e   50.0   NaN\n",
       "na   NaN -10.0\n",
       "nb   NaN -20.0\n",
       "nc   NaN -30.0\n",
       "nd   NaN -40.0\n",
       "ne   NaN -50.0"
      ]
     },
     "execution_count": 96,
     "metadata": {},
     "output_type": "execute_result"
    }
   ],
   "source": [
    "pd.DataFrame(a)"
   ]
  },
  {
   "cell_type": "code",
   "execution_count": 104,
   "id": "277f6fa6-61ce-42dc-a9bc-bd1ef1d663a2",
   "metadata": {},
   "outputs": [],
   "source": [
    "a = {'English':pd.Series([40, 35, 90, 86,55], index = ['RP','Suyog','Hari','Shyam','Indira']),\n",
    "     'Math':pd.Series([10, 44, 70, 60, 78], index = ['RP','Suyog','Hari','Shyam','Indira']), \n",
    "     'Science':pd.Series([20, 5, 0, 90, 80], index = ['RP','Suyog','Hari','Shyam','Indira']), \n",
    "    }"
   ]
  },
  {
   "cell_type": "code",
   "execution_count": 106,
   "id": "a729641a-f40c-41f2-bd30-3e0ad3461c4d",
   "metadata": {},
   "outputs": [],
   "source": [
    "df=pd.DataFrame(a)"
   ]
  },
  {
   "cell_type": "code",
   "execution_count": 108,
   "id": "8549e7e5-5f98-49f1-bb0f-05322d08c91a",
   "metadata": {},
   "outputs": [
    {
     "data": {
      "text/html": [
       "<div>\n",
       "<style scoped>\n",
       "    .dataframe tbody tr th:only-of-type {\n",
       "        vertical-align: middle;\n",
       "    }\n",
       "\n",
       "    .dataframe tbody tr th {\n",
       "        vertical-align: top;\n",
       "    }\n",
       "\n",
       "    .dataframe thead th {\n",
       "        text-align: right;\n",
       "    }\n",
       "</style>\n",
       "<table border=\"1\" class=\"dataframe\">\n",
       "  <thead>\n",
       "    <tr style=\"text-align: right;\">\n",
       "      <th></th>\n",
       "      <th>English</th>\n",
       "      <th>Math</th>\n",
       "      <th>Science</th>\n",
       "    </tr>\n",
       "  </thead>\n",
       "  <tbody>\n",
       "    <tr>\n",
       "      <th>RP</th>\n",
       "      <td>40</td>\n",
       "      <td>10</td>\n",
       "      <td>20</td>\n",
       "    </tr>\n",
       "    <tr>\n",
       "      <th>Suyog</th>\n",
       "      <td>35</td>\n",
       "      <td>44</td>\n",
       "      <td>5</td>\n",
       "    </tr>\n",
       "    <tr>\n",
       "      <th>Hari</th>\n",
       "      <td>90</td>\n",
       "      <td>70</td>\n",
       "      <td>0</td>\n",
       "    </tr>\n",
       "    <tr>\n",
       "      <th>Shyam</th>\n",
       "      <td>86</td>\n",
       "      <td>60</td>\n",
       "      <td>90</td>\n",
       "    </tr>\n",
       "    <tr>\n",
       "      <th>Indira</th>\n",
       "      <td>55</td>\n",
       "      <td>78</td>\n",
       "      <td>80</td>\n",
       "    </tr>\n",
       "  </tbody>\n",
       "</table>\n",
       "</div>"
      ],
      "text/plain": [
       "        English  Math  Science\n",
       "RP           40    10       20\n",
       "Suyog        35    44        5\n",
       "Hari         90    70        0\n",
       "Shyam        86    60       90\n",
       "Indira       55    78       80"
      ]
     },
     "execution_count": 108,
     "metadata": {},
     "output_type": "execute_result"
    }
   ],
   "source": [
    "df"
   ]
  },
  {
   "cell_type": "code",
   "execution_count": 114,
   "id": "235da212-e7b0-486a-815b-73624c4a120b",
   "metadata": {},
   "outputs": [
    {
     "data": {
      "text/html": [
       "<div>\n",
       "<style scoped>\n",
       "    .dataframe tbody tr th:only-of-type {\n",
       "        vertical-align: middle;\n",
       "    }\n",
       "\n",
       "    .dataframe tbody tr th {\n",
       "        vertical-align: top;\n",
       "    }\n",
       "\n",
       "    .dataframe thead th {\n",
       "        text-align: right;\n",
       "    }\n",
       "</style>\n",
       "<table border=\"1\" class=\"dataframe\">\n",
       "  <thead>\n",
       "    <tr style=\"text-align: right;\">\n",
       "      <th></th>\n",
       "      <th>English</th>\n",
       "      <th>Math</th>\n",
       "      <th>Science</th>\n",
       "    </tr>\n",
       "  </thead>\n",
       "  <tbody>\n",
       "    <tr>\n",
       "      <th>Indira</th>\n",
       "      <td>55</td>\n",
       "      <td>78</td>\n",
       "      <td>80</td>\n",
       "    </tr>\n",
       "  </tbody>\n",
       "</table>\n",
       "</div>"
      ],
      "text/plain": [
       "        English  Math  Science\n",
       "Indira       55    78       80"
      ]
     },
     "execution_count": 114,
     "metadata": {},
     "output_type": "execute_result"
    }
   ],
   "source": [
    "df.loc[['Indira']]"
   ]
  },
  {
   "cell_type": "code",
   "execution_count": 136,
   "id": "e20169b9-6f81-413c-8df6-a3c55d22b6d7",
   "metadata": {},
   "outputs": [],
   "source": [
    "R = {'English':([40, 35, 90, 86,55]), \n",
    "     'Math':([10, 44, 70, 60, 78]), \n",
    "     'Science':([20, 5, 0, 90, 80]) \n",
    "    }"
   ]
  },
  {
   "cell_type": "code",
   "execution_count": 142,
   "id": "1fad1098-8de6-44bb-aa92-bde26d969f73",
   "metadata": {},
   "outputs": [
    {
     "ename": "TypeError",
     "evalue": "Series.__init__() got an unexpected keyword argument 'columns'",
     "output_type": "error",
     "traceback": [
      "\u001b[1;31m---------------------------------------------------------------------------\u001b[0m",
      "\u001b[1;31mTypeError\u001b[0m                                 Traceback (most recent call last)",
      "Cell \u001b[1;32mIn[142], line 1\u001b[0m\n\u001b[1;32m----> 1\u001b[0m ad\u001b[38;5;241m=\u001b[39mpd\u001b[38;5;241m.\u001b[39mSeries(R,index\u001b[38;5;241m=\u001b[39m[\u001b[38;5;124m'\u001b[39m\u001b[38;5;124mavi\u001b[39m\u001b[38;5;124m'\u001b[39m,\u001b[38;5;124m'\u001b[39m\u001b[38;5;124mbishal\u001b[39m\u001b[38;5;124m'\u001b[39m,\u001b[38;5;124m'\u001b[39m\u001b[38;5;124mchan\u001b[39m\u001b[38;5;124m'\u001b[39m,\u001b[38;5;124m'\u001b[39m\u001b[38;5;124mdro\u001b[39m\u001b[38;5;124m'\u001b[39m,\u001b[38;5;124m'\u001b[39m\u001b[38;5;124mellle\u001b[39m\u001b[38;5;124m'\u001b[39m],columns\u001b[38;5;241m=\u001b[39m[\u001b[38;5;124m'\u001b[39m\u001b[38;5;124menglish\u001b[39m\u001b[38;5;124m'\u001b[39m,\u001b[38;5;124m'\u001b[39m\u001b[38;5;124mmath\u001b[39m\u001b[38;5;124m'\u001b[39m,\u001b[38;5;124m'\u001b[39m\u001b[38;5;124mscience\u001b[39m\u001b[38;5;124m'\u001b[39m])\n",
      "\u001b[1;31mTypeError\u001b[0m: Series.__init__() got an unexpected keyword argument 'columns'"
     ]
    }
   ],
   "source": [
    "ad=pd.Series(R,index=['avi','bishal','chan','dro','ellle'],columns=['english','math','science'])"
   ]
  },
  {
   "cell_type": "code",
   "execution_count": 140,
   "id": "95e5f2ea-3e55-4c9d-ba91-09af8bd1e1bb",
   "metadata": {},
   "outputs": [
    {
     "name": "stdout",
     "output_type": "stream",
     "text": [
      "       english math science\n",
      "avi        NaN  NaN     NaN\n",
      "bishal     NaN  NaN     NaN\n",
      "chan       NaN  NaN     NaN\n",
      "dro        NaN  NaN     NaN\n",
      "ellle      NaN  NaN     NaN\n"
     ]
    }
   ],
   "source": [
    "print(ad)"
   ]
  },
  {
   "cell_type": "code",
   "execution_count": null,
   "id": "4a527de5-0128-4f99-9b71-3e766e6345fb",
   "metadata": {},
   "outputs": [],
   "source": []
  }
 ],
 "metadata": {
  "kernelspec": {
   "display_name": "Python 3 (ipykernel)",
   "language": "python",
   "name": "python3"
  },
  "language_info": {
   "codemirror_mode": {
    "name": "ipython",
    "version": 3
   },
   "file_extension": ".py",
   "mimetype": "text/x-python",
   "name": "python",
   "nbconvert_exporter": "python",
   "pygments_lexer": "ipython3",
   "version": "3.12.4"
  }
 },
 "nbformat": 4,
 "nbformat_minor": 5
}
